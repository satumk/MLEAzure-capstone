{
  "cells": [
    {
      "cell_type": "markdown",
      "source": [
        "# Automated ML\n",
        "\n",
        "TODO: Import Dependencies. In the cell below, import all the dependencies that you will need to complete the project."
      ],
      "metadata": {}
    },
    {
      "cell_type": "code",
      "source": [
        "import logging\n",
        "import os\n",
        "import csv\n",
        "import pickle\n",
        "import requests\n",
        "import json\n",
        "\n",
        "from matplotlib import pyplot as plt\n",
        "import numpy as np\n",
        "import pandas as pd\n",
        "from sklearn import datasets\n",
        "import pkg_resources\n",
        "from train import clean_data\n",
        "\n",
        "import azureml.core\n",
        "from azureml.core.experiment import Experiment\n",
        "from azureml.core.workspace import Workspace\n",
        "from azureml.train.automl import AutoMLConfig\n",
        "from azureml.core.dataset import Dataset\n",
        "from azureml.widgets import RunDetails\n",
        "from azureml.pipeline.core import PipelineData, TrainingOutput\n",
        "from azureml.pipeline.core import Pipeline\n",
        "from azureml.core.authentication import InteractiveLoginAuthentication\n",
        "from azureml.pipeline.steps import AutoMLStep\n",
        "from azureml.core.compute import AmlCompute\n",
        "from azureml.core.compute import ComputeTarget\n",
        "from azureml.core.compute_target import ComputeTargetException\n",
        "from azureml.core.model import InferenceConfig, Model\n",
        "from azureml.core.webservice import AciWebservice, Webservice\n",
        "from azureml.core.environment import Environment\n",
        "\n",
        "#pip install pyarrow>=0.12.0 --upgrade\n",
        "\n",
        "# Check core SDK version number\n",
        "print(\"SDK version:\", azureml.core.VERSION)"
      ],
      "outputs": [
        {
          "output_type": "stream",
          "name": "stdout",
          "text": [
            "SDK version: 1.20.0\n"
          ]
        }
      ],
      "execution_count": 1,
      "metadata": {
        "gather": {
          "logged": 1612246151003
        },
        "jupyter": {
          "outputs_hidden": false,
          "source_hidden": false
        },
        "nteract": {
          "transient": {
            "deleting": false
          }
        }
      }
    },
    {
      "cell_type": "markdown",
      "source": [
        "## Dataset\n",
        "\n",
        "### Overview\n",
        "TODO: In this markdown cell, give an overview of the dataset you are using. Also mention the task you will be performing.\n",
        "\n",
        "\n",
        "TODO: Get data. In the cell below, write code to access the data you will be using in this project. Remember that the dataset needs to be external."
      ],
      "metadata": {}
    },
    {
      "cell_type": "code",
      "source": [
        "ws = Workspace.from_config()\n",
        "ws.write_config(path='.azureml')\n",
        "\n",
        "# choose a name for experiment\n",
        "experiment_name = 'Titanic_project'\n",
        "\n",
        "experiment=Experiment(ws, experiment_name)\n",
        "\n",
        "print('Workspace name: ' + ws.name, \n",
        "      'Azure region: ' + ws.location, \n",
        "      'Subscription id: ' + ws.subscription_id, \n",
        "      'Resource group: ' + ws.resource_group, sep = '\\n')\n",
        "\n",
        "run = experiment.start_logging()\n",
        "\n",
        "amlcompute_cluster_name = \"ML-cluster-uda\"\n",
        "\n",
        "try:\n",
        "      compute_target=ComputeTarget(workspace=ws, name=amlcompute_cluster_name)\n",
        "      print(\"Found existing cluster.Using it\")\n",
        "except ComputeTargetException:\n",
        "      compute_config = AmlCompute.provisioning_configuration(vm_size=\"STANDARD_D2_V2\", max_nodes=4)\n",
        "      compute_target = ComputeTarget.create(ws, amlcompute_cluster_name, compute_config)\n",
        "\n",
        "compute_target.wait_for_completion(show_output = True, min_node_count=1, timeout_in_minutes=10)"
      ],
      "outputs": [
        {
          "output_type": "stream",
          "name": "stdout",
          "text": [
            "Performing interactive authentication. Please follow the instructions on the terminal.\n",
            "To sign in, use a web browser to open the page https://microsoft.com/devicelogin and enter the code ARHCZABXR to authenticate.\n",
            "You have logged in. Now let us find all the subscriptions to which you have access...\n",
            "Interactive authentication successfully completed.\n",
            "Workspace name: quick-starts-ws-136918\n",
            "Azure region: southcentralus\n",
            "Subscription id: f9d5a085-54dc-4215-9ba6-dad5d86e60a0\n",
            "Resource group: aml-quickstarts-136918\n",
            "Found existing cluster.Using it\n",
            "Succeeded\n",
            "AmlCompute wait for completion finished\n",
            "\n",
            "Minimum number of nodes requested have been provisioned\n"
          ]
        }
      ],
      "execution_count": 2,
      "metadata": {
        "gather": {
          "logged": 1612246199664
        }
      }
    },
    {
      "cell_type": "code",
      "source": [
        "found = False\n",
        "key = \"titanic\"\n",
        "description_text = \"Titanic survival classification data from Kaggle\"\n",
        "\n",
        "if key in ws.datasets.keys(): \n",
        "        found = True\n",
        "        data = ws.datasets[key] \n",
        "else :\n",
        "    data = pd.read_csv(\"titanic.csv\")\n",
        "\n",
        "x, y = clean_data(data.to_pandas_dataframe())\n",
        "x['y']=y\n",
        "print(x.head(5))\n",
        "print(x.describe())\n",
        "\n",
        "# turning pandas dataframe to Tabular data\n",
        "data_folder = './data'\n",
        "os.makedirs(data_folder, exist_ok=True)\n",
        "local_path = 'data/prepared.csv'\n",
        "x.to_csv(local_path)\n",
        "\n",
        "datastore = ws.get_default_datastore()\n",
        "datastore.upload(src_dir='data', target_path='data')\n",
        "\n",
        "dataset = Dataset.Tabular.from_delimited_files(path=[(datastore, ('data/prepared.csv'))])"
      ],
      "outputs": [
        {
          "output_type": "stream",
          "name": "stdout",
          "text": [
            "   PassengerId  Pclass  Sex Age  SibSp  Parch     Fare  FamilySize  IsAlone  y\n",
            "0            1       3    0   1      1      0   7.2500           1        0  0\n",
            "1            2       1    1   2      1      0  71.2833           1        0  1\n",
            "2            3       3    1   3      0      0   7.9250           0        1  1\n",
            "3            4       1    1   4      1      0  53.1000           1        0  1\n",
            "4            5       3    0   5      0      0   8.0500           0        1  0\n",
            "       PassengerId      Pclass         Sex       SibSp       Parch  \\\n",
            "count   891.000000  891.000000  891.000000  891.000000  891.000000   \n",
            "mean    446.000000    2.308642    0.352413    0.523008    0.381594   \n",
            "std     257.353842    0.836071    0.477990    1.102743    0.806057   \n",
            "min       1.000000    1.000000    0.000000    0.000000    0.000000   \n",
            "25%     223.500000    2.000000    0.000000    0.000000    0.000000   \n",
            "50%     446.000000    3.000000    0.000000    0.000000    0.000000   \n",
            "75%     668.500000    3.000000    1.000000    1.000000    0.000000   \n",
            "max     891.000000    3.000000    1.000000    8.000000    6.000000   \n",
            "\n",
            "             Fare  FamilySize     IsAlone           y  \n",
            "count  891.000000  891.000000  891.000000  891.000000  \n",
            "mean    32.204208    0.904602    0.602694    0.383838  \n",
            "std     49.693429    1.613459    0.489615    0.486592  \n",
            "min      0.000000    0.000000    0.000000    0.000000  \n",
            "25%      7.910400    0.000000    0.000000    0.000000  \n",
            "50%     14.454200    0.000000    1.000000    0.000000  \n",
            "75%     31.000000    1.000000    1.000000    1.000000  \n",
            "max    512.329200   10.000000    1.000000    1.000000  \n",
            "Uploading an estimated of 1 files\n",
            "Uploading data/prepared.csv\n",
            "Uploaded data/prepared.csv, 1 files out of an estimated total of 1\n",
            "Uploaded 1 files\n"
          ]
        }
      ],
      "execution_count": 3,
      "metadata": {
        "gather": {
          "logged": 1612246222053
        }
      }
    },
    {
      "cell_type": "markdown",
      "source": [
        "## AutoML Configuration\n",
        "\n",
        "TODO: Explain why you chose the automl settings and cofiguration you used below."
      ],
      "metadata": {}
    },
    {
      "cell_type": "code",
      "source": [
        "# TODO: Put your automl settings here\n",
        "automl_settings = {\n",
        "    \"experiment_timeout_minutes\": 20,\n",
        "    \"max_concurrent_iterations\": 5,\n",
        "    \"primary_metric\" : 'Accuracy'\n",
        "}\n",
        "\n",
        "# TODO: Put your automl config here\n",
        "automl_config = AutoMLConfig(compute_target=compute_target,\n",
        "                             task = \"classification\",\n",
        "                             training_data=dataset,\n",
        "                             label_column_name=\"y\",   \n",
        "                             path = \"./data\",\n",
        "                             enable_early_stopping= True,\n",
        "                             featurization= 'auto',\n",
        "                             debug_log = \"automl_errors.log\",\n",
        "                             n_cross_validations=5,\n",
        "                             **automl_settings\n",
        "                            )\n"
      ],
      "outputs": [],
      "execution_count": 4,
      "metadata": {
        "gather": {
          "logged": 1612246226733
        },
        "jupyter": {
          "outputs_hidden": false,
          "source_hidden": false
        },
        "nteract": {
          "transient": {
            "deleting": false
          }
        }
      }
    },
    {
      "cell_type": "code",
      "source": [
        "# TODO: Submit your experiment\n",
        "remote_run = experiment.submit(automl_config, show_output=False)"
      ],
      "outputs": [
        {
          "output_type": "stream",
          "name": "stdout",
          "text": [
            "Running on remote.\n",
            "No run_configuration provided, running on ML-cluster-uda with default configuration\n",
            "Running on remote compute: ML-cluster-uda\n",
            "Parent Run ID: AutoML_b459f211-9402-49ae-a196-0bc7d069db8f\n",
            "\n",
            "Current status: FeaturesGeneration. Generating features for the dataset.\n",
            "Current status: DatasetCrossValidationSplit. Generating individually featurized CV splits.\n",
            "Current status: ModelSelection. Beginning model selection.\n",
            "\n",
            "****************************************************************************************************\n",
            "DATA GUARDRAILS: \n",
            "\n",
            "TYPE:         Class balancing detection\n",
            "STATUS:       PASSED\n",
            "DESCRIPTION:  Your inputs were analyzed, and all classes are balanced in your training data.\n",
            "              Learn more about imbalanced data: https://aka.ms/AutomatedMLImbalancedData\n",
            "\n",
            "****************************************************************************************************\n",
            "\n",
            "TYPE:         Missing feature values imputation\n",
            "STATUS:       PASSED\n",
            "DESCRIPTION:  No feature missing values were detected in the training data.\n",
            "              Learn more about missing value imputation: https://aka.ms/AutomatedMLFeaturization\n",
            "\n",
            "****************************************************************************************************\n",
            "\n",
            "TYPE:         High cardinality feature detection\n",
            "STATUS:       PASSED\n",
            "DESCRIPTION:  Your inputs were analyzed, and no high cardinality features were detected.\n",
            "              Learn more about high cardinality feature handling: https://aka.ms/AutomatedMLFeaturization\n",
            "\n",
            "****************************************************************************************************\n",
            "\n",
            "****************************************************************************************************\n",
            "ITERATION: The iteration being evaluated.\n",
            "PIPELINE: A summary description of the pipeline being evaluated.\n",
            "DURATION: Time taken for the current iteration.\n",
            "METRIC: The result of computing score on the fitted pipeline.\n",
            "BEST: The best observed score thus far.\n",
            "****************************************************************************************************\n",
            "\n",
            " ITERATION   PIPELINE                                       DURATION      METRIC      BEST\n",
            "         4   MaxAbsScaler RandomForest                      0:00:51       0.8311    0.8311\n",
            "         0   MaxAbsScaler LightGBM                          0:01:12       0.8134    0.8311\n",
            "         2   MaxAbsScaler RandomForest                      0:00:41       0.8451    0.8451\n",
            "         6   MaxAbsScaler ExtremeRandomTrees                0:00:53       0.8492    0.8492\n",
            "         7   MaxAbsScaler ExtremeRandomTrees                0:00:49       0.8487    0.8492\n",
            "         5   MaxAbsScaler ExtremeRandomTrees                0:02:43       0.8348    0.8492\n",
            "         1   MaxAbsScaler XGBoostClassifier                 0:02:53       0.8524    0.8524\n",
            "         3   MaxAbsScaler RandomForest                      0:02:41       0.8412    0.8524\n",
            "         8   MaxAbsScaler RandomForest                      0:00:54       0.8144    0.8524\n",
            "        10   MaxAbsScaler RandomForest                      0:00:57       0.8117    0.8524\n",
            "        11   MaxAbsScaler RandomForest                      0:01:00       0.8253    0.8524\n",
            "        12   MaxAbsScaler RandomForest                      0:00:52       0.7829    0.8524\n",
            "        13   StandardScalerWrapper XGBoostClassifier        0:00:55       0.8489    0.8524\n",
            "        14   MaxAbsScaler RandomForest                      0:00:53       0.8350    0.8524\n",
            "        15   StandardScalerWrapper ExtremeRandomTrees       0:00:55       0.8413    0.8524\n",
            "        16   MaxAbsScaler ExtremeRandomTrees                0:00:57       0.8408    0.8524\n",
            "         9   MaxAbsScaler ExtremeRandomTrees                0:02:38       0.8351    0.8524\n",
            "        17   MaxAbsScaler ExtremeRandomTrees                0:00:53       0.8464    0.8524\n",
            "        18   MaxAbsScaler RandomForest                      0:00:43       0.8209    0.8524\n",
            "        19   StandardScalerWrapper XGBoostClassifier        0:00:52       0.8402    0.8524\n",
            "        20   SparseNormalizer XGBoostClassifier             0:00:54       0.8456    0.8524\n",
            "        21   StandardScalerWrapper XGBoostClassifier        0:00:50       0.8325    0.8524\n",
            "        22   StandardScalerWrapper XGBoostClassifier        0:00:46       0.8378    0.8524\n",
            "        23   StandardScalerWrapper XGBoostClassifier        0:00:51       0.8224    0.8524\n",
            "        25   TruncatedSVDWrapper XGBoostClassifier          0:00:49       0.8289    0.8524\n",
            "        24   MaxAbsScaler LightGBM                          0:01:06       0.8477    0.8524\n",
            "        26   MaxAbsScaler LightGBM                          0:01:07       0.8481    0.8524\n",
            "        27   MaxAbsScaler LightGBM                          0:00:52       0.8422    0.8524\n",
            "        28   StandardScalerWrapper LightGBM                 0:00:46       0.8347    0.8524\n",
            "        29   SparseNormalizer LightGBM                      0:00:50       0.8191    0.8524\n",
            "        31   MaxAbsScaler SGD                               0:00:52       0.8360    0.8524\n",
            "        32   StandardScalerWrapper LogisticRegression       0:00:46       0.8437    0.8524\n",
            "        33   MaxAbsScaler SGD                               0:00:49       0.8317    0.8524\n",
            "        30   TruncatedSVDWrapper XGBoostClassifier          0:01:22       0.8179    0.8524\n",
            "        34   MaxAbsScaler LogisticRegression                0:00:38       0.8434    0.8524\n",
            "        35                                                  0:00:21          nan    0.8524\n",
            "        36                                                  0:00:13          nan    0.8524\n",
            "        37                                                  0:00:18          nan    0.8524\n",
            "        39    StackEnsemble                                 0:01:40       0.8568    0.8568\n",
            "        38    VotingEnsemble                                0:01:46       0.8609    0.8609\n"
          ]
        }
      ],
      "execution_count": 5,
      "metadata": {
        "gather": {
          "logged": 1612247418677
        },
        "jupyter": {
          "outputs_hidden": false,
          "source_hidden": false
        },
        "nteract": {
          "transient": {
            "deleting": false
          }
        }
      }
    },
    {
      "cell_type": "markdown",
      "source": [
        "## Run Details\n",
        "\n",
        "OPTIONAL: Write about the different models trained and their performance. Why do you think some models did better than others?\n",
        "\n",
        "TODO: In the cell below, use the `RunDetails` widget to show the different experiments."
      ],
      "metadata": {}
    },
    {
      "cell_type": "code",
      "source": [
        "RunDetails(remote_run).show()"
      ],
      "outputs": [
        {
          "output_type": "display_data",
          "data": {
            "text/plain": "_AutoMLWidget(widget_settings={'childWidgetDisplay': 'popup', 'send_telemetry': False, 'log_level': 'INFO', 's…",
            "application/vnd.jupyter.widget-view+json": {
              "version_major": 2,
              "version_minor": 0,
              "model_id": "2cd792ece915401baa43aac4101eca27"
            }
          },
          "metadata": {}
        },
        {
          "output_type": "display_data",
          "data": {
            "application/aml.mini.widget.v1": "{\"status\": \"Completed\", \"workbench_run_details_uri\": \"https://ml.azure.com/experiments/Titanic_project/runs/AutoML_b459f211-9402-49ae-a196-0bc7d069db8f?wsid=/subscriptions/f9d5a085-54dc-4215-9ba6-dad5d86e60a0/resourcegroups/aml-quickstarts-136918/workspaces/quick-starts-ws-136918\", \"run_id\": \"AutoML_b459f211-9402-49ae-a196-0bc7d069db8f\", \"run_properties\": {\"run_id\": \"AutoML_b459f211-9402-49ae-a196-0bc7d069db8f\", \"created_utc\": \"2021-02-02T06:10:38.597229Z\", \"properties\": {\"num_iterations\": \"1000\", \"training_type\": \"TrainFull\", \"acquisition_function\": \"EI\", \"primary_metric\": \"AUC_weighted\", \"train_split\": \"0\", \"acquisition_parameter\": \"0\", \"num_cross_validation\": \"5\", \"target\": \"ML-cluster-uda\", \"AMLSettingsJsonString\": \"{\\\"path\\\":null,\\\"name\\\":\\\"Titanic_project\\\",\\\"subscription_id\\\":\\\"f9d5a085-54dc-4215-9ba6-dad5d86e60a0\\\",\\\"resource_group\\\":\\\"aml-quickstarts-136918\\\",\\\"workspace_name\\\":\\\"quick-starts-ws-136918\\\",\\\"region\\\":\\\"southcentralus\\\",\\\"compute_target\\\":\\\"ML-cluster-uda\\\",\\\"spark_service\\\":null,\\\"azure_service\\\":\\\"remote\\\",\\\"many_models\\\":false,\\\"pipeline_fetch_max_batch_size\\\":1,\\\"iterations\\\":1000,\\\"primary_metric\\\":\\\"AUC_weighted\\\",\\\"task_type\\\":\\\"classification\\\",\\\"data_script\\\":null,\\\"validation_size\\\":0.0,\\\"n_cross_validations\\\":5,\\\"y_min\\\":null,\\\"y_max\\\":null,\\\"num_classes\\\":null,\\\"featurization\\\":\\\"auto\\\",\\\"_ignore_package_version_incompatibilities\\\":false,\\\"is_timeseries\\\":false,\\\"max_cores_per_iteration\\\":1,\\\"max_concurrent_iterations\\\":5,\\\"iteration_timeout_minutes\\\":null,\\\"mem_in_mb\\\":null,\\\"enforce_time_on_windows\\\":false,\\\"experiment_timeout_minutes\\\":20,\\\"experiment_exit_score\\\":null,\\\"whitelist_models\\\":null,\\\"blacklist_algos\\\":[\\\"TensorFlowLinearClassifier\\\",\\\"TensorFlowDNN\\\"],\\\"supported_models\\\":[\\\"SGD\\\",\\\"DecisionTree\\\",\\\"BernoulliNaiveBayes\\\",\\\"GradientBoosting\\\",\\\"RandomForest\\\",\\\"SVM\\\",\\\"LogisticRegression\\\",\\\"AveragedPerceptronClassifier\\\",\\\"TensorFlowLinearClassifier\\\",\\\"TensorFlowDNN\\\",\\\"ExtremeRandomTrees\\\",\\\"LightGBM\\\",\\\"MultinomialNaiveBayes\\\",\\\"XGBoostClassifier\\\",\\\"LinearSVM\\\",\\\"KNN\\\"],\\\"auto_blacklist\\\":true,\\\"blacklist_samples_reached\\\":false,\\\"exclude_nan_labels\\\":true,\\\"verbosity\\\":20,\\\"_debug_log\\\":\\\"azureml_automl.log\\\",\\\"show_warnings\\\":false,\\\"model_explainability\\\":true,\\\"service_url\\\":null,\\\"sdk_url\\\":null,\\\"sdk_packages\\\":null,\\\"enable_onnx_compatible_models\\\":false,\\\"enable_split_onnx_featurizer_estimator_models\\\":false,\\\"vm_type\\\":\\\"STANDARD_DS2_V2\\\",\\\"telemetry_verbosity\\\":20,\\\"send_telemetry\\\":true,\\\"enable_dnn\\\":false,\\\"scenario\\\":\\\"SDK-1.13.0\\\",\\\"environment_label\\\":null,\\\"force_text_dnn\\\":false,\\\"enable_feature_sweeping\\\":true,\\\"enable_early_stopping\\\":true,\\\"early_stopping_n_iters\\\":10,\\\"metrics\\\":null,\\\"enable_ensembling\\\":true,\\\"enable_stack_ensembling\\\":true,\\\"ensemble_iterations\\\":15,\\\"enable_tf\\\":false,\\\"enable_subsampling\\\":null,\\\"subsample_seed\\\":null,\\\"enable_nimbusml\\\":false,\\\"enable_streaming\\\":false,\\\"force_streaming\\\":false,\\\"track_child_runs\\\":true,\\\"allowed_private_models\\\":[],\\\"label_column_name\\\":\\\"y\\\",\\\"weight_column_name\\\":null,\\\"cv_split_column_names\\\":null,\\\"enable_local_managed\\\":false,\\\"_local_managed_run_id\\\":null,\\\"cost_mode\\\":1,\\\"lag_length\\\":0,\\\"metric_operation\\\":\\\"maximize\\\",\\\"preprocess\\\":true}\", \"DataPrepJsonString\": \"{\\\\\\\"training_data\\\\\\\": \\\\\\\"{\\\\\\\\\\\\\\\"blocks\\\\\\\\\\\\\\\": [{\\\\\\\\\\\\\\\"id\\\\\\\\\\\\\\\": \\\\\\\\\\\\\\\"7dfcf396-256b-47a7-8a06-fd5427a5f6b0\\\\\\\\\\\\\\\", \\\\\\\\\\\\\\\"type\\\\\\\\\\\\\\\": \\\\\\\\\\\\\\\"Microsoft.DPrep.GetDatastoreFilesBlock\\\\\\\\\\\\\\\", \\\\\\\\\\\\\\\"arguments\\\\\\\\\\\\\\\": {\\\\\\\\\\\\\\\"datastores\\\\\\\\\\\\\\\": [{\\\\\\\\\\\\\\\"datastoreName\\\\\\\\\\\\\\\": \\\\\\\\\\\\\\\"workspaceblobstore\\\\\\\\\\\\\\\", \\\\\\\\\\\\\\\"path\\\\\\\\\\\\\\\": \\\\\\\\\\\\\\\"data/prepared.csv\\\\\\\\\\\\\\\", \\\\\\\\\\\\\\\"resourceGroup\\\\\\\\\\\\\\\": \\\\\\\\\\\\\\\"aml-quickstarts-136918\\\\\\\\\\\\\\\", \\\\\\\\\\\\\\\"subscription\\\\\\\\\\\\\\\": \\\\\\\\\\\\\\\"f9d5a085-54dc-4215-9ba6-dad5d86e60a0\\\\\\\\\\\\\\\", \\\\\\\\\\\\\\\"workspaceName\\\\\\\\\\\\\\\": \\\\\\\\\\\\\\\"quick-starts-ws-136918\\\\\\\\\\\\\\\"}]}, \\\\\\\\\\\\\\\"localData\\\\\\\\\\\\\\\": {}, \\\\\\\\\\\\\\\"isEnabled\\\\\\\\\\\\\\\": true, \\\\\\\\\\\\\\\"name\\\\\\\\\\\\\\\": null, \\\\\\\\\\\\\\\"annotation\\\\\\\\\\\\\\\": null}, {\\\\\\\\\\\\\\\"id\\\\\\\\\\\\\\\": \\\\\\\\\\\\\\\"38613205-4a1f-4832-af5f-7949ba73d1d0\\\\\\\\\\\\\\\", \\\\\\\\\\\\\\\"type\\\\\\\\\\\\\\\": \\\\\\\\\\\\\\\"Microsoft.DPrep.ParseDelimitedBlock\\\\\\\\\\\\\\\", \\\\\\\\\\\\\\\"arguments\\\\\\\\\\\\\\\": {\\\\\\\\\\\\\\\"columnHeadersMode\\\\\\\\\\\\\\\": 3, \\\\\\\\\\\\\\\"fileEncoding\\\\\\\\\\\\\\\": 0, \\\\\\\\\\\\\\\"handleQuotedLineBreaks\\\\\\\\\\\\\\\": false, \\\\\\\\\\\\\\\"preview\\\\\\\\\\\\\\\": false, \\\\\\\\\\\\\\\"separator\\\\\\\\\\\\\\\": \\\\\\\\\\\\\\\",\\\\\\\\\\\\\\\", \\\\\\\\\\\\\\\"skipRows\\\\\\\\\\\\\\\": 0, \\\\\\\\\\\\\\\"skipRowsMode\\\\\\\\\\\\\\\": 0}, \\\\\\\\\\\\\\\"localData\\\\\\\\\\\\\\\": {}, \\\\\\\\\\\\\\\"isEnabled\\\\\\\\\\\\\\\": true, \\\\\\\\\\\\\\\"name\\\\\\\\\\\\\\\": null, \\\\\\\\\\\\\\\"annotation\\\\\\\\\\\\\\\": null}, {\\\\\\\\\\\\\\\"id\\\\\\\\\\\\\\\": \\\\\\\\\\\\\\\"5a360366-1d27-4ed8-908a-bd3238f9423a\\\\\\\\\\\\\\\", \\\\\\\\\\\\\\\"type\\\\\\\\\\\\\\\": \\\\\\\\\\\\\\\"Microsoft.DPrep.DropColumnsBlock\\\\\\\\\\\\\\\", \\\\\\\\\\\\\\\"arguments\\\\\\\\\\\\\\\": {\\\\\\\\\\\\\\\"columns\\\\\\\\\\\\\\\": {\\\\\\\\\\\\\\\"type\\\\\\\\\\\\\\\": 0, \\\\\\\\\\\\\\\"details\\\\\\\\\\\\\\\": {\\\\\\\\\\\\\\\"selectedColumns\\\\\\\\\\\\\\\": [\\\\\\\\\\\\\\\"Path\\\\\\\\\\\\\\\"]}}}, \\\\\\\\\\\\\\\"localData\\\\\\\\\\\\\\\": {}, \\\\\\\\\\\\\\\"isEnabled\\\\\\\\\\\\\\\": true, \\\\\\\\\\\\\\\"name\\\\\\\\\\\\\\\": null, \\\\\\\\\\\\\\\"annotation\\\\\\\\\\\\\\\": null}, {\\\\\\\\\\\\\\\"id\\\\\\\\\\\\\\\": \\\\\\\\\\\\\\\"c15da0b6-ee23-4472-bde2-666c11f3e9ca\\\\\\\\\\\\\\\", \\\\\\\\\\\\\\\"type\\\\\\\\\\\\\\\": \\\\\\\\\\\\\\\"Microsoft.DPrep.SetColumnTypesBlock\\\\\\\\\\\\\\\", \\\\\\\\\\\\\\\"arguments\\\\\\\\\\\\\\\": {\\\\\\\\\\\\\\\"columnConversion\\\\\\\\\\\\\\\": [{\\\\\\\\\\\\\\\"column\\\\\\\\\\\\\\\": {\\\\\\\\\\\\\\\"type\\\\\\\\\\\\\\\": 2, \\\\\\\\\\\\\\\"details\\\\\\\\\\\\\\\": {\\\\\\\\\\\\\\\"selectedColumn\\\\\\\\\\\\\\\": \\\\\\\\\\\\\\\"Column1\\\\\\\\\\\\\\\"}}, \\\\\\\\\\\\\\\"typeProperty\\\\\\\\\\\\\\\": 2}, {\\\\\\\\\\\\\\\"column\\\\\\\\\\\\\\\": {\\\\\\\\\\\\\\\"type\\\\\\\\\\\\\\\": 2, \\\\\\\\\\\\\\\"details\\\\\\\\\\\\\\\": {\\\\\\\\\\\\\\\"selectedColumn\\\\\\\\\\\\\\\": \\\\\\\\\\\\\\\"PassengerId\\\\\\\\\\\\\\\"}}, \\\\\\\\\\\\\\\"typeProperty\\\\\\\\\\\\\\\": 2}, {\\\\\\\\\\\\\\\"column\\\\\\\\\\\\\\\": {\\\\\\\\\\\\\\\"type\\\\\\\\\\\\\\\": 2, \\\\\\\\\\\\\\\"details\\\\\\\\\\\\\\\": {\\\\\\\\\\\\\\\"selectedColumn\\\\\\\\\\\\\\\": \\\\\\\\\\\\\\\"Pclass\\\\\\\\\\\\\\\"}}, \\\\\\\\\\\\\\\"typeProperty\\\\\\\\\\\\\\\": 2}, {\\\\\\\\\\\\\\\"column\\\\\\\\\\\\\\\": {\\\\\\\\\\\\\\\"type\\\\\\\\\\\\\\\": 2, \\\\\\\\\\\\\\\"details\\\\\\\\\\\\\\\": {\\\\\\\\\\\\\\\"selectedColumn\\\\\\\\\\\\\\\": \\\\\\\\\\\\\\\"Sex\\\\\\\\\\\\\\\"}}, \\\\\\\\\\\\\\\"typeProperty\\\\\\\\\\\\\\\": 2}, {\\\\\\\\\\\\\\\"column\\\\\\\\\\\\\\\": {\\\\\\\\\\\\\\\"type\\\\\\\\\\\\\\\": 2, \\\\\\\\\\\\\\\"details\\\\\\\\\\\\\\\": {\\\\\\\\\\\\\\\"selectedColumn\\\\\\\\\\\\\\\": \\\\\\\\\\\\\\\"Age\\\\\\\\\\\\\\\"}}, \\\\\\\\\\\\\\\"typeProperty\\\\\\\\\\\\\\\": 2}, {\\\\\\\\\\\\\\\"column\\\\\\\\\\\\\\\": {\\\\\\\\\\\\\\\"type\\\\\\\\\\\\\\\": 2, \\\\\\\\\\\\\\\"details\\\\\\\\\\\\\\\": {\\\\\\\\\\\\\\\"selectedColumn\\\\\\\\\\\\\\\": \\\\\\\\\\\\\\\"SibSp\\\\\\\\\\\\\\\"}}, \\\\\\\\\\\\\\\"typeProperty\\\\\\\\\\\\\\\": 2}, {\\\\\\\\\\\\\\\"column\\\\\\\\\\\\\\\": {\\\\\\\\\\\\\\\"type\\\\\\\\\\\\\\\": 2, \\\\\\\\\\\\\\\"details\\\\\\\\\\\\\\\": {\\\\\\\\\\\\\\\"selectedColumn\\\\\\\\\\\\\\\": \\\\\\\\\\\\\\\"Parch\\\\\\\\\\\\\\\"}}, \\\\\\\\\\\\\\\"typeProperty\\\\\\\\\\\\\\\": 2}, {\\\\\\\\\\\\\\\"column\\\\\\\\\\\\\\\": {\\\\\\\\\\\\\\\"type\\\\\\\\\\\\\\\": 2, \\\\\\\\\\\\\\\"details\\\\\\\\\\\\\\\": {\\\\\\\\\\\\\\\"selectedColumn\\\\\\\\\\\\\\\": \\\\\\\\\\\\\\\"Fare\\\\\\\\\\\\\\\"}}, \\\\\\\\\\\\\\\"typeProperty\\\\\\\\\\\\\\\": 3}, {\\\\\\\\\\\\\\\"column\\\\\\\\\\\\\\\": {\\\\\\\\\\\\\\\"type\\\\\\\\\\\\\\\": 2, \\\\\\\\\\\\\\\"details\\\\\\\\\\\\\\\": {\\\\\\\\\\\\\\\"selectedColumn\\\\\\\\\\\\\\\": \\\\\\\\\\\\\\\"FamilySize\\\\\\\\\\\\\\\"}}, \\\\\\\\\\\\\\\"typeProperty\\\\\\\\\\\\\\\": 2}, {\\\\\\\\\\\\\\\"column\\\\\\\\\\\\\\\": {\\\\\\\\\\\\\\\"type\\\\\\\\\\\\\\\": 2, \\\\\\\\\\\\\\\"details\\\\\\\\\\\\\\\": {\\\\\\\\\\\\\\\"selectedColumn\\\\\\\\\\\\\\\": \\\\\\\\\\\\\\\"IsAlone\\\\\\\\\\\\\\\"}}, \\\\\\\\\\\\\\\"typeProperty\\\\\\\\\\\\\\\": 2}, {\\\\\\\\\\\\\\\"column\\\\\\\\\\\\\\\": {\\\\\\\\\\\\\\\"type\\\\\\\\\\\\\\\": 2, \\\\\\\\\\\\\\\"details\\\\\\\\\\\\\\\": {\\\\\\\\\\\\\\\"selectedColumn\\\\\\\\\\\\\\\": \\\\\\\\\\\\\\\"y\\\\\\\\\\\\\\\"}}, \\\\\\\\\\\\\\\"typeProperty\\\\\\\\\\\\\\\": 2}]}, \\\\\\\\\\\\\\\"localData\\\\\\\\\\\\\\\": {}, \\\\\\\\\\\\\\\"isEnabled\\\\\\\\\\\\\\\": true, \\\\\\\\\\\\\\\"name\\\\\\\\\\\\\\\": null, \\\\\\\\\\\\\\\"annotation\\\\\\\\\\\\\\\": null}], \\\\\\\\\\\\\\\"inspectors\\\\\\\\\\\\\\\": [], \\\\\\\\\\\\\\\"meta\\\\\\\\\\\\\\\": {\\\\\\\\\\\\\\\"savedDatasetId\\\\\\\\\\\\\\\": \\\\\\\\\\\\\\\"c72505b5-0133-43af-b7bb-982073fdd77c\\\\\\\\\\\\\\\", \\\\\\\\\\\\\\\"datasetType\\\\\\\\\\\\\\\": \\\\\\\\\\\\\\\"tabular\\\\\\\\\\\\\\\", \\\\\\\\\\\\\\\"subscriptionId\\\\\\\\\\\\\\\": \\\\\\\\\\\\\\\"f9d5a085-54dc-4215-9ba6-dad5d86e60a0\\\\\\\\\\\\\\\", \\\\\\\\\\\\\\\"workspaceId\\\\\\\\\\\\\\\": \\\\\\\\\\\\\\\"d6a2f906-1365-4de6-9733-b0c5cee28b64\\\\\\\\\\\\\\\", \\\\\\\\\\\\\\\"workspaceLocation\\\\\\\\\\\\\\\": \\\\\\\\\\\\\\\"southcentralus\\\\\\\\\\\\\\\"}}\\\\\\\", \\\\\\\"activities\\\\\\\": 0}\", \"EnableSubsampling\": null, \"runTemplate\": \"AutoML\", \"azureml.runsource\": \"automl\", \"display_task_type\": \"classification\", \"dependencies_versions\": \"{\\\"azureml-widgets\\\": \\\"1.20.0\\\", \\\"azureml-train\\\": \\\"1.20.0\\\", \\\"azureml-train-restclients-hyperdrive\\\": \\\"1.20.0\\\", \\\"azureml-train-core\\\": \\\"1.20.0\\\", \\\"azureml-train-automl\\\": \\\"1.20.0\\\", \\\"azureml-train-automl-runtime\\\": \\\"1.20.0\\\", \\\"azureml-train-automl-client\\\": \\\"1.20.0\\\", \\\"azureml-tensorboard\\\": \\\"1.20.0\\\", \\\"azureml-telemetry\\\": \\\"1.20.0\\\", \\\"azureml-sdk\\\": \\\"1.20.0\\\", \\\"azureml-samples\\\": \\\"0+unknown\\\", \\\"azureml-pipeline\\\": \\\"1.20.0\\\", \\\"azureml-pipeline-steps\\\": \\\"1.20.0\\\", \\\"azureml-pipeline-core\\\": \\\"1.20.0\\\", \\\"azureml-opendatasets\\\": \\\"1.20.0\\\", \\\"azureml-model-management-sdk\\\": \\\"1.0.1b6.post1\\\", \\\"azureml-mlflow\\\": \\\"1.20.0.post1\\\", \\\"azureml-interpret\\\": \\\"1.20.0\\\", \\\"azureml-explain-model\\\": \\\"1.20.0\\\", \\\"azureml-defaults\\\": \\\"1.20.0\\\", \\\"azureml-dataset-runtime\\\": \\\"1.20.0\\\", \\\"azureml-dataprep\\\": \\\"2.7.3\\\", \\\"azureml-dataprep-rslex\\\": \\\"1.5.0\\\", \\\"azureml-dataprep-native\\\": \\\"27.0.0\\\", \\\"azureml-datadrift\\\": \\\"1.20.0\\\", \\\"azureml-core\\\": \\\"1.20.0\\\", \\\"azureml-contrib-services\\\": \\\"1.20.0\\\", \\\"azureml-contrib-server\\\": \\\"1.20.0\\\", \\\"azureml-contrib-reinforcementlearning\\\": \\\"1.20.0\\\", \\\"azureml-contrib-pipeline-steps\\\": \\\"1.20.0\\\", \\\"azureml-contrib-notebook\\\": \\\"1.20.0\\\", \\\"azureml-contrib-interpret\\\": \\\"1.20.0\\\", \\\"azureml-contrib-gbdt\\\": \\\"1.20.0\\\", \\\"azureml-contrib-fairness\\\": \\\"1.20.0\\\", \\\"azureml-contrib-dataset\\\": \\\"1.20.0\\\", \\\"azureml-cli-common\\\": \\\"1.20.0\\\", \\\"azureml-automl-runtime\\\": \\\"1.20.0\\\", \\\"azureml-automl-core\\\": \\\"1.20.0\\\", \\\"azureml-accel-models\\\": \\\"1.20.0\\\"}\", \"_aml_system_scenario_identification\": \"Remote.Parent\", \"ClientType\": \"SDK\", \"environment_cpu_name\": \"AzureML-AutoML\", \"environment_cpu_label\": \"prod\", \"environment_gpu_name\": \"AzureML-AutoML-GPU\", \"environment_gpu_label\": \"prod\", \"root_attribution\": \"automl\", \"attribution\": \"AutoML\", \"Orchestrator\": \"AutoML\", \"CancelUri\": \"https://southcentralus.experiments.azureml.net/jasmine/v1.0/subscriptions/f9d5a085-54dc-4215-9ba6-dad5d86e60a0/resourceGroups/aml-quickstarts-136918/providers/Microsoft.MachineLearningServices/workspaces/quick-starts-ws-136918/experimentids/bb476824-591f-400b-8b3f-476beffd309f/cancel/AutoML_b459f211-9402-49ae-a196-0bc7d069db8f\", \"ClientSdkVersion\": \"1.20.0.post1\", \"snapshotId\": \"00000000-0000-0000-0000-000000000000\", \"SetupRunId\": \"AutoML_b459f211-9402-49ae-a196-0bc7d069db8f_setup\", \"SetupRunContainerId\": \"dcid.AutoML_b459f211-9402-49ae-a196-0bc7d069db8f_setup\", \"FeaturizationRunJsonPath\": \"featurizer_container.json\", \"FeaturizationRunId\": \"AutoML_b459f211-9402-49ae-a196-0bc7d069db8f_featurize\", \"ProblemInfoJsonString\": \"{\\\"dataset_num_categorical\\\": 0, \\\"is_sparse\\\": true, \\\"subsampling\\\": false, \\\"dataset_classes\\\": 2, \\\"dataset_features\\\": 32, \\\"dataset_samples\\\": 891, \\\"single_frequency_class_detected\\\": false}\", \"ModelExplainRunId\": \"AutoML_b459f211-9402-49ae-a196-0bc7d069db8f_ModelExplain\"}, \"tags\": {\"model_explain_run\": \"best_run\", \"_aml_system_azureml.automlComponent\": \"AutoML\", \"pipeline_id\": \"\", \"score\": \"\", \"predicted_cost\": \"\", \"fit_time\": \"\", \"training_percent\": \"\", \"iteration\": \"\", \"run_preprocessor\": \"\", \"run_algorithm\": \"\", \"dynamic_whitelisting_iterations\": \"<25>;<30>;<35>;\", \"automl_best_child_run_id\": \"AutoML_b459f211-9402-49ae-a196-0bc7d069db8f_38\", \"model_explain_best_run_child_id\": \"AutoML_b459f211-9402-49ae-a196-0bc7d069db8f_38\"}, \"end_time_utc\": \"2021-02-02T06:30:09.492864Z\", \"status\": \"Completed\", \"log_files\": {}, \"log_groups\": [], \"run_duration\": \"0:19:30\"}, \"child_runs\": [{\"run_id\": \"AutoML_b459f211-9402-49ae-a196-0bc7d069db8f_0\", \"run_number\": 6, \"metric\": null, \"status\": \"Completed\", \"run_type\": \"azureml.scriptrun\", \"training_percent\": \"100\", \"start_time\": \"2021-02-02T06:16:53.235398Z\", \"end_time\": \"2021-02-02T06:18:05.64635Z\", \"created_time\": \"2021-02-02T06:15:40.279824Z\", \"created_time_dt\": \"2021-02-02T06:15:40.279824Z\", \"duration\": \"0:02:25\", \"iteration\": \"0\", \"goal\": \"AUC_weighted_max\", \"run_name\": \"MaxAbsScaler, LightGBM\", \"run_properties\": \"copy=True\", \"primary_metric\": 0.81340241, \"best_metric\": 0.81340241}, {\"run_id\": \"AutoML_b459f211-9402-49ae-a196-0bc7d069db8f_1\", \"run_number\": 7, \"metric\": null, \"status\": \"Completed\", \"run_type\": \"azureml.scriptrun\", \"training_percent\": \"100\", \"start_time\": \"2021-02-02T06:18:22.938189Z\", \"end_time\": \"2021-02-02T06:21:15.73677Z\", \"created_time\": \"2021-02-02T06:15:40.402832Z\", \"created_time_dt\": \"2021-02-02T06:15:40.402832Z\", \"duration\": \"0:05:35\", \"iteration\": \"1\", \"goal\": \"AUC_weighted_max\", \"run_name\": \"MaxAbsScaler, XGBoostClassifier\", \"run_properties\": \"copy=True\", \"primary_metric\": 0.85239978, \"best_metric\": 0.85239978}, {\"run_id\": \"AutoML_b459f211-9402-49ae-a196-0bc7d069db8f_2\", \"run_number\": 8, \"metric\": null, \"status\": \"Completed\", \"run_type\": \"azureml.scriptrun\", \"training_percent\": \"100\", \"start_time\": \"2021-02-02T06:18:11.399479Z\", \"end_time\": \"2021-02-02T06:18:52.805734Z\", \"created_time\": \"2021-02-02T06:15:40.404322Z\", \"created_time_dt\": \"2021-02-02T06:15:40.404322Z\", \"duration\": \"0:03:12\", \"iteration\": \"2\", \"goal\": \"AUC_weighted_max\", \"run_name\": \"MaxAbsScaler, RandomForest\", \"run_properties\": \"copy=True\", \"primary_metric\": 0.84508573, \"best_metric\": 0.85239978}, {\"run_id\": \"AutoML_b459f211-9402-49ae-a196-0bc7d069db8f_4\", \"run_number\": 9, \"metric\": null, \"status\": \"Completed\", \"run_type\": \"azureml.scriptrun\", \"training_percent\": \"100\", \"start_time\": \"2021-02-02T06:15:52.615802Z\", \"end_time\": \"2021-02-02T06:16:43.741464Z\", \"created_time\": \"2021-02-02T06:15:40.43842Z\", \"created_time_dt\": \"2021-02-02T06:15:40.43842Z\", \"duration\": \"0:01:03\", \"iteration\": \"4\", \"goal\": \"AUC_weighted_max\", \"run_name\": \"MaxAbsScaler, RandomForest\", \"run_properties\": \"copy=True\", \"primary_metric\": 0.83108557, \"best_metric\": 0.85239978}, {\"run_id\": \"AutoML_b459f211-9402-49ae-a196-0bc7d069db8f_3\", \"run_number\": 10, \"metric\": null, \"status\": \"Completed\", \"run_type\": \"azureml.scriptrun\", \"training_percent\": \"100\", \"start_time\": \"2021-02-02T06:18:27.424261Z\", \"end_time\": \"2021-02-02T06:21:08.454036Z\", \"created_time\": \"2021-02-02T06:15:40.621119Z\", \"created_time_dt\": \"2021-02-02T06:15:40.621119Z\", \"duration\": \"0:05:27\", \"iteration\": \"3\", \"goal\": \"AUC_weighted_max\", \"run_name\": \"MaxAbsScaler, RandomForest\", \"run_properties\": \"copy=True\", \"primary_metric\": 0.84123979, \"best_metric\": 0.85239978}, {\"run_id\": \"AutoML_b459f211-9402-49ae-a196-0bc7d069db8f_5\", \"run_number\": 11, \"metric\": null, \"status\": \"Completed\", \"run_type\": \"azureml.scriptrun\", \"training_percent\": \"100\", \"start_time\": \"2021-02-02T06:18:24.859523Z\", \"end_time\": \"2021-02-02T06:21:07.493099Z\", \"created_time\": \"2021-02-02T06:16:48.05561Z\", \"created_time_dt\": \"2021-02-02T06:16:48.05561Z\", \"duration\": \"0:04:19\", \"iteration\": \"5\", \"goal\": \"AUC_weighted_max\", \"run_name\": \"MaxAbsScaler, ExtremeRandomTrees\", \"run_properties\": \"copy=True\", \"primary_metric\": 0.83480141, \"best_metric\": 0.85239978}, {\"run_id\": \"AutoML_b459f211-9402-49ae-a196-0bc7d069db8f_6\", \"run_number\": 12, \"metric\": null, \"status\": \"Completed\", \"run_type\": \"azureml.scriptrun\", \"training_percent\": \"100\", \"start_time\": \"2021-02-02T06:18:57.735857Z\", \"end_time\": \"2021-02-02T06:19:51.234128Z\", \"created_time\": \"2021-02-02T06:18:09.836408Z\", \"created_time_dt\": \"2021-02-02T06:18:09.836408Z\", \"duration\": \"0:01:41\", \"iteration\": \"6\", \"goal\": \"AUC_weighted_max\", \"run_name\": \"MaxAbsScaler, ExtremeRandomTrees\", \"run_properties\": \"copy=True\", \"primary_metric\": 0.84923523, \"best_metric\": 0.85239978}, {\"run_id\": \"AutoML_b459f211-9402-49ae-a196-0bc7d069db8f_7\", \"run_number\": 13, \"metric\": null, \"status\": \"Completed\", \"run_type\": \"azureml.scriptrun\", \"training_percent\": \"100\", \"start_time\": \"2021-02-02T06:19:56.25827Z\", \"end_time\": \"2021-02-02T06:20:45.15266Z\", \"created_time\": \"2021-02-02T06:18:56.718919Z\", \"created_time_dt\": \"2021-02-02T06:18:56.718919Z\", \"duration\": \"0:01:48\", \"iteration\": \"7\", \"goal\": \"AUC_weighted_max\", \"run_name\": \"MaxAbsScaler, ExtremeRandomTrees\", \"run_properties\": \"copy=True\", \"primary_metric\": 0.84865101, \"best_metric\": 0.85239978}, {\"run_id\": \"AutoML_b459f211-9402-49ae-a196-0bc7d069db8f_8\", \"run_number\": 14, \"metric\": null, \"status\": \"Completed\", \"run_type\": \"azureml.scriptrun\", \"training_percent\": \"100\", \"start_time\": \"2021-02-02T06:20:49.22742Z\", \"end_time\": \"2021-02-02T06:21:43.372889Z\", \"created_time\": \"2021-02-02T06:19:54.892581Z\", \"created_time_dt\": \"2021-02-02T06:19:54.892581Z\", \"duration\": \"0:01:48\", \"iteration\": \"8\", \"goal\": \"AUC_weighted_max\", \"run_name\": \"MaxAbsScaler, RandomForest\", \"run_properties\": \"copy=True\", \"primary_metric\": 0.81438794, \"best_metric\": 0.85239978}, {\"run_id\": \"AutoML_b459f211-9402-49ae-a196-0bc7d069db8f_9\", \"run_number\": 15, \"metric\": null, \"status\": \"Completed\", \"run_type\": \"azureml.scriptrun\", \"training_percent\": \"100\", \"start_time\": \"2021-02-02T06:20:59.658979Z\", \"end_time\": \"2021-02-02T06:23:37.972929Z\", \"created_time\": \"2021-02-02T06:20:49.532583Z\", \"created_time_dt\": \"2021-02-02T06:20:49.532583Z\", \"duration\": \"0:02:48\", \"iteration\": \"9\", \"goal\": \"AUC_weighted_max\", \"run_name\": \"MaxAbsScaler, ExtremeRandomTrees\", \"run_properties\": \"copy=True\", \"primary_metric\": 0.83506461, \"best_metric\": 0.85239978}, {\"run_id\": \"AutoML_b459f211-9402-49ae-a196-0bc7d069db8f_10\", \"run_number\": 16, \"metric\": null, \"status\": \"Completed\", \"run_type\": \"azureml.scriptrun\", \"training_percent\": \"100\", \"start_time\": \"2021-02-02T06:21:21.484093Z\", \"end_time\": \"2021-02-02T06:22:18.305648Z\", \"created_time\": \"2021-02-02T06:21:11.143919Z\", \"created_time_dt\": \"2021-02-02T06:21:11.143919Z\", \"duration\": \"0:01:07\", \"iteration\": \"10\", \"goal\": \"AUC_weighted_max\", \"run_name\": \"MaxAbsScaler, RandomForest\", \"run_properties\": \"copy=True\", \"primary_metric\": 0.81173837, \"best_metric\": 0.85239978}, {\"run_id\": \"AutoML_b459f211-9402-49ae-a196-0bc7d069db8f_11\", \"run_number\": 17, \"metric\": null, \"status\": \"Completed\", \"run_type\": \"azureml.scriptrun\", \"training_percent\": \"100\", \"start_time\": \"2021-02-02T06:21:26.812036Z\", \"end_time\": \"2021-02-02T06:22:26.3768Z\", \"created_time\": \"2021-02-02T06:21:16.550824Z\", \"created_time_dt\": \"2021-02-02T06:21:16.550824Z\", \"duration\": \"0:01:09\", \"iteration\": \"11\", \"goal\": \"AUC_weighted_max\", \"run_name\": \"MaxAbsScaler, RandomForest\", \"run_properties\": \"copy=True\", \"primary_metric\": 0.82525546, \"best_metric\": 0.85239978}, {\"run_id\": \"AutoML_b459f211-9402-49ae-a196-0bc7d069db8f_12\", \"run_number\": 18, \"metric\": null, \"status\": \"Completed\", \"run_type\": \"azureml.scriptrun\", \"training_percent\": \"100\", \"start_time\": \"2021-02-02T06:21:34.129236Z\", \"end_time\": \"2021-02-02T06:22:26.125932Z\", \"created_time\": \"2021-02-02T06:21:22.042784Z\", \"created_time_dt\": \"2021-02-02T06:21:22.042784Z\", \"duration\": \"0:01:04\", \"iteration\": \"12\", \"goal\": \"AUC_weighted_max\", \"run_name\": \"MaxAbsScaler, RandomForest\", \"run_properties\": \"copy=True\", \"primary_metric\": 0.78293066, \"best_metric\": 0.85239978}, {\"run_id\": \"AutoML_b459f211-9402-49ae-a196-0bc7d069db8f_13\", \"run_number\": 19, \"metric\": null, \"status\": \"Completed\", \"run_type\": \"azureml.scriptrun\", \"training_percent\": \"100\", \"start_time\": \"2021-02-02T06:22:00.32273Z\", \"end_time\": \"2021-02-02T06:22:55.246126Z\", \"created_time\": \"2021-02-02T06:21:47.702289Z\", \"created_time_dt\": \"2021-02-02T06:21:47.702289Z\", \"duration\": \"0:01:07\", \"iteration\": \"13\", \"goal\": \"AUC_weighted_max\", \"run_name\": \"StandardScalerWrapper, XGBoostClassifier\", \"run_properties\": \"<azureml.automl.runtime.shared.model_wrappers.StandardScalerWrapper object at 0x7f50d448ea90\", \"primary_metric\": 0.84885323, \"best_metric\": 0.85239978}, {\"run_id\": \"AutoML_b459f211-9402-49ae-a196-0bc7d069db8f_14\", \"run_number\": 20, \"metric\": null, \"status\": \"Completed\", \"run_type\": \"azureml.scriptrun\", \"training_percent\": \"100\", \"start_time\": \"2021-02-02T06:22:32.189039Z\", \"end_time\": \"2021-02-02T06:23:25.430509Z\", \"created_time\": \"2021-02-02T06:22:22.150401Z\", \"created_time_dt\": \"2021-02-02T06:22:22.150401Z\", \"duration\": \"0:01:03\", \"iteration\": \"14\", \"goal\": \"AUC_weighted_max\", \"run_name\": \"MaxAbsScaler, RandomForest\", \"run_properties\": \"copy=True\", \"primary_metric\": 0.83504305, \"best_metric\": 0.85239978}, {\"run_id\": \"AutoML_b459f211-9402-49ae-a196-0bc7d069db8f_15\", \"run_number\": 21, \"metric\": null, \"status\": \"Completed\", \"run_type\": \"azureml.scriptrun\", \"training_percent\": \"100\", \"start_time\": \"2021-02-02T06:22:42.595546Z\", \"end_time\": \"2021-02-02T06:23:38.044979Z\", \"created_time\": \"2021-02-02T06:22:29.927284Z\", \"created_time_dt\": \"2021-02-02T06:22:29.927284Z\", \"duration\": \"0:01:08\", \"iteration\": \"15\", \"goal\": \"AUC_weighted_max\", \"run_name\": \"StandardScalerWrapper, ExtremeRandomTrees\", \"run_properties\": \"<azureml.automl.runtime.shared.model_wrappers.StandardScalerWrapper object at 0x7ff5e5495c18\", \"primary_metric\": 0.84128788, \"best_metric\": 0.85239978}, {\"run_id\": \"AutoML_b459f211-9402-49ae-a196-0bc7d069db8f_16\", \"run_number\": 22, \"metric\": null, \"status\": \"Completed\", \"run_type\": \"azureml.scriptrun\", \"training_percent\": \"100\", \"start_time\": \"2021-02-02T06:22:42.124672Z\", \"end_time\": \"2021-02-02T06:23:39.02747Z\", \"created_time\": \"2021-02-02T06:22:30.063399Z\", \"created_time_dt\": \"2021-02-02T06:22:30.063399Z\", \"duration\": \"0:01:08\", \"iteration\": \"16\", \"goal\": \"AUC_weighted_max\", \"run_name\": \"MaxAbsScaler, ExtremeRandomTrees\", \"run_properties\": \"copy=True\", \"primary_metric\": 0.84079127, \"best_metric\": 0.85239978}, {\"run_id\": \"AutoML_b459f211-9402-49ae-a196-0bc7d069db8f_17\", \"run_number\": 23, \"metric\": null, \"status\": \"Completed\", \"run_type\": \"azureml.scriptrun\", \"training_percent\": \"100\", \"start_time\": \"2021-02-02T06:23:08.885321Z\", \"end_time\": \"2021-02-02T06:24:02.180197Z\", \"created_time\": \"2021-02-02T06:22:59.167661Z\", \"created_time_dt\": \"2021-02-02T06:22:59.167661Z\", \"duration\": \"0:01:03\", \"iteration\": \"17\", \"goal\": \"AUC_weighted_max\", \"run_name\": \"MaxAbsScaler, ExtremeRandomTrees\", \"run_properties\": \"copy=True\", \"primary_metric\": 0.84641056, \"best_metric\": 0.85239978}, {\"run_id\": \"AutoML_b459f211-9402-49ae-a196-0bc7d069db8f_18\", \"run_number\": 24, \"metric\": null, \"status\": \"Completed\", \"run_type\": \"azureml.scriptrun\", \"training_percent\": \"100\", \"start_time\": \"2021-02-02T06:23:41.196444Z\", \"end_time\": \"2021-02-02T06:24:24.120114Z\", \"created_time\": \"2021-02-02T06:23:29.040518Z\", \"created_time_dt\": \"2021-02-02T06:23:29.040518Z\", \"duration\": \"0:00:55\", \"iteration\": \"18\", \"goal\": \"AUC_weighted_max\", \"run_name\": \"MaxAbsScaler, RandomForest\", \"run_properties\": \"copy=True\", \"primary_metric\": 0.82093885, \"best_metric\": 0.85239978}, {\"run_id\": \"AutoML_b459f211-9402-49ae-a196-0bc7d069db8f_19\", \"run_number\": 25, \"metric\": null, \"status\": \"Completed\", \"run_type\": \"azureml.scriptrun\", \"training_percent\": \"100\", \"start_time\": \"2021-02-02T06:23:53.664285Z\", \"end_time\": \"2021-02-02T06:24:45.752102Z\", \"created_time\": \"2021-02-02T06:23:41.180555Z\", \"created_time_dt\": \"2021-02-02T06:23:41.180555Z\", \"duration\": \"0:01:04\", \"iteration\": \"19\", \"goal\": \"AUC_weighted_max\", \"run_name\": \"StandardScalerWrapper, XGBoostClassifier\", \"run_properties\": \"<azureml.automl.runtime.shared.model_wrappers.StandardScalerWrapper object at 0x7f4fdb57dfd0\", \"primary_metric\": 0.84017377, \"best_metric\": 0.85239978}, {\"run_id\": \"AutoML_b459f211-9402-49ae-a196-0bc7d069db8f_20\", \"run_number\": 26, \"metric\": null, \"status\": \"Completed\", \"run_type\": \"azureml.scriptrun\", \"training_percent\": \"100\", \"start_time\": \"2021-02-02T06:23:52.517955Z\", \"end_time\": \"2021-02-02T06:24:46.515004Z\", \"created_time\": \"2021-02-02T06:23:41.335401Z\", \"created_time_dt\": \"2021-02-02T06:23:41.335401Z\", \"duration\": \"0:01:05\", \"iteration\": \"20\", \"goal\": \"AUC_weighted_max\", \"run_name\": \"SparseNormalizer, XGBoostClassifier\", \"run_properties\": \"<azureml.automl.runtime.shared.model_wrappers.SparseNormalizer object at 0x7f8769341b38\", \"primary_metric\": 0.84556323, \"best_metric\": 0.85239978}, {\"run_id\": \"AutoML_b459f211-9402-49ae-a196-0bc7d069db8f_21\", \"run_number\": 27, \"metric\": null, \"status\": \"Completed\", \"run_type\": \"azureml.scriptrun\", \"training_percent\": \"100\", \"start_time\": \"2021-02-02T06:23:57.292931Z\", \"end_time\": \"2021-02-02T06:24:47.538884Z\", \"created_time\": \"2021-02-02T06:23:46.930285Z\", \"created_time_dt\": \"2021-02-02T06:23:46.930285Z\", \"duration\": \"0:01:00\", \"iteration\": \"21\", \"goal\": \"AUC_weighted_max\", \"run_name\": \"StandardScalerWrapper, XGBoostClassifier\", \"run_properties\": \"<azureml.automl.runtime.shared.model_wrappers.StandardScalerWrapper object at 0x7f7b3c1f7ba8\", \"primary_metric\": 0.83247111, \"best_metric\": 0.85239978}, {\"run_id\": \"AutoML_b459f211-9402-49ae-a196-0bc7d069db8f_22\", \"run_number\": 28, \"metric\": null, \"status\": \"Completed\", \"run_type\": \"azureml.scriptrun\", \"training_percent\": \"100\", \"start_time\": \"2021-02-02T06:24:19.037249Z\", \"end_time\": \"2021-02-02T06:25:05.031284Z\", \"created_time\": \"2021-02-02T06:24:05.390411Z\", \"created_time_dt\": \"2021-02-02T06:24:05.390411Z\", \"duration\": \"0:00:59\", \"iteration\": \"22\", \"goal\": \"AUC_weighted_max\", \"run_name\": \"StandardScalerWrapper, XGBoostClassifier\", \"run_properties\": \"<azureml.automl.runtime.shared.model_wrappers.StandardScalerWrapper object at 0x7f437a396b38\", \"primary_metric\": 0.83778627, \"best_metric\": 0.85239978}, {\"run_id\": \"AutoML_b459f211-9402-49ae-a196-0bc7d069db8f_23\", \"run_number\": 29, \"metric\": null, \"status\": \"Completed\", \"run_type\": \"azureml.scriptrun\", \"training_percent\": \"100\", \"start_time\": \"2021-02-02T06:24:39.465222Z\", \"end_time\": \"2021-02-02T06:25:30.004781Z\", \"created_time\": \"2021-02-02T06:24:26.445867Z\", \"created_time_dt\": \"2021-02-02T06:24:26.445867Z\", \"duration\": \"0:01:03\", \"iteration\": \"23\", \"goal\": \"AUC_weighted_max\", \"run_name\": \"StandardScalerWrapper, XGBoostClassifier\", \"run_properties\": \"<azureml.automl.runtime.shared.model_wrappers.StandardScalerWrapper object at 0x7f72e5991e10\", \"primary_metric\": 0.8223731, \"best_metric\": 0.85239978}, {\"run_id\": \"AutoML_b459f211-9402-49ae-a196-0bc7d069db8f_24\", \"run_number\": 30, \"metric\": null, \"status\": \"Completed\", \"run_type\": \"azureml.scriptrun\", \"training_percent\": \"100\", \"start_time\": \"2021-02-02T06:24:59.028461Z\", \"end_time\": \"2021-02-02T06:26:04.576252Z\", \"created_time\": \"2021-02-02T06:24:48.16659Z\", \"created_time_dt\": \"2021-02-02T06:24:48.16659Z\", \"duration\": \"0:01:16\", \"iteration\": \"24\", \"goal\": \"AUC_weighted_max\", \"run_name\": \"MaxAbsScaler, LightGBM\", \"run_properties\": \"copy=True\", \"primary_metric\": 0.84771411, \"best_metric\": 0.85239978}, {\"run_id\": \"AutoML_b459f211-9402-49ae-a196-0bc7d069db8f_25\", \"run_number\": 31, \"metric\": null, \"status\": \"Completed\", \"run_type\": \"azureml.scriptrun\", \"training_percent\": \"100\", \"start_time\": \"2021-02-02T06:25:06.583238Z\", \"end_time\": \"2021-02-02T06:25:55.185453Z\", \"created_time\": \"2021-02-02T06:24:53.823617Z\", \"created_time_dt\": \"2021-02-02T06:24:53.823617Z\", \"duration\": \"0:01:01\", \"iteration\": \"25\", \"goal\": \"AUC_weighted_max\", \"run_name\": \"TruncatedSVDWrapper, XGBoostClassifier\", \"run_properties\": \"n_components=0.3068421052631579, random_state=None\", \"primary_metric\": 0.82893156, \"best_metric\": 0.85239978}, {\"run_id\": \"AutoML_b459f211-9402-49ae-a196-0bc7d069db8f_26\", \"run_number\": 32, \"metric\": null, \"status\": \"Completed\", \"run_type\": \"azureml.scriptrun\", \"training_percent\": \"100\", \"start_time\": \"2021-02-02T06:25:06.493555Z\", \"end_time\": \"2021-02-02T06:26:13.864964Z\", \"created_time\": \"2021-02-02T06:24:53.963895Z\", \"created_time_dt\": \"2021-02-02T06:24:53.963895Z\", \"duration\": \"0:01:19\", \"iteration\": \"26\", \"goal\": \"AUC_weighted_max\", \"run_name\": \"MaxAbsScaler, LightGBM\", \"run_properties\": \"copy=True\", \"primary_metric\": 0.84810798, \"best_metric\": 0.85239978}, {\"run_id\": \"AutoML_b459f211-9402-49ae-a196-0bc7d069db8f_27\", \"run_number\": 33, \"metric\": null, \"status\": \"Completed\", \"run_type\": \"azureml.scriptrun\", \"training_percent\": \"100\", \"start_time\": \"2021-02-02T06:25:19.909531Z\", \"end_time\": \"2021-02-02T06:26:11.711618Z\", \"created_time\": \"2021-02-02T06:25:07.610761Z\", \"created_time_dt\": \"2021-02-02T06:25:07.610761Z\", \"duration\": \"0:01:04\", \"iteration\": \"27\", \"goal\": \"AUC_weighted_max\", \"run_name\": \"MaxAbsScaler, LightGBM\", \"run_properties\": \"copy=True\", \"primary_metric\": 0.84221507, \"best_metric\": 0.85239978}, {\"run_id\": \"AutoML_b459f211-9402-49ae-a196-0bc7d069db8f_28\", \"run_number\": 34, \"metric\": null, \"status\": \"Completed\", \"run_type\": \"azureml.scriptrun\", \"training_percent\": \"100\", \"start_time\": \"2021-02-02T06:25:45.098118Z\", \"end_time\": \"2021-02-02T06:26:31.10702Z\", \"created_time\": \"2021-02-02T06:25:33.058448Z\", \"created_time_dt\": \"2021-02-02T06:25:33.058448Z\", \"duration\": \"0:00:58\", \"iteration\": \"28\", \"goal\": \"AUC_weighted_max\", \"run_name\": \"StandardScalerWrapper, LightGBM\", \"run_properties\": \"<azureml.automl.runtime.shared.model_wrappers.StandardScalerWrapper object at 0x7f8c3831f5f8\", \"primary_metric\": 0.83467991, \"best_metric\": 0.85239978}, {\"run_id\": \"AutoML_b459f211-9402-49ae-a196-0bc7d069db8f_29\", \"run_number\": 35, \"metric\": null, \"status\": \"Completed\", \"run_type\": \"azureml.scriptrun\", \"training_percent\": \"100\", \"start_time\": \"2021-02-02T06:26:10.415907Z\", \"end_time\": \"2021-02-02T06:26:59.922133Z\", \"created_time\": \"2021-02-02T06:25:57.684174Z\", \"created_time_dt\": \"2021-02-02T06:25:57.684174Z\", \"duration\": \"0:01:02\", \"iteration\": \"29\", \"goal\": \"AUC_weighted_max\", \"run_name\": \"SparseNormalizer, LightGBM\", \"run_properties\": \"<azureml.automl.runtime.shared.model_wrappers.SparseNormalizer object at 0x7f92a4a74080\", \"primary_metric\": 0.8190655, \"best_metric\": 0.85239978}, {\"run_id\": \"AutoML_b459f211-9402-49ae-a196-0bc7d069db8f_30\", \"run_number\": 36, \"metric\": null, \"status\": \"Completed\", \"run_type\": \"azureml.scriptrun\", \"training_percent\": \"100\", \"start_time\": \"2021-02-02T06:26:21.798814Z\", \"end_time\": \"2021-02-02T06:27:43.359116Z\", \"created_time\": \"2021-02-02T06:26:07.974303Z\", \"created_time_dt\": \"2021-02-02T06:26:07.974303Z\", \"duration\": \"0:01:35\", \"iteration\": \"30\", \"goal\": \"AUC_weighted_max\", \"run_name\": \"TruncatedSVDWrapper, XGBoostClassifier\", \"run_properties\": \"n_components=0.5047368421052632, random_state=None\", \"primary_metric\": 0.81793493, \"best_metric\": 0.85239978}, {\"run_id\": \"AutoML_b459f211-9402-49ae-a196-0bc7d069db8f_31\", \"run_number\": 37, \"metric\": null, \"status\": \"Completed\", \"run_type\": \"azureml.scriptrun\", \"training_percent\": \"100\", \"start_time\": \"2021-02-02T06:26:27.109128Z\", \"end_time\": \"2021-02-02T06:27:18.953208Z\", \"created_time\": \"2021-02-02T06:26:14.026582Z\", \"created_time_dt\": \"2021-02-02T06:26:14.026582Z\", \"duration\": \"0:01:04\", \"iteration\": \"31\", \"goal\": \"AUC_weighted_max\", \"run_name\": \"MaxAbsScaler, SGD\", \"run_properties\": \"copy=True\", \"primary_metric\": 0.83595897, \"best_metric\": 0.85239978}, {\"run_id\": \"AutoML_b459f211-9402-49ae-a196-0bc7d069db8f_32\", \"run_number\": 38, \"metric\": null, \"status\": \"Completed\", \"run_type\": \"azureml.scriptrun\", \"training_percent\": \"100\", \"start_time\": \"2021-02-02T06:26:30.472102Z\", \"end_time\": \"2021-02-02T06:27:16.543216Z\", \"created_time\": \"2021-02-02T06:26:18.56593Z\", \"created_time_dt\": \"2021-02-02T06:26:18.56593Z\", \"duration\": \"0:00:57\", \"iteration\": \"32\", \"goal\": \"AUC_weighted_max\", \"run_name\": \"StandardScalerWrapper, LogisticRegression\", \"run_properties\": \"<azureml.automl.runtime.shared.model_wrappers.StandardScalerWrapper object at 0x7f4d9f4abcc0\", \"primary_metric\": 0.84367634, \"best_metric\": 0.85239978}, {\"run_id\": \"AutoML_b459f211-9402-49ae-a196-0bc7d069db8f_33\", \"run_number\": 39, \"metric\": null, \"status\": \"Completed\", \"run_type\": \"azureml.scriptrun\", \"training_percent\": \"100\", \"start_time\": \"2021-02-02T06:26:45.243396Z\", \"end_time\": \"2021-02-02T06:27:34.417881Z\", \"created_time\": \"2021-02-02T06:26:33.519366Z\", \"created_time_dt\": \"2021-02-02T06:26:33.519366Z\", \"duration\": \"0:01:00\", \"iteration\": \"33\", \"goal\": \"AUC_weighted_max\", \"run_name\": \"MaxAbsScaler, SGD\", \"run_properties\": \"copy=True\", \"primary_metric\": 0.83174946, \"best_metric\": 0.85239978}, {\"run_id\": \"AutoML_b459f211-9402-49ae-a196-0bc7d069db8f_34\", \"run_number\": 40, \"metric\": null, \"status\": \"Canceled\", \"run_type\": \"azureml.scriptrun\", \"training_percent\": \"100\", \"start_time\": \"2021-02-02T06:27:15.282363Z\", \"end_time\": \"2021-02-02T06:27:53.505539Z\", \"created_time\": \"2021-02-02T06:27:02.18694Z\", \"created_time_dt\": \"2021-02-02T06:27:02.18694Z\", \"duration\": \"0:00:51\", \"iteration\": \"34\", \"goal\": \"AUC_weighted_max\", \"run_name\": \"MaxAbsScaler, LogisticRegression\", \"run_properties\": \"copy=True\", \"primary_metric\": 0.84335677, \"best_metric\": 0.85239978}, {\"run_id\": \"AutoML_b459f211-9402-49ae-a196-0bc7d069db8f_35\", \"run_number\": 41, \"metric\": null, \"status\": \"Canceled\", \"run_type\": \"azureml.scriptrun\", \"training_percent\": \"100\", \"start_time\": \"2021-02-02T06:27:31.006127Z\", \"end_time\": \"2021-02-02T06:27:52.432936Z\", \"created_time\": \"2021-02-02T06:27:19.906244Z\", \"created_time_dt\": \"2021-02-02T06:27:19.906244Z\", \"duration\": \"0:00:32\", \"iteration\": \"35\", \"goal\": null, \"run_name\": \"Canceled\", \"run_properties\": null}, {\"run_id\": \"AutoML_b459f211-9402-49ae-a196-0bc7d069db8f_36\", \"run_number\": 42, \"metric\": null, \"status\": \"Canceled\", \"run_type\": \"azureml.scriptrun\", \"training_percent\": \"100\", \"start_time\": \"2021-02-02T06:27:40.010393Z\", \"end_time\": \"2021-02-02T06:27:52.710638Z\", \"created_time\": \"2021-02-02T06:27:23.517059Z\", \"created_time_dt\": \"2021-02-02T06:27:23.517059Z\", \"duration\": \"0:00:29\", \"iteration\": \"36\", \"goal\": null, \"run_name\": \"Canceled\", \"run_properties\": null}, {\"run_id\": \"AutoML_b459f211-9402-49ae-a196-0bc7d069db8f_37\", \"run_number\": 43, \"metric\": null, \"status\": \"Canceled\", \"run_type\": \"azureml.scriptrun\", \"training_percent\": \"100\", \"start_time\": \"2021-02-02T06:27:37.102531Z\", \"end_time\": \"2021-02-02T06:27:54.946296Z\", \"created_time\": \"2021-02-02T06:27:37.102531Z\", \"created_time_dt\": \"2021-02-02T06:27:37.102531Z\", \"duration\": \"0:00:17\", \"iteration\": \"37\", \"goal\": null, \"run_name\": \"Canceled\", \"run_properties\": null}, {\"run_id\": \"AutoML_b459f211-9402-49ae-a196-0bc7d069db8f_38\", \"run_number\": 44, \"metric\": null, \"status\": \"Completed\", \"run_type\": \"azureml.scriptrun\", \"training_percent\": \"100\", \"start_time\": \"2021-02-02T06:28:08.990149Z\", \"end_time\": \"2021-02-02T06:29:55.306956Z\", \"created_time\": \"2021-02-02T06:27:56.5668Z\", \"created_time_dt\": \"2021-02-02T06:27:56.5668Z\", \"duration\": \"0:01:58\", \"iteration\": \"38\", \"goal\": \"AUC_weighted_max\", \"run_name\": \"VotingEnsemble\", \"run_properties\": \"classification_labels=None,\\n                              estimators=[('1',\\n                                           Pipeline(memory=None,\\n                                                    steps=[('maxabsscaler',\\n                                                            MaxAbsScaler(copy=True\", \"primary_metric\": 0.86086972, \"best_metric\": 0.86086972}, {\"run_id\": \"AutoML_b459f211-9402-49ae-a196-0bc7d069db8f_39\", \"run_number\": 45, \"metric\": null, \"status\": \"Completed\", \"run_type\": \"azureml.scriptrun\", \"training_percent\": \"100\", \"start_time\": \"2021-02-02T06:28:08.831764Z\", \"end_time\": \"2021-02-02T06:29:48.573525Z\", \"created_time\": \"2021-02-02T06:27:56.6647Z\", \"created_time_dt\": \"2021-02-02T06:27:56.6647Z\", \"duration\": \"0:01:51\", \"iteration\": \"39\", \"goal\": \"AUC_weighted_max\", \"run_name\": \"StackEnsemble\", \"run_properties\": \"base_learners=[('1',\\n                                        Pipeline(memory=None,\\n                                                 steps=[('maxabsscaler',\\n                                                         MaxAbsScaler(copy=True\", \"primary_metric\": 0.85676118, \"best_metric\": 0.86086972}], \"children_metrics\": {\"categories\": [0], \"series\": {\"matthews_correlation\": [{\"categories\": [\"0\", \"1\", \"2\", \"3\", \"4\", \"5\", \"6\", \"7\", \"8\", \"9\", \"10\", \"11\", \"12\", \"13\", \"14\", \"15\", \"16\", \"17\", \"18\", \"19\", \"20\", \"21\", \"22\", \"23\", \"24\", \"25\", \"26\", \"27\", \"28\", \"29\", \"30\", \"31\", \"32\", \"33\", \"34\", \"38\", \"39\"], \"mode\": \"markers\", \"name\": \"matthews_correlation\", \"stepped\": false, \"type\": \"scatter\", \"data\": [0.5480495572929854, 0.577564937085395, 0.5645316861998311, 0.5606546397705949, 0.5335671543778064, 0.5280879309115264, 0.5477037512143249, 0.5232243945102291, 0.23691986386312744, 0.5119515543719658, 0.4598187603659457, 0.5103403957185868, 0.4185328060897092, 0.562060267804338, 0.5466260174743008, 0.5517950599588418, 0.5324982785140566, 0.5667868006555746, 0.4711425133179904, 0.5801801843890061, 0.5615076008309512, 0.580305516268603, 0.5674508287646166, 0.5197948429009304, 0.5810893607241061, 0.534040970896272, 0.5709923494780698, 0.5780294027503962, 0.5595298051738296, 0.5168565130879006, 0.5039093417267089, 0.5227573805906578, 0.5488251618913808, 0.5608433389478277, 0.5631819915050584, 0.5948211207237083, 0.2597272554068305]}, {\"categories\": [\"0\", \"1\", \"2\", \"3\", \"4\", \"5\", \"6\", \"7\", \"8\", \"9\", \"10\", \"11\", \"12\", \"13\", \"14\", \"15\", \"16\", \"17\", \"18\", \"19\", \"20\", \"21\", \"22\", \"23\", \"24\", \"25\", \"26\", \"27\", \"28\", \"29\", \"30\", \"31\", \"32\", \"33\", \"34\", \"38\", \"39\"], \"mode\": \"lines\", \"name\": \"matthews_correlation_max\", \"stepped\": true, \"type\": \"scatter\", \"data\": [0.5480495572929854, 0.577564937085395, 0.577564937085395, 0.577564937085395, 0.577564937085395, 0.577564937085395, 0.577564937085395, 0.577564937085395, 0.577564937085395, 0.577564937085395, 0.577564937085395, 0.577564937085395, 0.577564937085395, 0.577564937085395, 0.577564937085395, 0.577564937085395, 0.577564937085395, 0.577564937085395, 0.577564937085395, 0.5801801843890061, 0.5801801843890061, 0.580305516268603, 0.580305516268603, 0.580305516268603, 0.5810893607241061, 0.5810893607241061, 0.5810893607241061, 0.5810893607241061, 0.5810893607241061, 0.5810893607241061, 0.5810893607241061, 0.5810893607241061, 0.5810893607241061, 0.5810893607241061, 0.5810893607241061, 0.5948211207237083, 0.5948211207237083]}], \"balanced_accuracy\": [{\"categories\": [\"0\", \"1\", \"2\", \"3\", \"4\", \"5\", \"6\", \"7\", \"8\", \"9\", \"10\", \"11\", \"12\", \"13\", \"14\", \"15\", \"16\", \"17\", \"18\", \"19\", \"20\", \"21\", \"22\", \"23\", \"24\", \"25\", \"26\", \"27\", \"28\", \"29\", \"30\", \"31\", \"32\", \"33\", \"34\", \"38\", \"39\"], \"mode\": \"markers\", \"name\": \"balanced_accuracy\", \"stepped\": false, \"type\": \"scatter\", \"data\": [0.7681904549837959, 0.7794608333140944, 0.763119009691103, 0.78262163900968, 0.7422125986892276, 0.7400322500425821, 0.7605385985119062, 0.7466223347980951, 0.5666506496758393, 0.7616764495528857, 0.735484786659413, 0.7596924731798909, 0.7133868321355905, 0.7623906610270567, 0.7563450599920889, 0.7591836422714289, 0.7715922743664938, 0.7874325960998018, 0.7405972612728405, 0.7814856595128997, 0.7739407442699544, 0.7849503114078941, 0.7742922379654866, 0.7553367640257282, 0.7750418739029248, 0.7591196786279909, 0.7664046151698255, 0.7822984846799634, 0.7735162231045314, 0.7520324890538228, 0.7476259874017808, 0.7507963639508782, 0.7762700603173524, 0.7763541422918734, 0.7772482599572542, 0.7844978841822121, 0.6238213838166846]}, {\"categories\": [\"0\", \"1\", \"2\", \"3\", \"4\", \"5\", \"6\", \"7\", \"8\", \"9\", \"10\", \"11\", \"12\", \"13\", \"14\", \"15\", \"16\", \"17\", \"18\", \"19\", \"20\", \"21\", \"22\", \"23\", \"24\", \"25\", \"26\", \"27\", \"28\", \"29\", \"30\", \"31\", \"32\", \"33\", \"34\", \"38\", \"39\"], \"mode\": \"lines\", \"name\": \"balanced_accuracy_max\", \"stepped\": true, \"type\": \"scatter\", \"data\": [0.7681904549837959, 0.7794608333140944, 0.7794608333140944, 0.78262163900968, 0.78262163900968, 0.78262163900968, 0.78262163900968, 0.78262163900968, 0.78262163900968, 0.78262163900968, 0.78262163900968, 0.78262163900968, 0.78262163900968, 0.78262163900968, 0.78262163900968, 0.78262163900968, 0.78262163900968, 0.7874325960998018, 0.7874325960998018, 0.7874325960998018, 0.7874325960998018, 0.7874325960998018, 0.7874325960998018, 0.7874325960998018, 0.7874325960998018, 0.7874325960998018, 0.7874325960998018, 0.7874325960998018, 0.7874325960998018, 0.7874325960998018, 0.7874325960998018, 0.7874325960998018, 0.7874325960998018, 0.7874325960998018, 0.7874325960998018, 0.7874325960998018, 0.7874325960998018]}], \"precision_score_micro\": [{\"categories\": [\"0\", \"1\", \"2\", \"3\", \"4\", \"5\", \"6\", \"7\", \"8\", \"9\", \"10\", \"11\", \"12\", \"13\", \"14\", \"15\", \"16\", \"17\", \"18\", \"19\", \"20\", \"21\", \"22\", \"23\", \"24\", \"25\", \"26\", \"27\", \"28\", \"29\", \"30\", \"31\", \"32\", \"33\", \"34\", \"38\", \"39\"], \"mode\": \"markers\", \"name\": \"precision_score_micro\", \"stepped\": false, \"type\": \"scatter\", \"data\": [0.7856004017324713, 0.8013244617412593, 0.7979536752244052, 0.7889962965287804, 0.7833783190006904, 0.7721486410143745, 0.7889523570397338, 0.7788651057686271, 0.6588349758332811, 0.7486221831648986, 0.7228297030945955, 0.756443412215178, 0.7093151716778607, 0.7934718473416609, 0.7890276818780994, 0.7889649111794614, 0.771043876718348, 0.7912497646098802, 0.7351013746783002, 0.8024480572468772, 0.7957127612830333, 0.8013244617412593, 0.7979473981545414, 0.7743518925365639, 0.8046952482581131, 0.7811060197099994, 0.800207143305505, 0.8035716527524951, 0.7934718473416609, 0.7732973447994477, 0.7654133450505304, 0.7765928064779362, 0.785638064151654, 0.7889962965287804, 0.795712761283033, 0.8114430983616847, 0.7105392003012994]}, {\"categories\": [\"0\", \"1\", \"2\", \"3\", \"4\", \"5\", \"6\", \"7\", \"8\", \"9\", \"10\", \"11\", \"12\", \"13\", \"14\", \"15\", \"16\", \"17\", \"18\", \"19\", \"20\", \"21\", \"22\", \"23\", \"24\", \"25\", \"26\", \"27\", \"28\", \"29\", \"30\", \"31\", \"32\", \"33\", \"34\", \"38\", \"39\"], \"mode\": \"lines\", \"name\": \"precision_score_micro_max\", \"stepped\": true, \"type\": \"scatter\", \"data\": [0.7856004017324713, 0.8013244617412593, 0.8013244617412593, 0.8013244617412593, 0.8013244617412593, 0.8013244617412593, 0.8013244617412593, 0.8013244617412593, 0.8013244617412593, 0.8013244617412593, 0.8013244617412593, 0.8013244617412593, 0.8013244617412593, 0.8013244617412593, 0.8013244617412593, 0.8013244617412593, 0.8013244617412593, 0.8013244617412593, 0.8013244617412593, 0.8024480572468772, 0.8024480572468772, 0.8024480572468772, 0.8024480572468772, 0.8024480572468772, 0.8046952482581131, 0.8046952482581131, 0.8046952482581131, 0.8046952482581131, 0.8046952482581131, 0.8046952482581131, 0.8046952482581131, 0.8046952482581131, 0.8046952482581131, 0.8046952482581131, 0.8046952482581131, 0.8114430983616847, 0.8114430983616847]}], \"precision_score_weighted\": [{\"categories\": [\"0\", \"1\", \"2\", \"3\", \"4\", \"5\", \"6\", \"7\", \"8\", \"9\", \"10\", \"11\", \"12\", \"13\", \"14\", \"15\", \"16\", \"17\", \"18\", \"19\", \"20\", \"21\", \"22\", \"23\", \"24\", \"25\", \"26\", \"27\", \"28\", \"29\", \"30\", \"31\", \"32\", \"33\", \"34\", \"38\", \"39\"], \"mode\": \"markers\", \"name\": \"precision_score_weighted\", \"stepped\": false, \"type\": \"scatter\", \"data\": [0.7924655446016111, 0.807124463945842, 0.804440866274582, 0.7966186064806138, 0.7917261933992643, 0.79651699345753, 0.7938305786382645, 0.7836160186788572, 0.6779445806761669, 0.7809737844640959, 0.7550678154443778, 0.7763756779957868, 0.732802897182232, 0.8046850511915304, 0.7942036748984783, 0.7987561390264659, 0.7845981921854221, 0.8001145170667584, 0.7578517166228369, 0.8084177481332032, 0.7976367762070378, 0.8066915000306262, 0.8019651538182557, 0.7781829689144154, 0.8109337206932519, 0.7866996776637165, 0.8076308854962846, 0.8053059962941973, 0.7969300314308567, 0.7772222381782967, 0.771238004324476, 0.780526245805266, 0.7905506753313007, 0.7991022133377974, 0.7976355180900284, 0.8151601935562953, 0.5739931101840725]}, {\"categories\": [\"0\", \"1\", \"2\", \"3\", \"4\", \"5\", \"6\", \"7\", \"8\", \"9\", \"10\", \"11\", \"12\", \"13\", \"14\", \"15\", \"16\", \"17\", \"18\", \"19\", \"20\", \"21\", \"22\", \"23\", \"24\", \"25\", \"26\", \"27\", \"28\", \"29\", \"30\", \"31\", \"32\", \"33\", \"34\", \"38\", \"39\"], \"mode\": \"lines\", \"name\": \"precision_score_weighted_max\", \"stepped\": true, \"type\": \"scatter\", \"data\": [0.7924655446016111, 0.807124463945842, 0.807124463945842, 0.807124463945842, 0.807124463945842, 0.807124463945842, 0.807124463945842, 0.807124463945842, 0.807124463945842, 0.807124463945842, 0.807124463945842, 0.807124463945842, 0.807124463945842, 0.807124463945842, 0.807124463945842, 0.807124463945842, 0.807124463945842, 0.807124463945842, 0.807124463945842, 0.8084177481332032, 0.8084177481332032, 0.8084177481332032, 0.8084177481332032, 0.8084177481332032, 0.8109337206932519, 0.8109337206932519, 0.8109337206932519, 0.8109337206932519, 0.8109337206932519, 0.8109337206932519, 0.8109337206932519, 0.8109337206932519, 0.8109337206932519, 0.8109337206932519, 0.8109337206932519, 0.8151601935562953, 0.8151601935562953]}], \"recall_score_micro\": [{\"categories\": [\"0\", \"1\", \"2\", \"3\", \"4\", \"5\", \"6\", \"7\", \"8\", \"9\", \"10\", \"11\", \"12\", \"13\", \"14\", \"15\", \"16\", \"17\", \"18\", \"19\", \"20\", \"21\", \"22\", \"23\", \"24\", \"25\", \"26\", \"27\", \"28\", \"29\", \"30\", \"31\", \"32\", \"33\", \"34\", \"38\", \"39\"], \"mode\": \"markers\", \"name\": \"recall_score_micro\", \"stepped\": false, \"type\": \"scatter\", \"data\": [0.7856004017324713, 0.8013244617412593, 0.7979536752244052, 0.7889962965287804, 0.7833783190006904, 0.7721486410143745, 0.7889523570397338, 0.7788651057686271, 0.6588349758332811, 0.7486221831648986, 0.7228297030945955, 0.756443412215178, 0.7093151716778607, 0.7934718473416609, 0.7890276818780994, 0.7889649111794614, 0.771043876718348, 0.7912497646098802, 0.7351013746783002, 0.8024480572468772, 0.7957127612830333, 0.8013244617412593, 0.7979473981545414, 0.7743518925365639, 0.8046952482581131, 0.7811060197099994, 0.800207143305505, 0.8035716527524951, 0.7934718473416609, 0.7732973447994477, 0.7654133450505304, 0.7765928064779362, 0.785638064151654, 0.7889962965287804, 0.795712761283033, 0.8114430983616847, 0.7105392003012994]}, {\"categories\": [\"0\", \"1\", \"2\", \"3\", \"4\", \"5\", \"6\", \"7\", \"8\", \"9\", \"10\", \"11\", \"12\", \"13\", \"14\", \"15\", \"16\", \"17\", \"18\", \"19\", \"20\", \"21\", \"22\", \"23\", \"24\", \"25\", \"26\", \"27\", \"28\", \"29\", \"30\", \"31\", \"32\", \"33\", \"34\", \"38\", \"39\"], \"mode\": \"lines\", \"name\": \"recall_score_micro_max\", \"stepped\": true, \"type\": \"scatter\", \"data\": [0.7856004017324713, 0.8013244617412593, 0.8013244617412593, 0.8013244617412593, 0.8013244617412593, 0.8013244617412593, 0.8013244617412593, 0.8013244617412593, 0.8013244617412593, 0.8013244617412593, 0.8013244617412593, 0.8013244617412593, 0.8013244617412593, 0.8013244617412593, 0.8013244617412593, 0.8013244617412593, 0.8013244617412593, 0.8013244617412593, 0.8013244617412593, 0.8024480572468772, 0.8024480572468772, 0.8024480572468772, 0.8024480572468772, 0.8024480572468772, 0.8046952482581131, 0.8046952482581131, 0.8046952482581131, 0.8046952482581131, 0.8046952482581131, 0.8046952482581131, 0.8046952482581131, 0.8046952482581131, 0.8046952482581131, 0.8046952482581131, 0.8046952482581131, 0.8114430983616847, 0.8114430983616847]}], \"log_loss\": [{\"categories\": [\"0\", \"1\", \"2\", \"3\", \"4\", \"5\", \"6\", \"7\", \"8\", \"9\", \"10\", \"11\", \"12\", \"13\", \"14\", \"15\", \"16\", \"17\", \"18\", \"19\", \"20\", \"21\", \"22\", \"23\", \"24\", \"25\", \"26\", \"27\", \"28\", \"29\", \"30\", \"31\", \"32\", \"33\", \"34\", \"38\", \"39\"], \"mode\": \"markers\", \"name\": \"log_loss\", \"stepped\": false, \"type\": \"scatter\", \"data\": [0.5774268090032681, 0.45438625139796357, 0.48398173906958936, 0.49810912518183104, 0.5125289252565189, 0.45643455250737625, 0.46230119709467604, 0.4984181241780183, 0.6036263577554547, 0.5650355089242707, 0.5616504838138732, 0.5412615562027527, 0.6518408477733415, 0.5168823443317138, 0.4872315032859545, 0.45418441899292183, 0.4948668365167615, 0.4974515746086765, 0.5608037555110382, 0.462513382044626, 0.45865925020059467, 0.49778040139523283, 0.4788119975756694, 0.5811808896699762, 0.4461611252790168, 0.48798648954468093, 0.4482253791967922, 0.4640676961209308, 0.48024479293002553, 0.5245486575387794, 0.5666310775930029, 0.516570316230287, 0.4748008784252507, 0.512851074352407, 0.4599959823741691, 0.4568459071069769, 0.5654872076177622]}, {\"categories\": [\"0\", \"1\", \"2\", \"3\", \"4\", \"5\", \"6\", \"7\", \"8\", \"9\", \"10\", \"11\", \"12\", \"13\", \"14\", \"15\", \"16\", \"17\", \"18\", \"19\", \"20\", \"21\", \"22\", \"23\", \"24\", \"25\", \"26\", \"27\", \"28\", \"29\", \"30\", \"31\", \"32\", \"33\", \"34\", \"38\", \"39\"], \"mode\": \"lines\", \"name\": \"log_loss_min\", \"stepped\": true, \"type\": \"scatter\", \"data\": [0.5774268090032681, 0.45438625139796357, 0.45438625139796357, 0.45438625139796357, 0.45438625139796357, 0.45438625139796357, 0.45438625139796357, 0.45438625139796357, 0.45438625139796357, 0.45438625139796357, 0.45438625139796357, 0.45438625139796357, 0.45438625139796357, 0.45438625139796357, 0.45438625139796357, 0.45418441899292183, 0.45418441899292183, 0.45418441899292183, 0.45418441899292183, 0.45418441899292183, 0.45418441899292183, 0.45418441899292183, 0.45418441899292183, 0.45418441899292183, 0.4461611252790168, 0.4461611252790168, 0.4461611252790168, 0.4461611252790168, 0.4461611252790168, 0.4461611252790168, 0.4461611252790168, 0.4461611252790168, 0.4461611252790168, 0.4461611252790168, 0.4461611252790168, 0.4461611252790168, 0.4461611252790168]}], \"average_precision_score_micro\": [{\"categories\": [\"0\", \"1\", \"2\", \"3\", \"4\", \"5\", \"6\", \"7\", \"8\", \"9\", \"10\", \"11\", \"12\", \"13\", \"14\", \"15\", \"16\", \"17\", \"18\", \"19\", \"20\", \"21\", \"22\", \"23\", \"24\", \"25\", \"26\", \"27\", \"28\", \"29\", \"30\", \"31\", \"32\", \"33\", \"34\", \"38\", \"39\"], \"mode\": \"markers\", \"name\": \"average_precision_score_micro\", \"stepped\": false, \"type\": \"scatter\", \"data\": [0.8198909630412217, 0.8550873560810377, 0.8441224184201866, 0.8389311699037778, 0.8208634502310657, 0.8461398526047137, 0.8441298041286487, 0.8461530962588821, 0.7713950284367181, 0.8228351966749307, 0.797026436456071, 0.8250625068714008, 0.7791487109554881, 0.8437690003590467, 0.8323879718439621, 0.8510731107698438, 0.8432875325111547, 0.8560586542433246, 0.8181456662984304, 0.8511576230812979, 0.8526845583280803, 0.8364068195139858, 0.8437915376657041, 0.8277415538231949, 0.8543589536534327, 0.8341428136180549, 0.8595519217715865, 0.841423226624735, 0.8411218578866336, 0.8279611699155216, 0.8265745256257876, 0.8364777633410968, 0.8497396309347167, 0.8292764474205814, 0.8507880718023696, 0.8550659500396615, 0.8261739008849458]}, {\"categories\": [\"0\", \"1\", \"2\", \"3\", \"4\", \"5\", \"6\", \"7\", \"8\", \"9\", \"10\", \"11\", \"12\", \"13\", \"14\", \"15\", \"16\", \"17\", \"18\", \"19\", \"20\", \"21\", \"22\", \"23\", \"24\", \"25\", \"26\", \"27\", \"28\", \"29\", \"30\", \"31\", \"32\", \"33\", \"34\", \"38\", \"39\"], \"mode\": \"lines\", \"name\": \"average_precision_score_micro_max\", \"stepped\": true, \"type\": \"scatter\", \"data\": [0.8198909630412217, 0.8550873560810377, 0.8550873560810377, 0.8550873560810377, 0.8550873560810377, 0.8550873560810377, 0.8550873560810377, 0.8550873560810377, 0.8550873560810377, 0.8550873560810377, 0.8550873560810377, 0.8550873560810377, 0.8550873560810377, 0.8550873560810377, 0.8550873560810377, 0.8550873560810377, 0.8550873560810377, 0.8560586542433246, 0.8560586542433246, 0.8560586542433246, 0.8560586542433246, 0.8560586542433246, 0.8560586542433246, 0.8560586542433246, 0.8560586542433246, 0.8560586542433246, 0.8595519217715865, 0.8595519217715865, 0.8595519217715865, 0.8595519217715865, 0.8595519217715865, 0.8595519217715865, 0.8595519217715865, 0.8595519217715865, 0.8595519217715865, 0.8595519217715865, 0.8595519217715865]}], \"weighted_accuracy\": [{\"categories\": [\"0\", \"1\", \"2\", \"3\", \"4\", \"5\", \"6\", \"7\", \"8\", \"9\", \"10\", \"11\", \"12\", \"13\", \"14\", \"15\", \"16\", \"17\", \"18\", \"19\", \"20\", \"21\", \"22\", \"23\", \"24\", \"25\", \"26\", \"27\", \"28\", \"29\", \"30\", \"31\", \"32\", \"33\", \"34\", \"38\", \"39\"], \"mode\": \"markers\", \"name\": \"weighted_accuracy\", \"stepped\": false, \"type\": \"scatter\", \"data\": [0.8011912975827716, 0.8205994101072085, 0.8278231019876928, 0.7946416511187959, 0.8183196920223013, 0.8003725421389417, 0.8137121949875874, 0.8065767407068783, 0.7389559528630266, 0.7376851964057103, 0.7126015987527154, 0.7541173822958808, 0.7064735302258971, 0.8207471856130285, 0.8172190331539616, 0.8152360230103609, 0.7704360920999388, 0.7944595348116382, 0.7311983983089492, 0.8208911388797698, 0.8145785622873921, 0.8159492398554729, 0.8185901950966115, 0.791139680622633, 0.8304967263517449, 0.8004550197447656, 0.8294774555195126, 0.821898746486889, 0.8109558707300346, 0.7919768105412117, 0.7812367005276849, 0.7990436725599215, 0.7937135546676239, 0.8007017898035824, 0.8118217103643277, 0.8346901715371413, 0.7837859855683567]}, {\"categories\": [\"0\", \"1\", \"2\", \"3\", \"4\", \"5\", \"6\", \"7\", \"8\", \"9\", \"10\", \"11\", \"12\", \"13\", \"14\", \"15\", \"16\", \"17\", \"18\", \"19\", \"20\", \"21\", \"22\", \"23\", \"24\", \"25\", \"26\", \"27\", \"28\", \"29\", \"30\", \"31\", \"32\", \"33\", \"34\", \"38\", \"39\"], \"mode\": \"lines\", \"name\": \"weighted_accuracy_max\", \"stepped\": true, \"type\": \"scatter\", \"data\": [0.8011912975827716, 0.8205994101072085, 0.8278231019876928, 0.8278231019876928, 0.8278231019876928, 0.8278231019876928, 0.8278231019876928, 0.8278231019876928, 0.8278231019876928, 0.8278231019876928, 0.8278231019876928, 0.8278231019876928, 0.8278231019876928, 0.8278231019876928, 0.8278231019876928, 0.8278231019876928, 0.8278231019876928, 0.8278231019876928, 0.8278231019876928, 0.8278231019876928, 0.8278231019876928, 0.8278231019876928, 0.8278231019876928, 0.8278231019876928, 0.8304967263517449, 0.8304967263517449, 0.8304967263517449, 0.8304967263517449, 0.8304967263517449, 0.8304967263517449, 0.8304967263517449, 0.8304967263517449, 0.8304967263517449, 0.8304967263517449, 0.8304967263517449, 0.8346901715371413, 0.8346901715371413]}], \"precision_score_macro\": [{\"categories\": [\"0\", \"1\", \"2\", \"3\", \"4\", \"5\", \"6\", \"7\", \"8\", \"9\", \"10\", \"11\", \"12\", \"13\", \"14\", \"15\", \"16\", \"17\", \"18\", \"19\", \"20\", \"21\", \"22\", \"23\", \"24\", \"25\", \"26\", \"27\", \"28\", \"29\", \"30\", \"31\", \"32\", \"33\", \"34\", \"38\", \"39\"], \"mode\": \"markers\", \"name\": \"precision_score_macro\", \"stepped\": false, \"type\": \"scatter\", \"data\": [0.7806162950773893, 0.7990375591563545, 0.8033200571751363, 0.7782913778535436, 0.7946460065225944, 0.7944689769968745, 0.7882365309360049, 0.777945173974938, 0.6954455811586755, 0.7505712227912512, 0.7246016011454864, 0.7509235827715678, 0.7054299373028128, 0.8018875105091959, 0.7915621059691664, 0.7944097522905256, 0.761117904118743, 0.7795417197064196, 0.7309055175083918, 0.7997795753585931, 0.7879004923198497, 0.7960432282514277, 0.7938827652506765, 0.764841620921579, 0.8074945398697547, 0.7758136741083277, 0.8064000521614224, 0.7961236135796546, 0.7865077319264838, 0.7653052923963571, 0.7568102769160585, 0.773069373212568, 0.7726891215439378, 0.785093762773414, 0.7861875176207358, 0.8110549637896083, 0.525178240974094]}, {\"categories\": [\"0\", \"1\", \"2\", \"3\", \"4\", \"5\", \"6\", \"7\", \"8\", \"9\", \"10\", \"11\", \"12\", \"13\", \"14\", \"15\", \"16\", \"17\", \"18\", \"19\", \"20\", \"21\", \"22\", \"23\", \"24\", \"25\", \"26\", \"27\", \"28\", \"29\", \"30\", \"31\", \"32\", \"33\", \"34\", \"38\", \"39\"], \"mode\": \"lines\", \"name\": \"precision_score_macro_max\", \"stepped\": true, \"type\": \"scatter\", \"data\": [0.7806162950773893, 0.7990375591563545, 0.8033200571751363, 0.8033200571751363, 0.8033200571751363, 0.8033200571751363, 0.8033200571751363, 0.8033200571751363, 0.8033200571751363, 0.8033200571751363, 0.8033200571751363, 0.8033200571751363, 0.8033200571751363, 0.8033200571751363, 0.8033200571751363, 0.8033200571751363, 0.8033200571751363, 0.8033200571751363, 0.8033200571751363, 0.8033200571751363, 0.8033200571751363, 0.8033200571751363, 0.8033200571751363, 0.8033200571751363, 0.8074945398697547, 0.8074945398697547, 0.8074945398697547, 0.8074945398697547, 0.8074945398697547, 0.8074945398697547, 0.8074945398697547, 0.8074945398697547, 0.8074945398697547, 0.8074945398697547, 0.8074945398697547, 0.8110549637896083, 0.8110549637896083]}], \"AUC_macro\": [{\"categories\": [\"0\", \"1\", \"2\", \"3\", \"4\", \"5\", \"6\", \"7\", \"8\", \"9\", \"10\", \"11\", \"12\", \"13\", \"14\", \"15\", \"16\", \"17\", \"18\", \"19\", \"20\", \"21\", \"22\", \"23\", \"24\", \"25\", \"26\", \"27\", \"28\", \"29\", \"30\", \"31\", \"32\", \"33\", \"34\", \"38\", \"39\"], \"mode\": \"markers\", \"name\": \"AUC_macro\", \"stepped\": false, \"type\": \"scatter\", \"data\": [0.8134024140985826, 0.85239977654463, 0.8450857291219698, 0.8412397918035396, 0.8310855725499253, 0.8348014080074609, 0.8492352299038485, 0.8486510086270161, 0.8143879364058284, 0.835064605089079, 0.8117383743705051, 0.8252554610624051, 0.7829306597232824, 0.8488532341391485, 0.8350430471965773, 0.8412878796449601, 0.8407912699751835, 0.8464105562639098, 0.8209388452506363, 0.8401737691611493, 0.8455632318506107, 0.8324711149473807, 0.837786266649162, 0.822372458557999, 0.8477141142928725, 0.8289315621306228, 0.8481079798083474, 0.8422150695545781, 0.8346799090771364, 0.8190655026028877, 0.8179349330630294, 0.835958968528167, 0.8436763386145574, 0.8317494588683065, 0.8433567715819625, 0.8608697206004858, 0.8567611758627652]}, {\"categories\": [\"0\", \"1\", \"2\", \"3\", \"4\", \"5\", \"6\", \"7\", \"8\", \"9\", \"10\", \"11\", \"12\", \"13\", \"14\", \"15\", \"16\", \"17\", \"18\", \"19\", \"20\", \"21\", \"22\", \"23\", \"24\", \"25\", \"26\", \"27\", \"28\", \"29\", \"30\", \"31\", \"32\", \"33\", \"34\", \"38\", \"39\"], \"mode\": \"lines\", \"name\": \"AUC_macro_max\", \"stepped\": true, \"type\": \"scatter\", \"data\": [0.8134024140985826, 0.85239977654463, 0.85239977654463, 0.85239977654463, 0.85239977654463, 0.85239977654463, 0.85239977654463, 0.85239977654463, 0.85239977654463, 0.85239977654463, 0.85239977654463, 0.85239977654463, 0.85239977654463, 0.85239977654463, 0.85239977654463, 0.85239977654463, 0.85239977654463, 0.85239977654463, 0.85239977654463, 0.85239977654463, 0.85239977654463, 0.85239977654463, 0.85239977654463, 0.85239977654463, 0.85239977654463, 0.85239977654463, 0.85239977654463, 0.85239977654463, 0.85239977654463, 0.85239977654463, 0.85239977654463, 0.85239977654463, 0.85239977654463, 0.85239977654463, 0.85239977654463, 0.8608697206004858, 0.8608697206004858]}], \"f1_score_weighted\": [{\"categories\": [\"0\", \"1\", \"2\", \"3\", \"4\", \"5\", \"6\", \"7\", \"8\", \"9\", \"10\", \"11\", \"12\", \"13\", \"14\", \"15\", \"16\", \"17\", \"18\", \"19\", \"20\", \"21\", \"22\", \"23\", \"24\", \"25\", \"26\", \"27\", \"28\", \"29\", \"30\", \"31\", \"32\", \"33\", \"34\", \"38\", \"39\"], \"mode\": \"markers\", \"name\": \"f1_score_weighted\", \"stepped\": false, \"type\": \"scatter\", \"data\": [0.7835643408930468, 0.7980786428134259, 0.7908589302939026, 0.7901363463427955, 0.773156302363936, 0.7624433953740589, 0.7836980652359762, 0.7724127920665431, 0.5608176569349923, 0.7523217433412548, 0.7269361322827474, 0.7591425742518372, 0.7129772217062759, 0.786240024826655, 0.7824023976271988, 0.7831844025093467, 0.7736537917652655, 0.7930337686877724, 0.7380511298389733, 0.7991622100309813, 0.7934455315842646, 0.7990199069485977, 0.794558596582005, 0.7726833801471693, 0.7993671187948224, 0.7777984562063647, 0.7935347476652832, 0.8012507310620016, 0.7912379754159855, 0.7709673136987861, 0.7640519018258116, 0.7728275603626577, 0.786695346443221, 0.7884817254631497, 0.7942747934359882, 0.807618103362379, 0.6236202807050273]}, {\"categories\": [\"0\", \"1\", \"2\", \"3\", \"4\", \"5\", \"6\", \"7\", \"8\", \"9\", \"10\", \"11\", \"12\", \"13\", \"14\", \"15\", \"16\", \"17\", \"18\", \"19\", \"20\", \"21\", \"22\", \"23\", \"24\", \"25\", \"26\", \"27\", \"28\", \"29\", \"30\", \"31\", \"32\", \"33\", \"34\", \"38\", \"39\"], \"mode\": \"lines\", \"name\": \"f1_score_weighted_max\", \"stepped\": true, \"type\": \"scatter\", \"data\": [0.7835643408930468, 0.7980786428134259, 0.7980786428134259, 0.7980786428134259, 0.7980786428134259, 0.7980786428134259, 0.7980786428134259, 0.7980786428134259, 0.7980786428134259, 0.7980786428134259, 0.7980786428134259, 0.7980786428134259, 0.7980786428134259, 0.7980786428134259, 0.7980786428134259, 0.7980786428134259, 0.7980786428134259, 0.7980786428134259, 0.7980786428134259, 0.7991622100309813, 0.7991622100309813, 0.7991622100309813, 0.7991622100309813, 0.7991622100309813, 0.7993671187948224, 0.7993671187948224, 0.7993671187948224, 0.8012507310620016, 0.8012507310620016, 0.8012507310620016, 0.8012507310620016, 0.8012507310620016, 0.8012507310620016, 0.8012507310620016, 0.8012507310620016, 0.807618103362379, 0.807618103362379]}], \"average_precision_score_weighted\": [{\"categories\": [\"0\", \"1\", \"2\", \"3\", \"4\", \"5\", \"6\", \"7\", \"8\", \"9\", \"10\", \"11\", \"12\", \"13\", \"14\", \"15\", \"16\", \"17\", \"18\", \"19\", \"20\", \"21\", \"22\", \"23\", \"24\", \"25\", \"26\", \"27\", \"28\", \"29\", \"30\", \"31\", \"32\", \"33\", \"34\", \"38\", \"39\"], \"mode\": \"markers\", \"name\": \"average_precision_score_weighted\", \"stepped\": false, \"type\": \"scatter\", \"data\": [0.8131485806421598, 0.8564455715338021, 0.8480121608442672, 0.8362507834922116, 0.8311023862043122, 0.824683286811441, 0.8474703966180825, 0.8547813234920429, 0.8227390171645735, 0.8367289647708469, 0.813650705536188, 0.8315245914684659, 0.7936270904427966, 0.8486879924185988, 0.8356736203631332, 0.8295838819076419, 0.8447959099468833, 0.850162811254324, 0.8292083276851183, 0.8389548410700627, 0.8462747349218546, 0.8331482761960498, 0.8392114509279324, 0.8265679197907658, 0.8496359479685746, 0.8328664988750065, 0.8500646652950843, 0.8381218179734, 0.8362523330619738, 0.8235289745871854, 0.8237441249472331, 0.8353942187722808, 0.8490161126802004, 0.8317972030717901, 0.8427704513798018, 0.8624975140840727, 0.8572169831250951]}, {\"categories\": [\"0\", \"1\", \"2\", \"3\", \"4\", \"5\", \"6\", \"7\", \"8\", \"9\", \"10\", \"11\", \"12\", \"13\", \"14\", \"15\", \"16\", \"17\", \"18\", \"19\", \"20\", \"21\", \"22\", \"23\", \"24\", \"25\", \"26\", \"27\", \"28\", \"29\", \"30\", \"31\", \"32\", \"33\", \"34\", \"38\", \"39\"], \"mode\": \"lines\", \"name\": \"average_precision_score_weighted_max\", \"stepped\": true, \"type\": \"scatter\", \"data\": [0.8131485806421598, 0.8564455715338021, 0.8564455715338021, 0.8564455715338021, 0.8564455715338021, 0.8564455715338021, 0.8564455715338021, 0.8564455715338021, 0.8564455715338021, 0.8564455715338021, 0.8564455715338021, 0.8564455715338021, 0.8564455715338021, 0.8564455715338021, 0.8564455715338021, 0.8564455715338021, 0.8564455715338021, 0.8564455715338021, 0.8564455715338021, 0.8564455715338021, 0.8564455715338021, 0.8564455715338021, 0.8564455715338021, 0.8564455715338021, 0.8564455715338021, 0.8564455715338021, 0.8564455715338021, 0.8564455715338021, 0.8564455715338021, 0.8564455715338021, 0.8564455715338021, 0.8564455715338021, 0.8564455715338021, 0.8564455715338021, 0.8564455715338021, 0.8624975140840727, 0.8624975140840727]}], \"AUC_micro\": [{\"categories\": [\"0\", \"1\", \"2\", \"3\", \"4\", \"5\", \"6\", \"7\", \"8\", \"9\", \"10\", \"11\", \"12\", \"13\", \"14\", \"15\", \"16\", \"17\", \"18\", \"19\", \"20\", \"21\", \"22\", \"23\", \"24\", \"25\", \"26\", \"27\", \"28\", \"29\", \"30\", \"31\", \"32\", \"33\", \"34\", \"38\", \"39\"], \"mode\": \"markers\", \"name\": \"AUC_micro\", \"stepped\": false, \"type\": \"scatter\", \"data\": [0.8383090091918076, 0.8697322143918141, 0.8647872478167677, 0.8546333038111547, 0.8459956218668999, 0.8618096895255493, 0.8656588598071195, 0.8615820764946642, 0.7715844870455222, 0.8316317547488321, 0.8059304080322759, 0.8319650426902021, 0.7815613692958043, 0.8651936635629482, 0.8533698345740512, 0.8701824472850541, 0.8497333673616112, 0.8612959286348024, 0.8202786963463258, 0.8618617881021736, 0.8650548976076177, 0.8525563874315955, 0.8589573584037978, 0.8396354874087617, 0.8713495961439792, 0.8457585485103966, 0.8720265807489953, 0.8634219019840051, 0.856218297443126, 0.840729165176383, 0.8346986703664039, 0.8535395648725398, 0.8565472070780288, 0.8474609094794554, 0.8633060295438522, 0.8746862717054139, 0.8285888222978542]}, {\"categories\": [\"0\", \"1\", \"2\", \"3\", \"4\", \"5\", \"6\", \"7\", \"8\", \"9\", \"10\", \"11\", \"12\", \"13\", \"14\", \"15\", \"16\", \"17\", \"18\", \"19\", \"20\", \"21\", \"22\", \"23\", \"24\", \"25\", \"26\", \"27\", \"28\", \"29\", \"30\", \"31\", \"32\", \"33\", \"34\", \"38\", \"39\"], \"mode\": \"lines\", \"name\": \"AUC_micro_max\", \"stepped\": true, \"type\": \"scatter\", \"data\": [0.8383090091918076, 0.8697322143918141, 0.8697322143918141, 0.8697322143918141, 0.8697322143918141, 0.8697322143918141, 0.8697322143918141, 0.8697322143918141, 0.8697322143918141, 0.8697322143918141, 0.8697322143918141, 0.8697322143918141, 0.8697322143918141, 0.8697322143918141, 0.8697322143918141, 0.8701824472850541, 0.8701824472850541, 0.8701824472850541, 0.8701824472850541, 0.8701824472850541, 0.8701824472850541, 0.8701824472850541, 0.8701824472850541, 0.8701824472850541, 0.8713495961439792, 0.8713495961439792, 0.8720265807489953, 0.8720265807489953, 0.8720265807489953, 0.8720265807489953, 0.8720265807489953, 0.8720265807489953, 0.8720265807489953, 0.8720265807489953, 0.8720265807489953, 0.8746862717054139, 0.8746862717054139]}], \"norm_macro_recall\": [{\"categories\": [\"0\", \"1\", \"2\", \"3\", \"4\", \"5\", \"6\", \"7\", \"8\", \"9\", \"10\", \"11\", \"12\", \"13\", \"14\", \"15\", \"16\", \"17\", \"18\", \"19\", \"20\", \"21\", \"22\", \"23\", \"24\", \"25\", \"26\", \"27\", \"28\", \"29\", \"30\", \"31\", \"32\", \"33\", \"34\", \"38\", \"39\"], \"mode\": \"markers\", \"name\": \"norm_macro_recall\", \"stepped\": false, \"type\": \"scatter\", \"data\": [0.5363809099675919, 0.5589216666281888, 0.526238019382206, 0.5652432780193599, 0.4844251973784551, 0.4800645000851641, 0.5210771970238123, 0.49324466959619057, 0.13330129935167873, 0.5233528991057712, 0.4709695733188258, 0.5193849463597816, 0.426773664271181, 0.5247813220541133, 0.5126901199841779, 0.5183672845428579, 0.5431845487329877, 0.5748651921996036, 0.481194522545681, 0.5629713190257994, 0.547881488539909, 0.5699006228157881, 0.5485844759309731, 0.5106735280514563, 0.5500837478058496, 0.5182393572559818, 0.532809230339651, 0.564596969359927, 0.5470324462090627, 0.5040649781076456, 0.4952519748035614, 0.5015927279017564, 0.5525401206347047, 0.5527082845837468, 0.5544965199145084, 0.5689957683644242, 0.24764276763336915]}, {\"categories\": [\"0\", \"1\", \"2\", \"3\", \"4\", \"5\", \"6\", \"7\", \"8\", \"9\", \"10\", \"11\", \"12\", \"13\", \"14\", \"15\", \"16\", \"17\", \"18\", \"19\", \"20\", \"21\", \"22\", \"23\", \"24\", \"25\", \"26\", \"27\", \"28\", \"29\", \"30\", \"31\", \"32\", \"33\", \"34\", \"38\", \"39\"], \"mode\": \"lines\", \"name\": \"norm_macro_recall_max\", \"stepped\": true, \"type\": \"scatter\", \"data\": [0.5363809099675919, 0.5589216666281888, 0.5589216666281888, 0.5652432780193599, 0.5652432780193599, 0.5652432780193599, 0.5652432780193599, 0.5652432780193599, 0.5652432780193599, 0.5652432780193599, 0.5652432780193599, 0.5652432780193599, 0.5652432780193599, 0.5652432780193599, 0.5652432780193599, 0.5652432780193599, 0.5652432780193599, 0.5748651921996036, 0.5748651921996036, 0.5748651921996036, 0.5748651921996036, 0.5748651921996036, 0.5748651921996036, 0.5748651921996036, 0.5748651921996036, 0.5748651921996036, 0.5748651921996036, 0.5748651921996036, 0.5748651921996036, 0.5748651921996036, 0.5748651921996036, 0.5748651921996036, 0.5748651921996036, 0.5748651921996036, 0.5748651921996036, 0.5748651921996036, 0.5748651921996036]}], \"f1_score_macro\": [{\"categories\": [\"0\", \"1\", \"2\", \"3\", \"4\", \"5\", \"6\", \"7\", \"8\", \"9\", \"10\", \"11\", \"12\", \"13\", \"14\", \"15\", \"16\", \"17\", \"18\", \"19\", \"20\", \"21\", \"22\", \"23\", \"24\", \"25\", \"26\", \"27\", \"28\", \"29\", \"30\", \"31\", \"32\", \"33\", \"34\", \"38\", \"39\"], \"mode\": \"markers\", \"name\": \"f1_score_macro\", \"stepped\": false, \"type\": \"scatter\", \"data\": [0.7683532434395635, 0.7824839254729231, 0.7716401416462694, 0.7774748080379232, 0.7516829663368955, 0.7419571227657602, 0.7659299878761343, 0.7525059814662238, 0.5011852796768063, 0.7428760018584027, 0.7172189738396912, 0.747384879503381, 0.7006208617252405, 0.7680093539849296, 0.7638654612622695, 0.7648000661271281, 0.7618325193255057, 0.7805553233327822, 0.7265228751840127, 0.7836978081205453, 0.7774204842868214, 0.785013720253518, 0.7781848854147968, 0.7561359123738487, 0.7818035709091707, 0.7607548539977411, 0.7747551684598302, 0.7857308625522897, 0.7756747780957475, 0.7539674226563801, 0.7474497259463952, 0.7552947298248724, 0.7728961610393723, 0.7744395572735047, 0.779090402328717, 0.7915402769047855, 0.5587143855030421]}, {\"categories\": [\"0\", \"1\", \"2\", \"3\", \"4\", \"5\", \"6\", \"7\", \"8\", \"9\", \"10\", \"11\", \"12\", \"13\", \"14\", \"15\", \"16\", \"17\", \"18\", \"19\", \"20\", \"21\", \"22\", \"23\", \"24\", \"25\", \"26\", \"27\", \"28\", \"29\", \"30\", \"31\", \"32\", \"33\", \"34\", \"38\", \"39\"], \"mode\": \"lines\", \"name\": \"f1_score_macro_max\", \"stepped\": true, \"type\": \"scatter\", \"data\": [0.7683532434395635, 0.7824839254729231, 0.7824839254729231, 0.7824839254729231, 0.7824839254729231, 0.7824839254729231, 0.7824839254729231, 0.7824839254729231, 0.7824839254729231, 0.7824839254729231, 0.7824839254729231, 0.7824839254729231, 0.7824839254729231, 0.7824839254729231, 0.7824839254729231, 0.7824839254729231, 0.7824839254729231, 0.7824839254729231, 0.7824839254729231, 0.7836978081205453, 0.7836978081205453, 0.785013720253518, 0.785013720253518, 0.785013720253518, 0.785013720253518, 0.785013720253518, 0.785013720253518, 0.7857308625522897, 0.7857308625522897, 0.7857308625522897, 0.7857308625522897, 0.7857308625522897, 0.7857308625522897, 0.7857308625522897, 0.7857308625522897, 0.7915402769047855, 0.7915402769047855]}], \"recall_score_weighted\": [{\"categories\": [\"0\", \"1\", \"2\", \"3\", \"4\", \"5\", \"6\", \"7\", \"8\", \"9\", \"10\", \"11\", \"12\", \"13\", \"14\", \"15\", \"16\", \"17\", \"18\", \"19\", \"20\", \"21\", \"22\", \"23\", \"24\", \"25\", \"26\", \"27\", \"28\", \"29\", \"30\", \"31\", \"32\", \"33\", \"34\", \"38\", \"39\"], \"mode\": \"markers\", \"name\": \"recall_score_weighted\", \"stepped\": false, \"type\": \"scatter\", \"data\": [0.7856004017324713, 0.8013244617412593, 0.7979536752244052, 0.7889962965287804, 0.7833783190006904, 0.7721486410143745, 0.7889523570397338, 0.7788651057686271, 0.6588349758332811, 0.7486221831648986, 0.7228297030945955, 0.756443412215178, 0.7093151716778607, 0.7934718473416609, 0.7890276818780994, 0.7889649111794614, 0.771043876718348, 0.7912497646098802, 0.7351013746783002, 0.8024480572468772, 0.7957127612830333, 0.8013244617412593, 0.7979473981545414, 0.7743518925365639, 0.8046952482581131, 0.7811060197099994, 0.800207143305505, 0.8035716527524951, 0.7934718473416609, 0.7732973447994477, 0.7654133450505304, 0.7765928064779362, 0.785638064151654, 0.7889962965287804, 0.795712761283033, 0.8114430983616847, 0.7105392003012994]}, {\"categories\": [\"0\", \"1\", \"2\", \"3\", \"4\", \"5\", \"6\", \"7\", \"8\", \"9\", \"10\", \"11\", \"12\", \"13\", \"14\", \"15\", \"16\", \"17\", \"18\", \"19\", \"20\", \"21\", \"22\", \"23\", \"24\", \"25\", \"26\", \"27\", \"28\", \"29\", \"30\", \"31\", \"32\", \"33\", \"34\", \"38\", \"39\"], \"mode\": \"lines\", \"name\": \"recall_score_weighted_max\", \"stepped\": true, \"type\": \"scatter\", \"data\": [0.7856004017324713, 0.8013244617412593, 0.8013244617412593, 0.8013244617412593, 0.8013244617412593, 0.8013244617412593, 0.8013244617412593, 0.8013244617412593, 0.8013244617412593, 0.8013244617412593, 0.8013244617412593, 0.8013244617412593, 0.8013244617412593, 0.8013244617412593, 0.8013244617412593, 0.8013244617412593, 0.8013244617412593, 0.8013244617412593, 0.8013244617412593, 0.8024480572468772, 0.8024480572468772, 0.8024480572468772, 0.8024480572468772, 0.8024480572468772, 0.8046952482581131, 0.8046952482581131, 0.8046952482581131, 0.8046952482581131, 0.8046952482581131, 0.8046952482581131, 0.8046952482581131, 0.8046952482581131, 0.8046952482581131, 0.8046952482581131, 0.8046952482581131, 0.8114430983616847, 0.8114430983616847]}], \"recall_score_macro\": [{\"categories\": [\"0\", \"1\", \"2\", \"3\", \"4\", \"5\", \"6\", \"7\", \"8\", \"9\", \"10\", \"11\", \"12\", \"13\", \"14\", \"15\", \"16\", \"17\", \"18\", \"19\", \"20\", \"21\", \"22\", \"23\", \"24\", \"25\", \"26\", \"27\", \"28\", \"29\", \"30\", \"31\", \"32\", \"33\", \"34\", \"38\", \"39\"], \"mode\": \"markers\", \"name\": \"recall_score_macro\", \"stepped\": false, \"type\": \"scatter\", \"data\": [0.7681904549837959, 0.7794608333140944, 0.763119009691103, 0.78262163900968, 0.7422125986892276, 0.7400322500425821, 0.7605385985119062, 0.7466223347980951, 0.5666506496758393, 0.7616764495528857, 0.735484786659413, 0.7596924731798909, 0.7133868321355905, 0.7623906610270567, 0.7563450599920889, 0.7591836422714289, 0.7715922743664938, 0.7874325960998018, 0.7405972612728405, 0.7814856595128997, 0.7739407442699544, 0.7849503114078941, 0.7742922379654866, 0.7553367640257282, 0.7750418739029248, 0.7591196786279909, 0.7664046151698255, 0.7822984846799634, 0.7735162231045314, 0.7520324890538228, 0.7476259874017808, 0.7507963639508782, 0.7762700603173524, 0.7763541422918734, 0.7772482599572542, 0.7844978841822121, 0.6238213838166846]}, {\"categories\": [\"0\", \"1\", \"2\", \"3\", \"4\", \"5\", \"6\", \"7\", \"8\", \"9\", \"10\", \"11\", \"12\", \"13\", \"14\", \"15\", \"16\", \"17\", \"18\", \"19\", \"20\", \"21\", \"22\", \"23\", \"24\", \"25\", \"26\", \"27\", \"28\", \"29\", \"30\", \"31\", \"32\", \"33\", \"34\", \"38\", \"39\"], \"mode\": \"lines\", \"name\": \"recall_score_macro_max\", \"stepped\": true, \"type\": \"scatter\", \"data\": [0.7681904549837959, 0.7794608333140944, 0.7794608333140944, 0.78262163900968, 0.78262163900968, 0.78262163900968, 0.78262163900968, 0.78262163900968, 0.78262163900968, 0.78262163900968, 0.78262163900968, 0.78262163900968, 0.78262163900968, 0.78262163900968, 0.78262163900968, 0.78262163900968, 0.78262163900968, 0.7874325960998018, 0.7874325960998018, 0.7874325960998018, 0.7874325960998018, 0.7874325960998018, 0.7874325960998018, 0.7874325960998018, 0.7874325960998018, 0.7874325960998018, 0.7874325960998018, 0.7874325960998018, 0.7874325960998018, 0.7874325960998018, 0.7874325960998018, 0.7874325960998018, 0.7874325960998018, 0.7874325960998018, 0.7874325960998018, 0.7874325960998018, 0.7874325960998018]}], \"accuracy\": [{\"categories\": [\"0\", \"1\", \"2\", \"3\", \"4\", \"5\", \"6\", \"7\", \"8\", \"9\", \"10\", \"11\", \"12\", \"13\", \"14\", \"15\", \"16\", \"17\", \"18\", \"19\", \"20\", \"21\", \"22\", \"23\", \"24\", \"25\", \"26\", \"27\", \"28\", \"29\", \"30\", \"31\", \"32\", \"33\", \"34\", \"38\", \"39\"], \"mode\": \"markers\", \"name\": \"accuracy\", \"stepped\": false, \"type\": \"scatter\", \"data\": [0.7856004017324713, 0.8013244617412593, 0.7979536752244052, 0.7889962965287804, 0.7833783190006904, 0.7721486410143745, 0.7889523570397338, 0.7788651057686271, 0.6588349758332811, 0.7486221831648986, 0.7228297030945955, 0.756443412215178, 0.7093151716778607, 0.7934718473416609, 0.7890276818780994, 0.7889649111794614, 0.771043876718348, 0.7912497646098802, 0.7351013746783002, 0.8024480572468772, 0.7957127612830333, 0.8013244617412593, 0.7979473981545414, 0.7743518925365639, 0.8046952482581131, 0.7811060197099994, 0.800207143305505, 0.8035716527524951, 0.7934718473416609, 0.7732973447994477, 0.7654133450505304, 0.7765928064779362, 0.785638064151654, 0.7889962965287804, 0.795712761283033, 0.8114430983616847, 0.7105392003012994]}, {\"categories\": [\"0\", \"1\", \"2\", \"3\", \"4\", \"5\", \"6\", \"7\", \"8\", \"9\", \"10\", \"11\", \"12\", \"13\", \"14\", \"15\", \"16\", \"17\", \"18\", \"19\", \"20\", \"21\", \"22\", \"23\", \"24\", \"25\", \"26\", \"27\", \"28\", \"29\", \"30\", \"31\", \"32\", \"33\", \"34\", \"38\", \"39\"], \"mode\": \"lines\", \"name\": \"accuracy_max\", \"stepped\": true, \"type\": \"scatter\", \"data\": [0.7856004017324713, 0.8013244617412593, 0.8013244617412593, 0.8013244617412593, 0.8013244617412593, 0.8013244617412593, 0.8013244617412593, 0.8013244617412593, 0.8013244617412593, 0.8013244617412593, 0.8013244617412593, 0.8013244617412593, 0.8013244617412593, 0.8013244617412593, 0.8013244617412593, 0.8013244617412593, 0.8013244617412593, 0.8013244617412593, 0.8013244617412593, 0.8024480572468772, 0.8024480572468772, 0.8024480572468772, 0.8024480572468772, 0.8024480572468772, 0.8046952482581131, 0.8046952482581131, 0.8046952482581131, 0.8046952482581131, 0.8046952482581131, 0.8046952482581131, 0.8046952482581131, 0.8046952482581131, 0.8046952482581131, 0.8046952482581131, 0.8046952482581131, 0.8114430983616847, 0.8114430983616847]}], \"AUC_weighted\": [{\"categories\": [\"0\", \"1\", \"2\", \"3\", \"4\", \"5\", \"6\", \"7\", \"8\", \"9\", \"10\", \"11\", \"12\", \"13\", \"14\", \"15\", \"16\", \"17\", \"18\", \"19\", \"20\", \"21\", \"22\", \"23\", \"24\", \"25\", \"26\", \"27\", \"28\", \"29\", \"30\", \"31\", \"32\", \"33\", \"34\", \"38\", \"39\"], \"mode\": \"markers\", \"name\": \"AUC_weighted\", \"stepped\": false, \"type\": \"scatter\", \"data\": [0.8134024140985826, 0.8523997765446302, 0.8450857291219697, 0.8412397918035396, 0.8310855725499253, 0.8348014080074609, 0.8492352299038485, 0.8486510086270161, 0.8143879364058286, 0.835064605089079, 0.811738374370505, 0.8252554610624051, 0.7829306597232824, 0.8488532341391485, 0.8350430471965773, 0.8412878796449601, 0.8407912699751835, 0.8464105562639098, 0.8209388452506363, 0.8401737691611493, 0.8455632318506107, 0.8324711149473807, 0.837786266649162, 0.8223731034788887, 0.8477141142928726, 0.8289315621306228, 0.8481079798083474, 0.8422150695545781, 0.8346799090771364, 0.8190655026028877, 0.8179349330630294, 0.8359589685281668, 0.8436763386145572, 0.8317494588683065, 0.8433567715819625, 0.8608697206004858, 0.8567611758627652]}, {\"categories\": [\"0\", \"1\", \"2\", \"3\", \"4\", \"5\", \"6\", \"7\", \"8\", \"9\", \"10\", \"11\", \"12\", \"13\", \"14\", \"15\", \"16\", \"17\", \"18\", \"19\", \"20\", \"21\", \"22\", \"23\", \"24\", \"25\", \"26\", \"27\", \"28\", \"29\", \"30\", \"31\", \"32\", \"33\", \"34\", \"38\", \"39\"], \"mode\": \"lines\", \"name\": \"AUC_weighted_max\", \"stepped\": true, \"type\": \"scatter\", \"data\": [0.8134024140985826, 0.8523997765446302, 0.8523997765446302, 0.8523997765446302, 0.8523997765446302, 0.8523997765446302, 0.8523997765446302, 0.8523997765446302, 0.8523997765446302, 0.8523997765446302, 0.8523997765446302, 0.8523997765446302, 0.8523997765446302, 0.8523997765446302, 0.8523997765446302, 0.8523997765446302, 0.8523997765446302, 0.8523997765446302, 0.8523997765446302, 0.8523997765446302, 0.8523997765446302, 0.8523997765446302, 0.8523997765446302, 0.8523997765446302, 0.8523997765446302, 0.8523997765446302, 0.8523997765446302, 0.8523997765446302, 0.8523997765446302, 0.8523997765446302, 0.8523997765446302, 0.8523997765446302, 0.8523997765446302, 0.8523997765446302, 0.8523997765446302, 0.8608697206004858, 0.8608697206004858]}], \"average_precision_score_macro\": [{\"categories\": [\"0\", \"1\", \"2\", \"3\", \"4\", \"5\", \"6\", \"7\", \"8\", \"9\", \"10\", \"11\", \"12\", \"13\", \"14\", \"15\", \"16\", \"17\", \"18\", \"19\", \"20\", \"21\", \"22\", \"23\", \"24\", \"25\", \"26\", \"27\", \"28\", \"29\", \"30\", \"31\", \"32\", \"33\", \"34\", \"38\", \"39\"], \"mode\": \"markers\", \"name\": \"average_precision_score_macro\", \"stepped\": false, \"type\": \"scatter\", \"data\": [0.8070683865912285, 0.8486467160217606, 0.8406410305687884, 0.8287940034145341, 0.8248799338501144, 0.8151375350261892, 0.8397903428341849, 0.845848567635705, 0.8091771043864504, 0.8256114782115306, 0.7989102913895658, 0.8213230890089385, 0.7792329862971383, 0.8403935302377468, 0.8269253563198766, 0.8191725180541212, 0.8362852279651622, 0.8420913423660521, 0.8164235704330423, 0.8323943387685702, 0.8381647074157337, 0.8261467070241052, 0.8313704310475935, 0.8159208099970172, 0.8432036901560721, 0.8218699507634197, 0.8433223000510408, 0.8317736872948898, 0.8286109092158366, 0.8155412778101724, 0.8109781678533651, 0.8241813619424697, 0.8401387719030501, 0.8221417490287131, 0.8329179769788737, 0.8547286970058863, 0.8497514123958524]}, {\"categories\": [\"0\", \"1\", \"2\", \"3\", \"4\", \"5\", \"6\", \"7\", \"8\", \"9\", \"10\", \"11\", \"12\", \"13\", \"14\", \"15\", \"16\", \"17\", \"18\", \"19\", \"20\", \"21\", \"22\", \"23\", \"24\", \"25\", \"26\", \"27\", \"28\", \"29\", \"30\", \"31\", \"32\", \"33\", \"34\", \"38\", \"39\"], \"mode\": \"lines\", \"name\": \"average_precision_score_macro_max\", \"stepped\": true, \"type\": \"scatter\", \"data\": [0.8070683865912285, 0.8486467160217606, 0.8486467160217606, 0.8486467160217606, 0.8486467160217606, 0.8486467160217606, 0.8486467160217606, 0.8486467160217606, 0.8486467160217606, 0.8486467160217606, 0.8486467160217606, 0.8486467160217606, 0.8486467160217606, 0.8486467160217606, 0.8486467160217606, 0.8486467160217606, 0.8486467160217606, 0.8486467160217606, 0.8486467160217606, 0.8486467160217606, 0.8486467160217606, 0.8486467160217606, 0.8486467160217606, 0.8486467160217606, 0.8486467160217606, 0.8486467160217606, 0.8486467160217606, 0.8486467160217606, 0.8486467160217606, 0.8486467160217606, 0.8486467160217606, 0.8486467160217606, 0.8486467160217606, 0.8486467160217606, 0.8486467160217606, 0.8547286970058863, 0.8547286970058863]}], \"f1_score_micro\": [{\"categories\": [\"0\", \"1\", \"2\", \"3\", \"4\", \"5\", \"6\", \"7\", \"8\", \"9\", \"10\", \"11\", \"12\", \"13\", \"14\", \"15\", \"16\", \"17\", \"18\", \"19\", \"20\", \"21\", \"22\", \"23\", \"24\", \"25\", \"26\", \"27\", \"28\", \"29\", \"30\", \"31\", \"32\", \"33\", \"34\", \"38\", \"39\"], \"mode\": \"markers\", \"name\": \"f1_score_micro\", \"stepped\": false, \"type\": \"scatter\", \"data\": [0.7856004017324713, 0.8013244617412593, 0.7979536752244052, 0.7889962965287803, 0.7833783190006904, 0.7721486410143745, 0.7889523570397338, 0.7788651057686271, 0.6588349758332811, 0.7486221831648987, 0.7228297030945955, 0.7564434122151779, 0.7093151716778607, 0.7934718473416609, 0.7890276818780994, 0.7889649111794614, 0.7710438767183477, 0.7912497646098802, 0.7351013746783002, 0.8024480572468772, 0.7957127612830333, 0.8013244617412593, 0.7979473981545414, 0.7743518925365639, 0.8046952482581131, 0.7811060197099995, 0.800207143305505, 0.8035716527524951, 0.7934718473416608, 0.7732973447994477, 0.7654133450505304, 0.7765928064779362, 0.785638064151654, 0.7889962965287803, 0.795712761283033, 0.8114430983616849, 0.7105392003012994]}, {\"categories\": [\"0\", \"1\", \"2\", \"3\", \"4\", \"5\", \"6\", \"7\", \"8\", \"9\", \"10\", \"11\", \"12\", \"13\", \"14\", \"15\", \"16\", \"17\", \"18\", \"19\", \"20\", \"21\", \"22\", \"23\", \"24\", \"25\", \"26\", \"27\", \"28\", \"29\", \"30\", \"31\", \"32\", \"33\", \"34\", \"38\", \"39\"], \"mode\": \"lines\", \"name\": \"f1_score_micro_max\", \"stepped\": true, \"type\": \"scatter\", \"data\": [0.7856004017324713, 0.8013244617412593, 0.8013244617412593, 0.8013244617412593, 0.8013244617412593, 0.8013244617412593, 0.8013244617412593, 0.8013244617412593, 0.8013244617412593, 0.8013244617412593, 0.8013244617412593, 0.8013244617412593, 0.8013244617412593, 0.8013244617412593, 0.8013244617412593, 0.8013244617412593, 0.8013244617412593, 0.8013244617412593, 0.8013244617412593, 0.8024480572468772, 0.8024480572468772, 0.8024480572468772, 0.8024480572468772, 0.8024480572468772, 0.8046952482581131, 0.8046952482581131, 0.8046952482581131, 0.8046952482581131, 0.8046952482581131, 0.8046952482581131, 0.8046952482581131, 0.8046952482581131, 0.8046952482581131, 0.8046952482581131, 0.8046952482581131, 0.8114430983616849, 0.8114430983616849]}]}, \"metricName\": null, \"primaryMetricName\": \"AUC_weighted\", \"showLegend\": false}, \"run_metrics\": [{\"name\": \"experiment_status\", \"run_id\": \"AutoML_b459f211-9402-49ae-a196-0bc7d069db8f\", \"categories\": [0, 1, 2, 3, 4, 5, 6, 7, 8, 9, 10, 11, 12, 13], \"series\": [{\"data\": [\"DatasetEvaluation\", \"FeaturesGeneration\", \"DatasetFeaturization\", \"DatasetFeaturizationCompleted\", \"DatasetCrossValidationSplit\", \"ModelSelection\", \"BestRunExplainModel\", \"ModelExplanationDataSetSetup\", \"PickSurrogateModel\", \"EngineeredFeatureExplanations\", \"EngineeredFeatureExplanations\", \"RawFeaturesExplanations\", \"RawFeaturesExplanations\", \"BestRunExplainModel\"]}]}, {\"name\": \"experiment_status_description\", \"run_id\": \"AutoML_b459f211-9402-49ae-a196-0bc7d069db8f\", \"categories\": [0, 1, 2, 3, 4, 5, 6, 7, 8, 9, 10, 11, 12, 13], \"series\": [{\"data\": [\"Gathering dataset statistics.\", \"Generating features for the dataset.\", \"Beginning to fit featurizers and featurize the dataset.\", \"Completed fit featurizers and featurizing the dataset.\", \"Generating individually featurized CV splits.\", \"Beginning model selection.\", \"Best run model explanations started\", \"Model explanations data setup completed\", \"Choosing LightGBM as the surrogate model for explanations\", \"Computation of engineered features started\", \"Computation of engineered features completed\", \"Computation of raw features started\", \"Computation of raw features completed\", \"Best run model explanations completed\"]}]}, {\"name\": \"f1_score_weighted\", \"run_id\": \"AutoML_b459f211-9402-49ae-a196-0bc7d069db8f\", \"categories\": [0], \"series\": [{\"data\": [0.807618103362379]}]}, {\"name\": \"log_loss\", \"run_id\": \"AutoML_b459f211-9402-49ae-a196-0bc7d069db8f\", \"categories\": [0], \"series\": [{\"data\": [0.4568459071069769]}]}, {\"name\": \"recall_score_micro\", \"run_id\": \"AutoML_b459f211-9402-49ae-a196-0bc7d069db8f\", \"categories\": [0], \"series\": [{\"data\": [0.8114430983616847]}]}, {\"name\": \"AUC_macro\", \"run_id\": \"AutoML_b459f211-9402-49ae-a196-0bc7d069db8f\", \"categories\": [0], \"series\": [{\"data\": [0.8608697206004858]}]}, {\"name\": \"norm_macro_recall\", \"run_id\": \"AutoML_b459f211-9402-49ae-a196-0bc7d069db8f\", \"categories\": [0], \"series\": [{\"data\": [0.5689957683644242]}]}, {\"name\": \"f1_score_micro\", \"run_id\": \"AutoML_b459f211-9402-49ae-a196-0bc7d069db8f\", \"categories\": [0], \"series\": [{\"data\": [0.8114430983616849]}]}, {\"name\": \"accuracy\", \"run_id\": \"AutoML_b459f211-9402-49ae-a196-0bc7d069db8f\", \"categories\": [0], \"series\": [{\"data\": [0.8114430983616847]}]}, {\"name\": \"recall_score_macro\", \"run_id\": \"AutoML_b459f211-9402-49ae-a196-0bc7d069db8f\", \"categories\": [0], \"series\": [{\"data\": [0.7844978841822121]}]}, {\"name\": \"precision_score_weighted\", \"run_id\": \"AutoML_b459f211-9402-49ae-a196-0bc7d069db8f\", \"categories\": [0], \"series\": [{\"data\": [0.8151601935562953]}]}, {\"name\": \"f1_score_macro\", \"run_id\": \"AutoML_b459f211-9402-49ae-a196-0bc7d069db8f\", \"categories\": [0], \"series\": [{\"data\": [0.7915402769047855]}]}, {\"name\": \"precision_score_macro\", \"run_id\": \"AutoML_b459f211-9402-49ae-a196-0bc7d069db8f\", \"categories\": [0], \"series\": [{\"data\": [0.8110549637896083]}]}, {\"name\": \"recall_score_weighted\", \"run_id\": \"AutoML_b459f211-9402-49ae-a196-0bc7d069db8f\", \"categories\": [0], \"series\": [{\"data\": [0.8114430983616847]}]}, {\"name\": \"balanced_accuracy\", \"run_id\": \"AutoML_b459f211-9402-49ae-a196-0bc7d069db8f\", \"categories\": [0], \"series\": [{\"data\": [0.7844978841822121]}]}, {\"name\": \"average_precision_score_micro\", \"run_id\": \"AutoML_b459f211-9402-49ae-a196-0bc7d069db8f\", \"categories\": [0], \"series\": [{\"data\": [0.8550659500396615]}]}, {\"name\": \"average_precision_score_macro\", \"run_id\": \"AutoML_b459f211-9402-49ae-a196-0bc7d069db8f\", \"categories\": [0], \"series\": [{\"data\": [0.8547286970058863]}]}, {\"name\": \"AUC_micro\", \"run_id\": \"AutoML_b459f211-9402-49ae-a196-0bc7d069db8f\", \"categories\": [0], \"series\": [{\"data\": [0.8746862717054139]}]}, {\"name\": \"weighted_accuracy\", \"run_id\": \"AutoML_b459f211-9402-49ae-a196-0bc7d069db8f\", \"categories\": [0], \"series\": [{\"data\": [0.8346901715371413]}]}, {\"name\": \"AUC_weighted\", \"run_id\": \"AutoML_b459f211-9402-49ae-a196-0bc7d069db8f\", \"categories\": [0], \"series\": [{\"data\": [0.8608697206004858]}]}, {\"name\": \"matthews_correlation\", \"run_id\": \"AutoML_b459f211-9402-49ae-a196-0bc7d069db8f\", \"categories\": [0], \"series\": [{\"data\": [0.5948211207237083]}]}, {\"name\": \"precision_score_micro\", \"run_id\": \"AutoML_b459f211-9402-49ae-a196-0bc7d069db8f\", \"categories\": [0], \"series\": [{\"data\": [0.8114430983616847]}]}, {\"name\": \"average_precision_score_weighted\", \"run_id\": \"AutoML_b459f211-9402-49ae-a196-0bc7d069db8f\", \"categories\": [0], \"series\": [{\"data\": [0.8624975140840727]}]}], \"run_logs\": \"\\nRun is completed.\", \"graph\": {}, \"widget_settings\": {\"childWidgetDisplay\": \"popup\", \"send_telemetry\": false, \"log_level\": \"INFO\", \"sdk_version\": \"1.20.0\"}, \"loading\": false}"
          },
          "metadata": {}
        }
      ],
      "execution_count": 6,
      "metadata": {
        "gather": {
          "logged": 1612247419173
        },
        "jupyter": {
          "outputs_hidden": false,
          "source_hidden": false
        },
        "nteract": {
          "transient": {
            "deleting": false
          }
        }
      }
    },
    {
      "cell_type": "markdown",
      "source": [
        "## Best Model\n",
        "\n",
        "TODO: In the cell below, get the best model from the automl experiments and display all the properties of the model.\n",
        "\n"
      ],
      "metadata": {}
    },
    {
      "cell_type": "code",
      "source": [
        "best_run_auto, best_model = remote_run.get_output()\n",
        "best_run_auto.get_tags()"
      ],
      "outputs": [
        {
          "output_type": "execute_result",
          "execution_count": 7,
          "data": {
            "text/plain": "{'_aml_system_azureml.automlComponent': 'AutoML',\n '_aml_system_ComputeTargetStatus': '{\"AllocationState\":\"steady\",\"PreparingNodeCount\":0,\"RunningNodeCount\":5,\"CurrentNodeCount\":5}',\n 'ensembled_iterations': '[1, 6, 13, 7, 26, 34, 15, 33, 8]',\n 'ensembled_algorithms': \"['XGBoostClassifier', 'ExtremeRandomTrees', 'XGBoostClassifier', 'ExtremeRandomTrees', 'LightGBM', 'LogisticRegression', 'ExtremeRandomTrees', 'SGD', 'RandomForest']\",\n 'ensemble_weights': '[0.16666666666666666, 0.08333333333333333, 0.08333333333333333, 0.16666666666666666, 0.08333333333333333, 0.16666666666666666, 0.08333333333333333, 0.08333333333333333, 0.08333333333333333]',\n 'best_individual_pipeline_score': '0.8523997765446302',\n 'best_individual_iteration': '1',\n '_aml_system_automl_is_child_run_end_telemetry_event_logged': 'True'}"
          },
          "metadata": {}
        }
      ],
      "execution_count": 7,
      "metadata": {
        "gather": {
          "logged": 1612247624254
        },
        "jupyter": {
          "outputs_hidden": false,
          "source_hidden": false
        },
        "nteract": {
          "transient": {
            "deleting": false
          }
        }
      }
    },
    {
      "cell_type": "markdown",
      "source": [
        "## Model Deployment\n",
        "\n",
        "Remember you have to deploy only one of the two models you trained.. Perform the steps in the rest of this notebook only if you wish to deploy this model.\n",
        "\n",
        "TODO: In the cell below, register the model, create an inference config and deploy the model as a web service."
      ],
      "metadata": {}
    },
    {
      "cell_type": "code",
      "source": [
        "description = 'Titanic survival AutoML model'\n",
        "model = best_run_auto.register_model(model_name='model', description = description, model_path = 'outputs/model.pkl', tags={'area': 'titanic'}, model_framework=Model.Framework.SCIKITLEARN, \n",
        "model_framework_version='0.19.1')\n",
        "\n",
        "print(model)\n",
        "print(model.name, model.id, model.version, sep='   ')"
      ],
      "outputs": [
        {
          "output_type": "stream",
          "name": "stdout",
          "text": [
            "Model(workspace=Workspace.create(name='quick-starts-ws-136918', subscription_id='f9d5a085-54dc-4215-9ba6-dad5d86e60a0', resource_group='aml-quickstarts-136918'), name=model, id=model:1, version=1, tags={'area': 'titanic'}, properties={})\n",
            "model   model:1   1\n"
          ]
        }
      ],
      "execution_count": 31,
      "metadata": {
        "gather": {
          "logged": 1612249398755
        }
      }
    },
    {
      "cell_type": "code",
      "source": [
        "aci_config = AciWebservice.deploy_configuration(cpu_cores=1, \n",
        "                                                memory_gb=2,\n",
        "                                                enable_app_insights=True, # standout suggestion\n",
        "                                                auth_enabled=True)  \n",
        "\n",
        "service_name = 'titanic-survival-service'\n",
        "\n",
        "service = Model.deploy(ws, service_name, [model], deployment_config=aci_config)\n",
        "\n",
        "service.wait_for_deployment(show_output = True)\n",
        "\n",
        "print(service.state)\n",
        "print(\"scoring URI: \" + service.scoring_uri)\n",
        "print(service.get_logs())"
      ],
      "outputs": [
        {
          "output_type": "stream",
          "name": "stdout",
          "text": [
            "Tips: You can try get_logs(): https://aka.ms/debugimage#dockerlog or local deployment: https://aka.ms/debugimage#debug-locally to debug if deployment takes longer than 10 minutes.\n",
            "Running............................................................................................................................................\n",
            "Failed\n"
          ]
        },
        {
          "output_type": "stream",
          "name": "stderr",
          "text": [
            "ERROR:azureml.core.webservice.webservice:Service deployment polling reached non-successful terminal state, current service state: Failed\n",
            "Operation ID: 170affca-500e-4671-8223-fd4eab4300c6\n",
            "More information can be found using '.get_logs()'\n",
            "Error:\n",
            "{\n",
            "  \"code\": \"AciDeploymentFailed\",\n",
            "  \"message\": \"Aci Deployment failed with exception: Error in entry script, ModuleNotFoundError: No module named 'azureml.automl', please run print(service.get_logs()) to get details.\",\n",
            "  \"details\": [\n",
            "    {\n",
            "      \"code\": \"CrashLoopBackOff\",\n",
            "      \"message\": \"Error in entry script, ModuleNotFoundError: No module named 'azureml.automl', please run print(service.get_logs()) to get details.\"\n",
            "    }\n",
            "  ]\n",
            "}\n",
            "\n"
          ]
        },
        {
          "output_type": "error",
          "ename": "WebserviceException",
          "evalue": "WebserviceException:\n\tMessage: Service deployment polling reached non-successful terminal state, current service state: Failed\nOperation ID: 170affca-500e-4671-8223-fd4eab4300c6\nMore information can be found using '.get_logs()'\nError:\n{\n  \"code\": \"AciDeploymentFailed\",\n  \"message\": \"Aci Deployment failed with exception: Error in entry script, ModuleNotFoundError: No module named 'azureml.automl', please run print(service.get_logs()) to get details.\",\n  \"details\": [\n    {\n      \"code\": \"CrashLoopBackOff\",\n      \"message\": \"Error in entry script, ModuleNotFoundError: No module named 'azureml.automl', please run print(service.get_logs()) to get details.\"\n    }\n  ]\n}\n\tInnerException None\n\tErrorResponse \n{\n    \"error\": {\n        \"message\": \"Service deployment polling reached non-successful terminal state, current service state: Failed\\nOperation ID: 170affca-500e-4671-8223-fd4eab4300c6\\nMore information can be found using '.get_logs()'\\nError:\\n{\\n  \\\"code\\\": \\\"AciDeploymentFailed\\\",\\n  \\\"message\\\": \\\"Aci Deployment failed with exception: Error in entry script, ModuleNotFoundError: No module named 'azureml.automl', please run print(service.get_logs()) to get details.\\\",\\n  \\\"details\\\": [\\n    {\\n      \\\"code\\\": \\\"CrashLoopBackOff\\\",\\n      \\\"message\\\": \\\"Error in entry script, ModuleNotFoundError: No module named 'azureml.automl', please run print(service.get_logs()) to get details.\\\"\\n    }\\n  ]\\n}\"\n    }\n}",
          "traceback": [
            "\u001b[0;31m---------------------------------------------------------------------------\u001b[0m",
            "\u001b[0;31mWebserviceException\u001b[0m                       Traceback (most recent call last)",
            "\u001b[0;32m<ipython-input-33-31a1b0969ee7>\u001b[0m in \u001b[0;36m<module>\u001b[0;34m\u001b[0m\n\u001b[1;32m      8\u001b[0m \u001b[0mservice\u001b[0m \u001b[0;34m=\u001b[0m \u001b[0mModel\u001b[0m\u001b[0;34m.\u001b[0m\u001b[0mdeploy\u001b[0m\u001b[0;34m(\u001b[0m\u001b[0mws\u001b[0m\u001b[0;34m,\u001b[0m \u001b[0mservice_name\u001b[0m\u001b[0;34m,\u001b[0m \u001b[0;34m[\u001b[0m\u001b[0mmodel\u001b[0m\u001b[0;34m]\u001b[0m\u001b[0;34m,\u001b[0m \u001b[0mdeployment_config\u001b[0m\u001b[0;34m=\u001b[0m\u001b[0maci_config\u001b[0m\u001b[0;34m)\u001b[0m\u001b[0;34m\u001b[0m\u001b[0;34m\u001b[0m\u001b[0m\n\u001b[1;32m      9\u001b[0m \u001b[0;34m\u001b[0m\u001b[0m\n\u001b[0;32m---> 10\u001b[0;31m \u001b[0mservice\u001b[0m\u001b[0;34m.\u001b[0m\u001b[0mwait_for_deployment\u001b[0m\u001b[0;34m(\u001b[0m\u001b[0mshow_output\u001b[0m \u001b[0;34m=\u001b[0m \u001b[0;32mTrue\u001b[0m\u001b[0;34m)\u001b[0m\u001b[0;34m\u001b[0m\u001b[0;34m\u001b[0m\u001b[0m\n\u001b[0m\u001b[1;32m     11\u001b[0m \u001b[0;34m\u001b[0m\u001b[0m\n\u001b[1;32m     12\u001b[0m \u001b[0mprint\u001b[0m\u001b[0;34m(\u001b[0m\u001b[0mservice\u001b[0m\u001b[0;34m.\u001b[0m\u001b[0mstate\u001b[0m\u001b[0;34m)\u001b[0m\u001b[0;34m\u001b[0m\u001b[0;34m\u001b[0m\u001b[0m\n",
            "\u001b[0;32m/anaconda/envs/azureml_py36/lib/python3.6/site-packages/azureml/core/webservice/webservice.py\u001b[0m in \u001b[0;36mwait_for_deployment\u001b[0;34m(self, show_output, timeout_sec)\u001b[0m\n\u001b[1;32m    913\u001b[0m                                           \u001b[0;34m'Error:\\n'\u001b[0m\u001b[0;34m\u001b[0m\u001b[0;34m\u001b[0m\u001b[0m\n\u001b[1;32m    914\u001b[0m                                           '{}'.format(self.state, self._operation_endpoint.split('/')[-1],\n\u001b[0;32m--> 915\u001b[0;31m                                                       logs_response, error_response), logger=module_logger)\n\u001b[0m\u001b[1;32m    916\u001b[0m             print('{} service creation operation finished, operation \"{}\"'.format(self._webservice_type,\n\u001b[1;32m    917\u001b[0m                                                                                   operation_state))\n",
            "\u001b[0;31mWebserviceException\u001b[0m: WebserviceException:\n\tMessage: Service deployment polling reached non-successful terminal state, current service state: Failed\nOperation ID: 170affca-500e-4671-8223-fd4eab4300c6\nMore information can be found using '.get_logs()'\nError:\n{\n  \"code\": \"AciDeploymentFailed\",\n  \"message\": \"Aci Deployment failed with exception: Error in entry script, ModuleNotFoundError: No module named 'azureml.automl', please run print(service.get_logs()) to get details.\",\n  \"details\": [\n    {\n      \"code\": \"CrashLoopBackOff\",\n      \"message\": \"Error in entry script, ModuleNotFoundError: No module named 'azureml.automl', please run print(service.get_logs()) to get details.\"\n    }\n  ]\n}\n\tInnerException None\n\tErrorResponse \n{\n    \"error\": {\n        \"message\": \"Service deployment polling reached non-successful terminal state, current service state: Failed\\nOperation ID: 170affca-500e-4671-8223-fd4eab4300c6\\nMore information can be found using '.get_logs()'\\nError:\\n{\\n  \\\"code\\\": \\\"AciDeploymentFailed\\\",\\n  \\\"message\\\": \\\"Aci Deployment failed with exception: Error in entry script, ModuleNotFoundError: No module named 'azureml.automl', please run print(service.get_logs()) to get details.\\\",\\n  \\\"details\\\": [\\n    {\\n      \\\"code\\\": \\\"CrashLoopBackOff\\\",\\n      \\\"message\\\": \\\"Error in entry script, ModuleNotFoundError: No module named 'azureml.automl', please run print(service.get_logs()) to get details.\\\"\\n    }\\n  ]\\n}\"\n    }\n}"
          ]
        }
      ],
      "execution_count": 33,
      "metadata": {}
    },
    {
      "cell_type": "code",
      "source": [
        "#VAIHTOEHTO 2, JOKA EI VIELÄ OIKEIN TOIMI\n",
        "\n",
        "myenv = Environment.get(workspace=ws, name=\"AzureML-Tutorial\")\n",
        "print(myenv.python.conda_dependencies.serialize_to_string())"
      ],
      "outputs": [
        {
          "output_type": "stream",
          "name": "stdout",
          "text": [
            "channels:\n",
            "- anaconda\n",
            "- conda-forge\n",
            "dependencies:\n",
            "- python=3.6.2\n",
            "- pip:\n",
            "  - azureml-core==1.21.0.post1\n",
            "  - azureml-defaults==1.21.0\n",
            "  - azureml-telemetry==1.21.0\n",
            "  - azureml-train-restclients-hyperdrive==1.21.0\n",
            "  - azureml-train-core==1.21.0\n",
            "  - azureml-widgets==1.21.0\n",
            "  - azureml-pipeline-core==1.21.0\n",
            "  - azureml-pipeline-steps==1.21.0\n",
            "  - azureml-opendatasets==1.21.0\n",
            "  - azureml-automl-core==1.21.0\n",
            "  - azureml-automl-runtime==1.21.0\n",
            "  - azureml-train-automl-client==1.21.0\n",
            "  - azureml-train-automl-runtime==1.21.0.post1\n",
            "  - azureml-train-automl==1.21.0\n",
            "  - azureml-train==1.21.0\n",
            "  - azureml-sdk==1.21.0\n",
            "  - azureml-interpret==1.21.0\n",
            "  - azureml-tensorboard==1.21.0\n",
            "  - azureml-mlflow==1.21.0\n",
            "  - mlflow\n",
            "  - sklearn-pandas\n",
            "- pandas\n",
            "- numpy\n",
            "- tqdm\n",
            "- scikit-learn\n",
            "- matplotlib\n",
            "name: azureml_df6ad66e80d4bc0030b6d046a4e46427\n",
            "\n"
          ]
        }
      ],
      "execution_count": 38,
      "metadata": {
        "gather": {
          "logged": 1612251187550
        }
      }
    },
    {
      "cell_type": "code",
      "source": [
        "# If one needs to add packages\n",
        "for pip_package in [\"scikit-learn\"]:\n",
        "    myenv.python.conda_dependencies.add_pip_package(pip_package)\n",
        "for pip_package in [\"xgboost\"]:\n",
        "    myenv.python.conda_dependencies.add_pip_package(pip_package)    "
      ],
      "outputs": [],
      "execution_count": 49,
      "metadata": {
        "gather": {
          "logged": 1612251936639
        }
      }
    },
    {
      "cell_type": "code",
      "source": [
        "inference_config = InferenceConfig(entry_script=\"score.py\",\n",
        "                                   environment=myenv)"
      ],
      "outputs": [],
      "execution_count": 50,
      "metadata": {
        "gather": {
          "logged": 1612251939048
        }
      }
    },
    {
      "cell_type": "code",
      "source": [
        "deployment_config = AciWebservice.deploy_configuration(cpu_cores = 1,\n",
        "                                                       memory_gb = 1,\n",
        "                                                      enable_app_insights=True)\n",
        "\n",
        "service = Model.deploy(\n",
        "    workspace = ws, \n",
        "    name = 'titanic-attempt3', \n",
        "    models = [model], \n",
        "    inference_config = inference_config, \n",
        "    deployment_config = deployment_config)\n",
        "\n",
        "service.wait_for_deployment(True)\n",
        "\n",
        "print(service.state)\n",
        "print(\"scoring URI: \" + service.scoring_uri)\n",
        "print(servide.get_logs())"
      ],
      "outputs": [
        {
          "output_type": "stream",
          "name": "stdout",
          "text": [
            "Tips: You can try get_logs(): https://aka.ms/debugimage#dockerlog or local deployment: https://aka.ms/debugimage#debug-locally to debug if deployment takes longer than 10 minutes.\n",
            "Running....................................................\n",
            "Failed\n"
          ]
        },
        {
          "output_type": "stream",
          "name": "stderr",
          "text": [
            "ERROR:azureml.core.webservice.webservice:Service deployment polling reached non-successful terminal state, current service state: Failed\n",
            "Operation ID: 9c2b1010-367e-48b8-99d1-6d6ec04d62cd\n",
            "More information can be found using '.get_logs()'\n",
            "Error:\n",
            "{\n",
            "  \"code\": \"AciDeploymentFailed\",\n",
            "  \"message\": \"Aci Deployment failed with exception: Error in entry script, ModuleNotFoundError: No module named 'xgboost', please run print(service.get_logs()) to get details.\",\n",
            "  \"details\": [\n",
            "    {\n",
            "      \"code\": \"CrashLoopBackOff\",\n",
            "      \"message\": \"Error in entry script, ModuleNotFoundError: No module named 'xgboost', please run print(service.get_logs()) to get details.\"\n",
            "    }\n",
            "  ]\n",
            "}\n",
            "\n"
          ]
        },
        {
          "output_type": "error",
          "ename": "WebserviceException",
          "evalue": "WebserviceException:\n\tMessage: Service deployment polling reached non-successful terminal state, current service state: Failed\nOperation ID: 9c2b1010-367e-48b8-99d1-6d6ec04d62cd\nMore information can be found using '.get_logs()'\nError:\n{\n  \"code\": \"AciDeploymentFailed\",\n  \"message\": \"Aci Deployment failed with exception: Error in entry script, ModuleNotFoundError: No module named 'xgboost', please run print(service.get_logs()) to get details.\",\n  \"details\": [\n    {\n      \"code\": \"CrashLoopBackOff\",\n      \"message\": \"Error in entry script, ModuleNotFoundError: No module named 'xgboost', please run print(service.get_logs()) to get details.\"\n    }\n  ]\n}\n\tInnerException None\n\tErrorResponse \n{\n    \"error\": {\n        \"message\": \"Service deployment polling reached non-successful terminal state, current service state: Failed\\nOperation ID: 9c2b1010-367e-48b8-99d1-6d6ec04d62cd\\nMore information can be found using '.get_logs()'\\nError:\\n{\\n  \\\"code\\\": \\\"AciDeploymentFailed\\\",\\n  \\\"message\\\": \\\"Aci Deployment failed with exception: Error in entry script, ModuleNotFoundError: No module named 'xgboost', please run print(service.get_logs()) to get details.\\\",\\n  \\\"details\\\": [\\n    {\\n      \\\"code\\\": \\\"CrashLoopBackOff\\\",\\n      \\\"message\\\": \\\"Error in entry script, ModuleNotFoundError: No module named 'xgboost', please run print(service.get_logs()) to get details.\\\"\\n    }\\n  ]\\n}\"\n    }\n}",
          "traceback": [
            "\u001b[0;31m---------------------------------------------------------------------------\u001b[0m",
            "\u001b[0;31mWebserviceException\u001b[0m                       Traceback (most recent call last)",
            "\u001b[0;32m<ipython-input-51-4a9cdfa4e7f9>\u001b[0m in \u001b[0;36m<module>\u001b[0;34m\u001b[0m\n\u001b[1;32m     10\u001b[0m     deployment_config = deployment_config)\n\u001b[1;32m     11\u001b[0m \u001b[0;34m\u001b[0m\u001b[0m\n\u001b[0;32m---> 12\u001b[0;31m \u001b[0mservice\u001b[0m\u001b[0;34m.\u001b[0m\u001b[0mwait_for_deployment\u001b[0m\u001b[0;34m(\u001b[0m\u001b[0;32mTrue\u001b[0m\u001b[0;34m)\u001b[0m\u001b[0;34m\u001b[0m\u001b[0;34m\u001b[0m\u001b[0m\n\u001b[0m\u001b[1;32m     13\u001b[0m \u001b[0;34m\u001b[0m\u001b[0m\n\u001b[1;32m     14\u001b[0m \u001b[0mprint\u001b[0m\u001b[0;34m(\u001b[0m\u001b[0mservice\u001b[0m\u001b[0;34m.\u001b[0m\u001b[0mstate\u001b[0m\u001b[0;34m)\u001b[0m\u001b[0;34m\u001b[0m\u001b[0;34m\u001b[0m\u001b[0m\n",
            "\u001b[0;32m/anaconda/envs/azureml_py36/lib/python3.6/site-packages/azureml/core/webservice/webservice.py\u001b[0m in \u001b[0;36mwait_for_deployment\u001b[0;34m(self, show_output, timeout_sec)\u001b[0m\n\u001b[1;32m    913\u001b[0m                                           \u001b[0;34m'Error:\\n'\u001b[0m\u001b[0;34m\u001b[0m\u001b[0;34m\u001b[0m\u001b[0m\n\u001b[1;32m    914\u001b[0m                                           '{}'.format(self.state, self._operation_endpoint.split('/')[-1],\n\u001b[0;32m--> 915\u001b[0;31m                                                       logs_response, error_response), logger=module_logger)\n\u001b[0m\u001b[1;32m    916\u001b[0m             print('{} service creation operation finished, operation \"{}\"'.format(self._webservice_type,\n\u001b[1;32m    917\u001b[0m                                                                                   operation_state))\n",
            "\u001b[0;31mWebserviceException\u001b[0m: WebserviceException:\n\tMessage: Service deployment polling reached non-successful terminal state, current service state: Failed\nOperation ID: 9c2b1010-367e-48b8-99d1-6d6ec04d62cd\nMore information can be found using '.get_logs()'\nError:\n{\n  \"code\": \"AciDeploymentFailed\",\n  \"message\": \"Aci Deployment failed with exception: Error in entry script, ModuleNotFoundError: No module named 'xgboost', please run print(service.get_logs()) to get details.\",\n  \"details\": [\n    {\n      \"code\": \"CrashLoopBackOff\",\n      \"message\": \"Error in entry script, ModuleNotFoundError: No module named 'xgboost', please run print(service.get_logs()) to get details.\"\n    }\n  ]\n}\n\tInnerException None\n\tErrorResponse \n{\n    \"error\": {\n        \"message\": \"Service deployment polling reached non-successful terminal state, current service state: Failed\\nOperation ID: 9c2b1010-367e-48b8-99d1-6d6ec04d62cd\\nMore information can be found using '.get_logs()'\\nError:\\n{\\n  \\\"code\\\": \\\"AciDeploymentFailed\\\",\\n  \\\"message\\\": \\\"Aci Deployment failed with exception: Error in entry script, ModuleNotFoundError: No module named 'xgboost', please run print(service.get_logs()) to get details.\\\",\\n  \\\"details\\\": [\\n    {\\n      \\\"code\\\": \\\"CrashLoopBackOff\\\",\\n      \\\"message\\\": \\\"Error in entry script, ModuleNotFoundError: No module named 'xgboost', please run print(service.get_logs()) to get details.\\\"\\n    }\\n  ]\\n}\"\n    }\n}"
          ]
        }
      ],
      "execution_count": 51,
      "metadata": {}
    },
    {
      "cell_type": "markdown",
      "source": [
        "TODO: In the cell below, send a request to the web service you deployed to test it."
      ],
      "metadata": {
        "collapsed": true,
        "gather": {
          "logged": 1598431657736
        },
        "jupyter": {
          "outputs_hidden": false,
          "source_hidden": false
        },
        "nteract": {
          "transient": {
            "deleting": false
          }
        }
      }
    },
    {
      "cell_type": "code",
      "source": [
        "scoring_uri = ''\n",
        "key = ''\n",
        "\n",
        "# Two sets of data to score, so we get two results back\n",
        "data = {\"data\":\n",
        "        [\n",
        "          {\n",
        "            \"PassengerId\": 1709,\n",
        "            \"Pclass\": 1,\n",
        "            \"Sex\": 0,\n",
        "            \"SibSp\": 1,\n",
        "            \"Parch\": 0,\n",
        "            \"Fare\": 36.05,\n",
        "            \"FamilySize\": 1,\n",
        "            \"IsAlone\": 0,\n",
        "            \"y\": 0\n",
        "          },\n",
        "          {\n",
        "            \"PassengerId\": 1807,\n",
        "            \"Pclass\": 3,\n",
        "            \"Sex\":1,\n",
        "            \"SibSp\":0,\n",
        "            \"Parch\":0,\n",
        "            \"Fare\": 72.08,\n",
        "            \"FamilySize\": 1,\n",
        "            \"IsAlone\":1,\n",
        "            \"y\":1\n",
        "          }\n",
        "      ]\n",
        "    }\n",
        "# Convert to JSON string\n",
        "input_data = json.dumps(data)\n",
        "with open(\"data.json\", \"w\") as _f:\n",
        "    _f.write(input_data)\n",
        "    \n",
        "# Set the content type\n",
        "headers = {'Content-Type': 'application/json'}\n",
        "# If authentication is enabled, set the authorization header\n",
        "headers['Authorization'] = f'Bearer {key}'\n",
        "\n",
        "# Make the request and display the response\n",
        "resp = requests.post(scoring_uri, input_data, headers=headers)\n",
        "print(resp.json())"
      ],
      "outputs": [
        {
          "output_type": "error",
          "ename": "JSONDecodeError",
          "evalue": "Expecting value: line 1 column 1 (char 0)",
          "traceback": [
            "\u001b[0;31m---------------------------------------------------------------------------\u001b[0m",
            "\u001b[0;31mJSONDecodeError\u001b[0m                           Traceback (most recent call last)",
            "\u001b[0;32m<ipython-input-30-791556fc6b33>\u001b[0m in \u001b[0;36m<module>\u001b[0;34m\u001b[0m\n\u001b[1;32m     35\u001b[0m \u001b[0;31m# Make the request and display the response\u001b[0m\u001b[0;34m\u001b[0m\u001b[0;34m\u001b[0m\u001b[0;34m\u001b[0m\u001b[0m\n\u001b[1;32m     36\u001b[0m \u001b[0mresp\u001b[0m \u001b[0;34m=\u001b[0m \u001b[0mrequests\u001b[0m\u001b[0;34m.\u001b[0m\u001b[0mpost\u001b[0m\u001b[0;34m(\u001b[0m\u001b[0mrest_endpoint\u001b[0m\u001b[0;34m,\u001b[0m \u001b[0mheaders\u001b[0m \u001b[0;34m=\u001b[0m \u001b[0mauth_header\u001b[0m\u001b[0;34m,\u001b[0m \u001b[0mjson\u001b[0m \u001b[0;34m=\u001b[0m \u001b[0minput_data\u001b[0m\u001b[0;34m)\u001b[0m\u001b[0;34m\u001b[0m\u001b[0;34m\u001b[0m\u001b[0m\n\u001b[0;32m---> 37\u001b[0;31m \u001b[0mprint\u001b[0m\u001b[0;34m(\u001b[0m\u001b[0mresp\u001b[0m\u001b[0;34m.\u001b[0m\u001b[0mjson\u001b[0m\u001b[0;34m(\u001b[0m\u001b[0;34m)\u001b[0m\u001b[0;34m)\u001b[0m\u001b[0;34m\u001b[0m\u001b[0;34m\u001b[0m\u001b[0m\n\u001b[0m",
            "\u001b[0;32m/anaconda/envs/azureml_py36/lib/python3.6/site-packages/requests/models.py\u001b[0m in \u001b[0;36mjson\u001b[0;34m(self, **kwargs)\u001b[0m\n\u001b[1;32m    898\u001b[0m                     \u001b[0;31m# used.\u001b[0m\u001b[0;34m\u001b[0m\u001b[0;34m\u001b[0m\u001b[0;34m\u001b[0m\u001b[0m\n\u001b[1;32m    899\u001b[0m                     \u001b[0;32mpass\u001b[0m\u001b[0;34m\u001b[0m\u001b[0;34m\u001b[0m\u001b[0m\n\u001b[0;32m--> 900\u001b[0;31m         \u001b[0;32mreturn\u001b[0m \u001b[0mcomplexjson\u001b[0m\u001b[0;34m.\u001b[0m\u001b[0mloads\u001b[0m\u001b[0;34m(\u001b[0m\u001b[0mself\u001b[0m\u001b[0;34m.\u001b[0m\u001b[0mtext\u001b[0m\u001b[0;34m,\u001b[0m \u001b[0;34m**\u001b[0m\u001b[0mkwargs\u001b[0m\u001b[0;34m)\u001b[0m\u001b[0;34m\u001b[0m\u001b[0;34m\u001b[0m\u001b[0m\n\u001b[0m\u001b[1;32m    901\u001b[0m \u001b[0;34m\u001b[0m\u001b[0m\n\u001b[1;32m    902\u001b[0m     \u001b[0;34m@\u001b[0m\u001b[0mproperty\u001b[0m\u001b[0;34m\u001b[0m\u001b[0;34m\u001b[0m\u001b[0m\n",
            "\u001b[0;32m/anaconda/envs/azureml_py36/lib/python3.6/json/__init__.py\u001b[0m in \u001b[0;36mloads\u001b[0;34m(s, encoding, cls, object_hook, parse_float, parse_int, parse_constant, object_pairs_hook, **kw)\u001b[0m\n\u001b[1;32m    352\u001b[0m             \u001b[0mparse_int\u001b[0m \u001b[0;32mis\u001b[0m \u001b[0;32mNone\u001b[0m \u001b[0;32mand\u001b[0m \u001b[0mparse_float\u001b[0m \u001b[0;32mis\u001b[0m \u001b[0;32mNone\u001b[0m \u001b[0;32mand\u001b[0m\u001b[0;34m\u001b[0m\u001b[0;34m\u001b[0m\u001b[0m\n\u001b[1;32m    353\u001b[0m             parse_constant is None and object_pairs_hook is None and not kw):\n\u001b[0;32m--> 354\u001b[0;31m         \u001b[0;32mreturn\u001b[0m \u001b[0m_default_decoder\u001b[0m\u001b[0;34m.\u001b[0m\u001b[0mdecode\u001b[0m\u001b[0;34m(\u001b[0m\u001b[0ms\u001b[0m\u001b[0;34m)\u001b[0m\u001b[0;34m\u001b[0m\u001b[0;34m\u001b[0m\u001b[0m\n\u001b[0m\u001b[1;32m    355\u001b[0m     \u001b[0;32mif\u001b[0m \u001b[0mcls\u001b[0m \u001b[0;32mis\u001b[0m \u001b[0;32mNone\u001b[0m\u001b[0;34m:\u001b[0m\u001b[0;34m\u001b[0m\u001b[0;34m\u001b[0m\u001b[0m\n\u001b[1;32m    356\u001b[0m         \u001b[0mcls\u001b[0m \u001b[0;34m=\u001b[0m \u001b[0mJSONDecoder\u001b[0m\u001b[0;34m\u001b[0m\u001b[0;34m\u001b[0m\u001b[0m\n",
            "\u001b[0;32m/anaconda/envs/azureml_py36/lib/python3.6/json/decoder.py\u001b[0m in \u001b[0;36mdecode\u001b[0;34m(self, s, _w)\u001b[0m\n\u001b[1;32m    337\u001b[0m \u001b[0;34m\u001b[0m\u001b[0m\n\u001b[1;32m    338\u001b[0m         \"\"\"\n\u001b[0;32m--> 339\u001b[0;31m         \u001b[0mobj\u001b[0m\u001b[0;34m,\u001b[0m \u001b[0mend\u001b[0m \u001b[0;34m=\u001b[0m \u001b[0mself\u001b[0m\u001b[0;34m.\u001b[0m\u001b[0mraw_decode\u001b[0m\u001b[0;34m(\u001b[0m\u001b[0ms\u001b[0m\u001b[0;34m,\u001b[0m \u001b[0midx\u001b[0m\u001b[0;34m=\u001b[0m\u001b[0m_w\u001b[0m\u001b[0;34m(\u001b[0m\u001b[0ms\u001b[0m\u001b[0;34m,\u001b[0m \u001b[0;36m0\u001b[0m\u001b[0;34m)\u001b[0m\u001b[0;34m.\u001b[0m\u001b[0mend\u001b[0m\u001b[0;34m(\u001b[0m\u001b[0;34m)\u001b[0m\u001b[0;34m)\u001b[0m\u001b[0;34m\u001b[0m\u001b[0;34m\u001b[0m\u001b[0m\n\u001b[0m\u001b[1;32m    340\u001b[0m         \u001b[0mend\u001b[0m \u001b[0;34m=\u001b[0m \u001b[0m_w\u001b[0m\u001b[0;34m(\u001b[0m\u001b[0ms\u001b[0m\u001b[0;34m,\u001b[0m \u001b[0mend\u001b[0m\u001b[0;34m)\u001b[0m\u001b[0;34m.\u001b[0m\u001b[0mend\u001b[0m\u001b[0;34m(\u001b[0m\u001b[0;34m)\u001b[0m\u001b[0;34m\u001b[0m\u001b[0;34m\u001b[0m\u001b[0m\n\u001b[1;32m    341\u001b[0m         \u001b[0;32mif\u001b[0m \u001b[0mend\u001b[0m \u001b[0;34m!=\u001b[0m \u001b[0mlen\u001b[0m\u001b[0;34m(\u001b[0m\u001b[0ms\u001b[0m\u001b[0;34m)\u001b[0m\u001b[0;34m:\u001b[0m\u001b[0;34m\u001b[0m\u001b[0;34m\u001b[0m\u001b[0m\n",
            "\u001b[0;32m/anaconda/envs/azureml_py36/lib/python3.6/json/decoder.py\u001b[0m in \u001b[0;36mraw_decode\u001b[0;34m(self, s, idx)\u001b[0m\n\u001b[1;32m    355\u001b[0m             \u001b[0mobj\u001b[0m\u001b[0;34m,\u001b[0m \u001b[0mend\u001b[0m \u001b[0;34m=\u001b[0m \u001b[0mself\u001b[0m\u001b[0;34m.\u001b[0m\u001b[0mscan_once\u001b[0m\u001b[0;34m(\u001b[0m\u001b[0ms\u001b[0m\u001b[0;34m,\u001b[0m \u001b[0midx\u001b[0m\u001b[0;34m)\u001b[0m\u001b[0;34m\u001b[0m\u001b[0;34m\u001b[0m\u001b[0m\n\u001b[1;32m    356\u001b[0m         \u001b[0;32mexcept\u001b[0m \u001b[0mStopIteration\u001b[0m \u001b[0;32mas\u001b[0m \u001b[0merr\u001b[0m\u001b[0;34m:\u001b[0m\u001b[0;34m\u001b[0m\u001b[0;34m\u001b[0m\u001b[0m\n\u001b[0;32m--> 357\u001b[0;31m             \u001b[0;32mraise\u001b[0m \u001b[0mJSONDecodeError\u001b[0m\u001b[0;34m(\u001b[0m\u001b[0;34m\"Expecting value\"\u001b[0m\u001b[0;34m,\u001b[0m \u001b[0ms\u001b[0m\u001b[0;34m,\u001b[0m \u001b[0merr\u001b[0m\u001b[0;34m.\u001b[0m\u001b[0mvalue\u001b[0m\u001b[0;34m)\u001b[0m \u001b[0;32mfrom\u001b[0m \u001b[0;32mNone\u001b[0m\u001b[0;34m\u001b[0m\u001b[0;34m\u001b[0m\u001b[0m\n\u001b[0m\u001b[1;32m    358\u001b[0m         \u001b[0;32mreturn\u001b[0m \u001b[0mobj\u001b[0m\u001b[0;34m,\u001b[0m \u001b[0mend\u001b[0m\u001b[0;34m\u001b[0m\u001b[0;34m\u001b[0m\u001b[0m\n",
            "\u001b[0;31mJSONDecodeError\u001b[0m: Expecting value: line 1 column 1 (char 0)"
          ]
        }
      ],
      "execution_count": 30,
      "metadata": {
        "gather": {
          "logged": 1598432707604
        },
        "jupyter": {
          "outputs_hidden": false,
          "source_hidden": false
        },
        "nteract": {
          "transient": {
            "deleting": false
          }
        }
      }
    },
    {
      "cell_type": "markdown",
      "source": [
        "TODO: In the cell below, print the logs of the web service and delete the service"
      ],
      "metadata": {
        "collapsed": true,
        "gather": {
          "logged": 1598432765711
        },
        "jupyter": {
          "outputs_hidden": false,
          "source_hidden": false
        },
        "nteract": {
          "transient": {
            "deleting": false
          }
        }
      }
    },
    {
      "cell_type": "code",
      "source": [
        "# standout suggestion\n",
        "logs = service.get_logs()\n",
        "\n",
        "for line in logs.split('\\n'):\n",
        "    print(line)"
      ],
      "outputs": [
        {
          "output_type": "error",
          "ename": "WebserviceException",
          "evalue": "WebserviceException:\n\tMessage: WebserviceNotFound: Webservice with name Titanic_survival not found in provided workspace\n\tInnerException None\n\tErrorResponse \n{\n    \"error\": {\n        \"message\": \"WebserviceNotFound: Webservice with name Titanic_survival not found in provided workspace\"\n    }\n}",
          "traceback": [
            "\u001b[0;31m---------------------------------------------------------------------------\u001b[0m",
            "\u001b[0;31mWebserviceException\u001b[0m                       Traceback (most recent call last)",
            "\u001b[0;32m<ipython-input-28-2a75f84f71a3>\u001b[0m in \u001b[0;36m<module>\u001b[0;34m\u001b[0m\n\u001b[1;32m      5\u001b[0m \u001b[0;34m\u001b[0m\u001b[0m\n\u001b[1;32m      6\u001b[0m \u001b[0;31m# load existing web service\u001b[0m\u001b[0;34m\u001b[0m\u001b[0;34m\u001b[0m\u001b[0;34m\u001b[0m\u001b[0m\n\u001b[0;32m----> 7\u001b[0;31m \u001b[0mservice\u001b[0m \u001b[0;34m=\u001b[0m \u001b[0mWebservice\u001b[0m\u001b[0;34m(\u001b[0m\u001b[0mname\u001b[0m\u001b[0;34m=\u001b[0m\u001b[0mname\u001b[0m\u001b[0;34m,\u001b[0m \u001b[0mworkspace\u001b[0m\u001b[0;34m=\u001b[0m\u001b[0mws\u001b[0m\u001b[0;34m)\u001b[0m\u001b[0;34m\u001b[0m\u001b[0;34m\u001b[0m\u001b[0m\n\u001b[0m\u001b[1;32m      8\u001b[0m \u001b[0;34m\u001b[0m\u001b[0m\n\u001b[1;32m      9\u001b[0m \u001b[0;31m# enable application insight\u001b[0m\u001b[0;34m\u001b[0m\u001b[0;34m\u001b[0m\u001b[0;34m\u001b[0m\u001b[0m\n",
            "\u001b[0;32m/anaconda/envs/azureml_py36/lib/python3.6/site-packages/azureml/core/webservice/webservice.py\u001b[0m in \u001b[0;36m__new__\u001b[0;34m(cls, workspace, name)\u001b[0m\n\u001b[1;32m    213\u001b[0m             \u001b[0;32melse\u001b[0m\u001b[0;34m:\u001b[0m\u001b[0;34m\u001b[0m\u001b[0;34m\u001b[0m\u001b[0m\n\u001b[1;32m    214\u001b[0m                 raise WebserviceException('WebserviceNotFound: Webservice with name {} not found in provided '\n\u001b[0;32m--> 215\u001b[0;31m                                           'workspace'.format(name))\n\u001b[0m\u001b[1;32m    216\u001b[0m         \u001b[0;32melse\u001b[0m\u001b[0;34m:\u001b[0m\u001b[0;34m\u001b[0m\u001b[0;34m\u001b[0m\u001b[0m\n\u001b[1;32m    217\u001b[0m             \u001b[0;32mreturn\u001b[0m \u001b[0msuper\u001b[0m\u001b[0;34m(\u001b[0m\u001b[0mWebservice\u001b[0m\u001b[0;34m,\u001b[0m \u001b[0mcls\u001b[0m\u001b[0;34m)\u001b[0m\u001b[0;34m.\u001b[0m\u001b[0m__new__\u001b[0m\u001b[0;34m(\u001b[0m\u001b[0mcls\u001b[0m\u001b[0;34m)\u001b[0m\u001b[0;34m\u001b[0m\u001b[0;34m\u001b[0m\u001b[0m\n",
            "\u001b[0;31mWebserviceException\u001b[0m: WebserviceException:\n\tMessage: WebserviceNotFound: Webservice with name Titanic_survival not found in provided workspace\n\tInnerException None\n\tErrorResponse \n{\n    \"error\": {\n        \"message\": \"WebserviceNotFound: Webservice with name Titanic_survival not found in provided workspace\"\n    }\n}"
          ]
        }
      ],
      "execution_count": 28,
      "metadata": {
        "jupyter": {
          "outputs_hidden": false,
          "source_hidden": false
        },
        "nteract": {
          "transient": {
            "deleting": false
          }
        }
      }
    },
    {
      "cell_type": "code",
      "source": [
        "# delete service\n",
        "service.delete()"
      ],
      "outputs": [],
      "execution_count": null,
      "metadata": {}
    },
    {
      "cell_type": "code",
      "source": [
        "# Standout action: create and publish pipeline\n",
        "ds = ws.get_default_datastore()\n",
        "metrics_output_name = 'metrics_output'\n",
        "best_model_output_name = 'best_model_output'\n",
        "\n",
        "metrics_data = PipelineData(name='metrics_data',\n",
        "                           datastore=ds,\n",
        "                           pipeline_output_name=metrics_output_name,\n",
        "                           training_output=TrainingOutput(type='Metrics'))\n",
        "model_data = PipelineData(name='model_data',\n",
        "                           datastore=ds,\n",
        "                           pipeline_output_name=best_model_output_name,\n",
        "                           training_output=TrainingOutput(type='Model'))\n",
        "\n",
        "automl_step = AutoMLStep(\n",
        "    name='automl_module',\n",
        "    automl_config=automl_config,\n",
        "    outputs=[metrics_data, model_data],\n",
        "    allow_reuse=True)\n",
        "\n",
        "pipeline = Pipeline(\n",
        "    description=\"pipeline_with_automlstep\",\n",
        "    workspace=ws,    \n",
        "    steps=[automl_step])\n",
        "\n",
        "pipeline_run = experiment.submit(pipeline)"
      ],
      "outputs": [],
      "execution_count": null,
      "metadata": {}
    },
    {
      "cell_type": "code",
      "source": [
        "RunDetails(pipeline_run).show()"
      ],
      "outputs": [],
      "execution_count": null,
      "metadata": {}
    },
    {
      "cell_type": "code",
      "source": [
        "pipeline_run.wait_for_completion()"
      ],
      "outputs": [],
      "execution_count": null,
      "metadata": {}
    },
    {
      "cell_type": "code",
      "source": [
        "# save the best model\n",
        "best_model_output = pipeline_run.get_pipeline_output(best_model_output_name)\n",
        "num_file_downloaded = best_model_output.download('.', show_progress=True)\n",
        "\n",
        "with open(best_model_output._path_on_datastore, \"rb\" ) as f:\n",
        "    best_model = pickle.load(f)\n",
        "best_model"
      ],
      "outputs": [],
      "execution_count": null,
      "metadata": {}
    },
    {
      "cell_type": "code",
      "source": [
        "best_model.steps"
      ],
      "outputs": [],
      "execution_count": null,
      "metadata": {}
    },
    {
      "cell_type": "code",
      "source": [
        "published_pipeline = pipeline_run.publish_pipeline(\n",
        "    name=\"Titanic_survival\", description=\"Titanic Survival pipeline\", version=\"1.0\")\n",
        "\n",
        "published_pipeline"
      ],
      "outputs": [],
      "execution_count": null,
      "metadata": {}
    },
    {
      "cell_type": "code",
      "source": [
        "interactive_auth = InteractiveLoginAuthentication()\n",
        "auth_header = interactive_auth.get_authentication_header()"
      ],
      "outputs": [],
      "execution_count": null,
      "metadata": {}
    },
    {
      "cell_type": "code",
      "source": [
        "rest_endpoint = published_pipeline.endpoint\n",
        "response = requests.post(rest_endpoint, \n",
        "                         headers=auth_header, \n",
        "                         json={\"ExperimentName\": \"pipeline-rest-endpoint\"}\n",
        "                        )"
      ],
      "outputs": [],
      "execution_count": null,
      "metadata": {}
    },
    {
      "cell_type": "code",
      "source": [
        "try:\n",
        "    response.raise_for_status()\n",
        "except Exception:    \n",
        "    raise Exception(\"Received bad response from the endpoint: {}\\n\"\n",
        "                    \"Response Code: {}\\n\"\n",
        "                    \"Headers: {}\\n\"\n",
        "                    \"Content: {}\".format(rest_endpoint, response.status_code, response.headers, response.content))\n",
        "\n",
        "run_id = response.json().get('Id')\n",
        "print('Submitted pipeline run: ', run_id)\n"
      ],
      "outputs": [],
      "execution_count": null,
      "metadata": {}
    },
    {
      "cell_type": "code",
      "source": [
        "published_pipeline_run = PipelineRun(ws.experiments[\"pipeline-rest-endpoint\"], run_id)\n",
        "RunDetails(published_pipeline_run).show()"
      ],
      "outputs": [],
      "execution_count": null,
      "metadata": {}
    }
  ],
  "metadata": {
    "kernel_info": {
      "name": "python3"
    },
    "kernelspec": {
      "name": "python3",
      "language": "python",
      "display_name": "Python 3"
    },
    "language_info": {
      "name": "python",
      "version": "3.6.9",
      "mimetype": "text/x-python",
      "codemirror_mode": {
        "name": "ipython",
        "version": 3
      },
      "pygments_lexer": "ipython3",
      "nbconvert_exporter": "python",
      "file_extension": ".py"
    },
    "nteract": {
      "version": "nteract-front-end@1.0.0"
    }
  },
  "nbformat": 4,
  "nbformat_minor": 2
}
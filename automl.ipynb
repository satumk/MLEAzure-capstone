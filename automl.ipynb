{
  "cells": [
    {
      "cell_type": "markdown",
      "source": [
        "# Automated ML\n",
        "\n",
        "TODO: Import Dependencies. In the cell below, import all the dependencies that you will need to complete the project."
      ],
      "metadata": {}
    },
    {
      "cell_type": "code",
      "source": [
        "import logging \n",
        "import os \n",
        "import csv \n",
        "import pickle \n",
        "import requests \n",
        "import json \n",
        "import joblib\n",
        "\n",
        "#from matplotlib import pyplot as plt\n",
        "#import numpy as np\n",
        "import pandas as pd \n",
        "#from sklearn import datasets \n",
        "import pkg_resources\n",
        "from train import clean_data \n",
        "\n",
        "import azureml.core\n",
        "from azureml.core.experiment import Experiment \n",
        "from azureml.core.workspace import Workspace \n",
        "from azureml.train.automl import AutoMLConfig \n",
        "from azureml.core.dataset import Dataset \n",
        "from azureml.widgets import RunDetails \n",
        "from azureml.pipeline.core import PipelineData, TrainingOutput\n",
        "from azureml.pipeline.core import Pipeline \n",
        "from azureml.core.authentication import InteractiveLoginAuthentication \n",
        "from azureml.pipeline.steps import AutoMLStep \n",
        "from azureml.core.compute import AmlCompute \n",
        "from azureml.core.compute import ComputeTarget \n",
        "from azureml.core.compute_target import ComputeTargetException \n",
        "from azureml.core.model import InferenceConfig, Model \n",
        "from azureml.core.webservice import AciWebservice, Webservice \n",
        "from azureml.core.environment import Environment \n",
        "from azureml.core.run import Run \n",
        "\n",
        "#pip install pyarrow>=0.12.0 --upgrade\n",
        "\n",
        "# Check core SDK version number\n",
        "print(\"SDK version:\", azureml.core.VERSION)"
      ],
      "outputs": [
        {
          "output_type": "stream",
          "name": "stdout",
          "text": [
            "SDK version: 1.20.0\n"
          ]
        }
      ],
      "execution_count": 23,
      "metadata": {
        "gather": {
          "logged": 1612344442017
        },
        "jupyter": {
          "outputs_hidden": false,
          "source_hidden": false
        },
        "nteract": {
          "transient": {
            "deleting": false
          }
        }
      }
    },
    {
      "cell_type": "markdown",
      "source": [
        "## Dataset\n",
        "\n",
        "### Overview\n",
        "TODO: In this markdown cell, give an overview of the dataset you are using. Also mention the task you will be performing.\n",
        "\n",
        "\n",
        "TODO: Get data. In the cell below, write code to access the data you will be using in this project. Remember that the dataset needs to be external."
      ],
      "metadata": {}
    },
    {
      "cell_type": "code",
      "source": [
        "ws = Workspace.from_config()\n",
        "ws.write_config(path='.azureml')\n",
        "\n",
        "# choose a name for experiment\n",
        "experiment_name = 'Titanic_project'\n",
        "\n",
        "experiment=Experiment(ws, experiment_name)\n",
        "\n",
        "print('Workspace name: ' + ws.name, \n",
        "      'Azure region: ' + ws.location, \n",
        "      'Subscription id: ' + ws.subscription_id, \n",
        "      'Resource group: ' + ws.resource_group, sep = '\\n')\n",
        "\n",
        "run = experiment.start_logging()\n",
        "\n",
        "amlcompute_cluster_name = \"ML-cluster-uda\"\n",
        "\n",
        "try:\n",
        "      compute_target=ComputeTarget(workspace=ws, name=amlcompute_cluster_name)\n",
        "      print(\"Found existing cluster.Using it\")\n",
        "except ComputeTargetException:\n",
        "      compute_config = AmlCompute.provisioning_configuration(vm_size=\"STANDARD_D2_V2\", max_nodes=4)\n",
        "      compute_target = ComputeTarget.create(ws, amlcompute_cluster_name, compute_config)\n",
        "\n",
        "compute_target.wait_for_completion(show_output = True, min_node_count=1, timeout_in_minutes=10)"
      ],
      "outputs": [
        {
          "output_type": "stream",
          "name": "stdout",
          "text": [
            "Workspace name: quick-starts-ws-137056\n",
            "Azure region: southcentralus\n",
            "Subscription id: 976ee174-3882-4721-b90a-b5fef6b72f24\n",
            "Resource group: aml-quickstarts-137056\n",
            "Found existing cluster.Using it\n",
            "Succeeded\n",
            "AmlCompute wait for completion finished\n",
            "\n",
            "Minimum number of nodes requested have been provisioned\n"
          ]
        }
      ],
      "execution_count": 6,
      "metadata": {
        "gather": {
          "logged": 1612339803384
        }
      }
    },
    {
      "cell_type": "code",
      "source": [
        "found = False\n",
        "key = \"titanic\"\n",
        "description_text = \"Titanic survival classification data from Kaggle\"\n",
        "\n",
        "if key in ws.datasets.keys(): \n",
        "        found = True\n",
        "        data = ws.datasets[key] \n",
        "else :\n",
        "    data = pd.read_csv(\"titanic.csv\")\n",
        "\n",
        "x, y = clean_data(data.to_pandas_dataframe())\n",
        "x['y']=y\n",
        "print(x.head(5))\n",
        "print(x.describe())\n",
        "\n",
        "# turning pandas dataframe to Tabular data\n",
        "data_folder = './data'\n",
        "os.makedirs(data_folder, exist_ok=True)\n",
        "local_path = 'data/prepared.csv'\n",
        "x.to_csv(local_path)\n",
        "\n",
        "datastore = ws.get_default_datastore()\n",
        "datastore.upload(src_dir='data', target_path='data')\n",
        "\n",
        "dataset = Dataset.Tabular.from_delimited_files(path=[(datastore, ('data/prepared.csv'))])"
      ],
      "outputs": [
        {
          "output_type": "stream",
          "name": "stdout",
          "text": [
            "   PassengerId  Pclass  Sex Age  SibSp  Parch     Fare  FamilySize  IsAlone  y\n",
            "0            1       3    0   1      1      0   7.2500           1        0  0\n",
            "1            2       1    1   2      1      0  71.2833           1        0  1\n",
            "2            3       3    1   3      0      0   7.9250           0        1  1\n",
            "3            4       1    1   4      1      0  53.1000           1        0  1\n",
            "4            5       3    0   5      0      0   8.0500           0        1  0\n",
            "       PassengerId      Pclass         Sex       SibSp       Parch  \\\n",
            "count   891.000000  891.000000  891.000000  891.000000  891.000000   \n",
            "mean    446.000000    2.308642    0.352413    0.523008    0.381594   \n",
            "std     257.353842    0.836071    0.477990    1.102743    0.806057   \n",
            "min       1.000000    1.000000    0.000000    0.000000    0.000000   \n",
            "25%     223.500000    2.000000    0.000000    0.000000    0.000000   \n",
            "50%     446.000000    3.000000    0.000000    0.000000    0.000000   \n",
            "75%     668.500000    3.000000    1.000000    1.000000    0.000000   \n",
            "max     891.000000    3.000000    1.000000    8.000000    6.000000   \n",
            "\n",
            "             Fare  FamilySize     IsAlone           y  \n",
            "count  891.000000  891.000000  891.000000  891.000000  \n",
            "mean    32.204208    0.904602    0.602694    0.383838  \n",
            "std     49.693429    1.613459    0.489615    0.486592  \n",
            "min      0.000000    0.000000    0.000000    0.000000  \n",
            "25%      7.910400    0.000000    0.000000    0.000000  \n",
            "50%     14.454200    0.000000    1.000000    0.000000  \n",
            "75%     31.000000    1.000000    1.000000    1.000000  \n",
            "max    512.329200   10.000000    1.000000    1.000000  \n",
            "Uploading an estimated of 1 files\n",
            "Uploading data/prepared.csv\n",
            "Uploaded data/prepared.csv, 1 files out of an estimated total of 1\n",
            "Uploaded 1 files\n"
          ]
        }
      ],
      "execution_count": 7,
      "metadata": {
        "gather": {
          "logged": 1612339817271
        }
      }
    },
    {
      "cell_type": "markdown",
      "source": [
        "## AutoML Configuration\n",
        "\n",
        "TODO: Explain why you chose the automl settings and cofiguration you used below."
      ],
      "metadata": {}
    },
    {
      "cell_type": "code",
      "source": [
        "# TODO: Put your automl settings here\n",
        "automl_settings = {\n",
        "    \"experiment_timeout_minutes\": 20,\n",
        "    \"max_concurrent_iterations\": 5,\n",
        "    \"primary_metric\" : 'accuracy'\n",
        "}\n",
        "\n",
        "# TODO: Put your automl config here\n",
        "automl_config = AutoMLConfig(compute_target=compute_target,\n",
        "                             task = \"classification\",\n",
        "                             training_data=dataset,\n",
        "                             label_column_name=\"y\",   \n",
        "                             path = \"./data\",\n",
        "                             enable_early_stopping= True,\n",
        "                             featurization= 'auto',\n",
        "                             debug_log = \"automl_errors.log\",\n",
        "                             n_cross_validations=5,\n",
        "                             **automl_settings\n",
        "                            )\n"
      ],
      "outputs": [],
      "execution_count": 10,
      "metadata": {
        "gather": {
          "logged": 1612339856612
        },
        "jupyter": {
          "outputs_hidden": false,
          "source_hidden": false
        },
        "nteract": {
          "transient": {
            "deleting": false
          }
        }
      }
    },
    {
      "cell_type": "code",
      "source": [
        "# TODO: Submit your experiment\n",
        "remote_run = experiment.submit(automl_config, show_output=True)"
      ],
      "outputs": [
        {
          "output_type": "stream",
          "name": "stdout",
          "text": [
            "Running on remote.\n",
            "Running on remote compute: ML-cluster-uda\n",
            "Parent Run ID: AutoML_d9ba78e5-a8a7-42bb-bd1c-0e1d330dae19\n",
            "\n",
            "Current status: FeaturesGeneration. Generating features for the dataset.\n",
            "Current status: DatasetCrossValidationSplit. Generating individually featurized CV splits.\n",
            "Current status: ModelSelection. Beginning model selection.\n",
            "\n",
            "****************************************************************************************************\n",
            "DATA GUARDRAILS: \n",
            "\n",
            "TYPE:         Class balancing detection\n",
            "STATUS:       PASSED\n",
            "DESCRIPTION:  Your inputs were analyzed, and all classes are balanced in your training data.\n",
            "              Learn more about imbalanced data: https://aka.ms/AutomatedMLImbalancedData\n",
            "\n",
            "****************************************************************************************************\n",
            "\n",
            "TYPE:         Missing feature values imputation\n",
            "STATUS:       PASSED\n",
            "DESCRIPTION:  No feature missing values were detected in the training data.\n",
            "              Learn more about missing value imputation: https://aka.ms/AutomatedMLFeaturization\n",
            "\n",
            "****************************************************************************************************\n",
            "\n",
            "TYPE:         High cardinality feature detection\n",
            "STATUS:       PASSED\n",
            "DESCRIPTION:  Your inputs were analyzed, and no high cardinality features were detected.\n",
            "              Learn more about high cardinality feature handling: https://aka.ms/AutomatedMLFeaturization\n",
            "\n",
            "****************************************************************************************************\n",
            "\n",
            "****************************************************************************************************\n",
            "ITERATION: The iteration being evaluated.\n",
            "PIPELINE: A summary description of the pipeline being evaluated.\n",
            "DURATION: Time taken for the current iteration.\n",
            "METRIC: The result of computing score on the fitted pipeline.\n",
            "BEST: The best observed score thus far.\n",
            "****************************************************************************************************\n",
            "\n",
            " ITERATION   PIPELINE                                       DURATION      METRIC      BEST\n",
            "         0   MaxAbsScaler LightGBM                          0:00:49       0.7856    0.7856\n",
            "         3   MaxAbsScaler RandomForest                      0:00:55       0.7721    0.7856\n",
            "         1   MaxAbsScaler XGBoostClassifier                 0:01:02       0.8013    0.8013\n",
            "         2   MaxAbsScaler RandomForest                      0:00:49       0.7665    0.8013\n",
            "         8   SparseNormalizer XGBoostClassifier             0:00:51       0.7778    0.8013\n",
            "         9   MaxAbsScaler LogisticRegression                0:00:46       0.8002    0.8013\n",
            "         6   MaxAbsScaler LightGBM                          0:02:45       0.8047    0.8047\n",
            "         4   MaxAbsScaler RandomForest                      0:02:51       0.7811    0.8047\n",
            "         5   MaxAbsScaler RandomForest                      0:02:54       0.7149    0.8047\n",
            "         7   StandardScalerWrapper LogisticRegression       0:02:53       0.7901    0.8047\n",
            "        10   StandardScalerWrapper RandomForest             0:00:46       0.7845    0.8047\n",
            "        12   SparseNormalizer XGBoostClassifier             0:00:43       0.7744    0.8047\n",
            "        13   MaxAbsScaler RandomForest                      0:00:39       0.7677    0.8047\n",
            "        11   MaxAbsScaler LightGBM                          0:00:52       0.7418    0.8047\n",
            "        14   MaxAbsScaler RandomForest                      0:00:53       0.7665    0.8047\n",
            "        15   SparseNormalizer XGBoostClassifier             0:00:49       0.7935    0.8047\n",
            "        16   MaxAbsScaler LightGBM                          0:00:46       0.7822    0.8047\n",
            "        17   MaxAbsScaler LightGBM                          0:00:49       0.7688    0.8047\n",
            "        18   StandardScalerWrapper LightGBM                 0:00:43       0.7856    0.8047\n",
            "        19   SparseNormalizer LightGBM                      0:00:49       0.7823    0.8047\n",
            "        20   SparseNormalizer LightGBM                      0:00:46       0.7632    0.8047\n",
            "        22   MaxAbsScaler LightGBM                          0:00:41       0.8002    0.8047\n",
            "        21   MaxAbsScaler LightGBM                          0:00:52       0.7946    0.8047\n",
            "        23   SparseNormalizer XGBoostClassifier             0:00:49       0.7834    0.8047\n",
            "        24   SparseNormalizer XGBoostClassifier             0:00:51       0.7800    0.8047\n",
            "        25   MaxAbsScaler LightGBM                          0:00:49       0.7733    0.8047\n",
            "        26   MaxAbsScaler LightGBM                          0:00:42       0.7867    0.8047\n",
            "        27   SparseNormalizer XGBoostClassifier             0:00:54       0.7822    0.8047\n",
            "        28   StandardScalerWrapper XGBoostClassifier        0:00:55       0.7789    0.8047\n",
            "        29   SparseNormalizer XGBoostClassifier             0:00:55       0.7722    0.8047\n",
            "        30   MaxAbsScaler LightGBM                          0:00:47       0.7564    0.8047\n",
            "        31   SparseNormalizer XGBoostClassifier             0:01:02       0.7508    0.8047\n",
            "        32   StandardScalerWrapper XGBoostClassifier        0:00:49       0.7923    0.8047\n",
            "        33   StandardScalerWrapper LightGBM                 0:01:00       0.7991    0.8047\n",
            "        34   SparseNormalizer XGBoostClassifier             0:00:43       0.7542    0.8047\n",
            "        36                                                  0:00:17          nan    0.8047\n",
            "        37                                                  0:00:18          nan    0.8047\n",
            "        35   StandardScalerWrapper LightGBM                 0:00:34       0.6162    0.8047\n",
            "        38    VotingEnsemble                                0:01:18       0.8182    0.8182\n",
            "        39    StackEnsemble                                 0:01:26       0.7968    0.8182\n"
          ]
        }
      ],
      "execution_count": 13,
      "metadata": {
        "gather": {
          "logged": 1612341996284
        },
        "jupyter": {
          "outputs_hidden": false,
          "source_hidden": false
        },
        "nteract": {
          "transient": {
            "deleting": false
          }
        }
      }
    },
    {
      "cell_type": "markdown",
      "source": [
        "## Run Details\n",
        "\n",
        "OPTIONAL: Write about the different models trained and their performance. Why do you think some models did better than others?\n",
        "\n",
        "TODO: In the cell below, use the `RunDetails` widget to show the different experiments."
      ],
      "metadata": {}
    },
    {
      "cell_type": "code",
      "source": [
        "RunDetails(remote_run).show()"
      ],
      "outputs": [
        {
          "output_type": "display_data",
          "data": {
            "text/plain": "_AutoMLWidget(widget_settings={'childWidgetDisplay': 'popup', 'send_telemetry': False, 'log_level': 'INFO', 's…",
            "application/vnd.jupyter.widget-view+json": {
              "version_major": 2,
              "version_minor": 0,
              "model_id": "6982a101cb7a44debb8f5f7cc3c2475d"
            }
          },
          "metadata": {}
        },
        {
          "output_type": "display_data",
          "data": {
            "application/aml.mini.widget.v1": "{\"status\": \"Completed\", \"workbench_run_details_uri\": \"https://ml.azure.com/experiments/Titanic_project/runs/AutoML_d9ba78e5-a8a7-42bb-bd1c-0e1d330dae19?wsid=/subscriptions/976ee174-3882-4721-b90a-b5fef6b72f24/resourcegroups/aml-quickstarts-137056/workspaces/quick-starts-ws-137056\", \"run_id\": \"AutoML_d9ba78e5-a8a7-42bb-bd1c-0e1d330dae19\", \"run_properties\": {\"run_id\": \"AutoML_d9ba78e5-a8a7-42bb-bd1c-0e1d330dae19\", \"created_utc\": \"2021-02-03T08:29:19.419899Z\", \"properties\": {\"num_iterations\": \"1000\", \"training_type\": \"TrainFull\", \"acquisition_function\": \"EI\", \"primary_metric\": \"accuracy\", \"train_split\": \"0\", \"acquisition_parameter\": \"0\", \"num_cross_validation\": \"5\", \"target\": \"ML-cluster-uda\", \"AMLSettingsJsonString\": \"{\\\"path\\\":null,\\\"name\\\":\\\"Titanic_project\\\",\\\"subscription_id\\\":\\\"976ee174-3882-4721-b90a-b5fef6b72f24\\\",\\\"resource_group\\\":\\\"aml-quickstarts-137056\\\",\\\"workspace_name\\\":\\\"quick-starts-ws-137056\\\",\\\"region\\\":\\\"southcentralus\\\",\\\"compute_target\\\":\\\"ML-cluster-uda\\\",\\\"spark_service\\\":null,\\\"azure_service\\\":\\\"remote\\\",\\\"many_models\\\":false,\\\"pipeline_fetch_max_batch_size\\\":1,\\\"iterations\\\":1000,\\\"primary_metric\\\":\\\"accuracy\\\",\\\"task_type\\\":\\\"classification\\\",\\\"data_script\\\":null,\\\"validation_size\\\":0.0,\\\"n_cross_validations\\\":5,\\\"y_min\\\":null,\\\"y_max\\\":null,\\\"num_classes\\\":null,\\\"featurization\\\":\\\"auto\\\",\\\"_ignore_package_version_incompatibilities\\\":false,\\\"is_timeseries\\\":false,\\\"max_cores_per_iteration\\\":1,\\\"max_concurrent_iterations\\\":5,\\\"iteration_timeout_minutes\\\":null,\\\"mem_in_mb\\\":null,\\\"enforce_time_on_windows\\\":false,\\\"experiment_timeout_minutes\\\":20,\\\"experiment_exit_score\\\":null,\\\"whitelist_models\\\":null,\\\"blacklist_algos\\\":[\\\"TensorFlowLinearClassifier\\\",\\\"TensorFlowDNN\\\"],\\\"supported_models\\\":[\\\"MultinomialNaiveBayes\\\",\\\"XGBoostClassifier\\\",\\\"TensorFlowDNN\\\",\\\"SVM\\\",\\\"TensorFlowLinearClassifier\\\",\\\"LightGBM\\\",\\\"AveragedPerceptronClassifier\\\",\\\"LogisticRegression\\\",\\\"LinearSVM\\\",\\\"RandomForest\\\",\\\"ExtremeRandomTrees\\\",\\\"GradientBoosting\\\",\\\"BernoulliNaiveBayes\\\",\\\"KNN\\\",\\\"DecisionTree\\\",\\\"SGD\\\"],\\\"auto_blacklist\\\":true,\\\"blacklist_samples_reached\\\":false,\\\"exclude_nan_labels\\\":true,\\\"verbosity\\\":20,\\\"_debug_log\\\":\\\"azureml_automl.log\\\",\\\"show_warnings\\\":false,\\\"model_explainability\\\":true,\\\"service_url\\\":null,\\\"sdk_url\\\":null,\\\"sdk_packages\\\":null,\\\"enable_onnx_compatible_models\\\":false,\\\"enable_split_onnx_featurizer_estimator_models\\\":false,\\\"vm_type\\\":\\\"STANDARD_DS2_V2\\\",\\\"telemetry_verbosity\\\":20,\\\"send_telemetry\\\":true,\\\"enable_dnn\\\":false,\\\"scenario\\\":\\\"SDK-1.13.0\\\",\\\"environment_label\\\":null,\\\"force_text_dnn\\\":false,\\\"enable_feature_sweeping\\\":true,\\\"enable_early_stopping\\\":true,\\\"early_stopping_n_iters\\\":10,\\\"metrics\\\":null,\\\"enable_ensembling\\\":true,\\\"enable_stack_ensembling\\\":true,\\\"ensemble_iterations\\\":15,\\\"enable_tf\\\":false,\\\"enable_subsampling\\\":null,\\\"subsample_seed\\\":null,\\\"enable_nimbusml\\\":false,\\\"enable_streaming\\\":false,\\\"force_streaming\\\":false,\\\"track_child_runs\\\":true,\\\"allowed_private_models\\\":[],\\\"label_column_name\\\":\\\"y\\\",\\\"weight_column_name\\\":null,\\\"cv_split_column_names\\\":null,\\\"enable_local_managed\\\":false,\\\"_local_managed_run_id\\\":null,\\\"cost_mode\\\":1,\\\"lag_length\\\":0,\\\"metric_operation\\\":\\\"maximize\\\",\\\"preprocess\\\":true}\", \"DataPrepJsonString\": \"{\\\\\\\"training_data\\\\\\\": \\\\\\\"{\\\\\\\\\\\\\\\"blocks\\\\\\\\\\\\\\\": [{\\\\\\\\\\\\\\\"id\\\\\\\\\\\\\\\": \\\\\\\\\\\\\\\"f8c1d6a0-3de3-4eb2-b4b4-9f6b29ef9ac3\\\\\\\\\\\\\\\", \\\\\\\\\\\\\\\"type\\\\\\\\\\\\\\\": \\\\\\\\\\\\\\\"Microsoft.DPrep.GetDatastoreFilesBlock\\\\\\\\\\\\\\\", \\\\\\\\\\\\\\\"arguments\\\\\\\\\\\\\\\": {\\\\\\\\\\\\\\\"datastores\\\\\\\\\\\\\\\": [{\\\\\\\\\\\\\\\"datastoreName\\\\\\\\\\\\\\\": \\\\\\\\\\\\\\\"workspaceblobstore\\\\\\\\\\\\\\\", \\\\\\\\\\\\\\\"path\\\\\\\\\\\\\\\": \\\\\\\\\\\\\\\"data/prepared.csv\\\\\\\\\\\\\\\", \\\\\\\\\\\\\\\"resourceGroup\\\\\\\\\\\\\\\": \\\\\\\\\\\\\\\"aml-quickstarts-137056\\\\\\\\\\\\\\\", \\\\\\\\\\\\\\\"subscription\\\\\\\\\\\\\\\": \\\\\\\\\\\\\\\"976ee174-3882-4721-b90a-b5fef6b72f24\\\\\\\\\\\\\\\", \\\\\\\\\\\\\\\"workspaceName\\\\\\\\\\\\\\\": \\\\\\\\\\\\\\\"quick-starts-ws-137056\\\\\\\\\\\\\\\"}]}, \\\\\\\\\\\\\\\"localData\\\\\\\\\\\\\\\": {}, \\\\\\\\\\\\\\\"isEnabled\\\\\\\\\\\\\\\": true, \\\\\\\\\\\\\\\"name\\\\\\\\\\\\\\\": null, \\\\\\\\\\\\\\\"annotation\\\\\\\\\\\\\\\": null}, {\\\\\\\\\\\\\\\"id\\\\\\\\\\\\\\\": \\\\\\\\\\\\\\\"4879b060-3a44-426a-882f-3483ee96404f\\\\\\\\\\\\\\\", \\\\\\\\\\\\\\\"type\\\\\\\\\\\\\\\": \\\\\\\\\\\\\\\"Microsoft.DPrep.ParseDelimitedBlock\\\\\\\\\\\\\\\", \\\\\\\\\\\\\\\"arguments\\\\\\\\\\\\\\\": {\\\\\\\\\\\\\\\"columnHeadersMode\\\\\\\\\\\\\\\": 3, \\\\\\\\\\\\\\\"fileEncoding\\\\\\\\\\\\\\\": 0, \\\\\\\\\\\\\\\"handleQuotedLineBreaks\\\\\\\\\\\\\\\": false, \\\\\\\\\\\\\\\"preview\\\\\\\\\\\\\\\": false, \\\\\\\\\\\\\\\"separator\\\\\\\\\\\\\\\": \\\\\\\\\\\\\\\",\\\\\\\\\\\\\\\", \\\\\\\\\\\\\\\"skipRows\\\\\\\\\\\\\\\": 0, \\\\\\\\\\\\\\\"skipRowsMode\\\\\\\\\\\\\\\": 0}, \\\\\\\\\\\\\\\"localData\\\\\\\\\\\\\\\": {}, \\\\\\\\\\\\\\\"isEnabled\\\\\\\\\\\\\\\": true, \\\\\\\\\\\\\\\"name\\\\\\\\\\\\\\\": null, \\\\\\\\\\\\\\\"annotation\\\\\\\\\\\\\\\": null}, {\\\\\\\\\\\\\\\"id\\\\\\\\\\\\\\\": \\\\\\\\\\\\\\\"1132dea7-66e6-4342-93b4-922b499b0152\\\\\\\\\\\\\\\", \\\\\\\\\\\\\\\"type\\\\\\\\\\\\\\\": \\\\\\\\\\\\\\\"Microsoft.DPrep.DropColumnsBlock\\\\\\\\\\\\\\\", \\\\\\\\\\\\\\\"arguments\\\\\\\\\\\\\\\": {\\\\\\\\\\\\\\\"columns\\\\\\\\\\\\\\\": {\\\\\\\\\\\\\\\"type\\\\\\\\\\\\\\\": 0, \\\\\\\\\\\\\\\"details\\\\\\\\\\\\\\\": {\\\\\\\\\\\\\\\"selectedColumns\\\\\\\\\\\\\\\": [\\\\\\\\\\\\\\\"Path\\\\\\\\\\\\\\\"]}}}, \\\\\\\\\\\\\\\"localData\\\\\\\\\\\\\\\": {}, \\\\\\\\\\\\\\\"isEnabled\\\\\\\\\\\\\\\": true, \\\\\\\\\\\\\\\"name\\\\\\\\\\\\\\\": null, \\\\\\\\\\\\\\\"annotation\\\\\\\\\\\\\\\": null}, {\\\\\\\\\\\\\\\"id\\\\\\\\\\\\\\\": \\\\\\\\\\\\\\\"a49842b0-4d02-46c8-940d-efcc5547e1e4\\\\\\\\\\\\\\\", \\\\\\\\\\\\\\\"type\\\\\\\\\\\\\\\": \\\\\\\\\\\\\\\"Microsoft.DPrep.SetColumnTypesBlock\\\\\\\\\\\\\\\", \\\\\\\\\\\\\\\"arguments\\\\\\\\\\\\\\\": {\\\\\\\\\\\\\\\"columnConversion\\\\\\\\\\\\\\\": [{\\\\\\\\\\\\\\\"column\\\\\\\\\\\\\\\": {\\\\\\\\\\\\\\\"type\\\\\\\\\\\\\\\": 2, \\\\\\\\\\\\\\\"details\\\\\\\\\\\\\\\": {\\\\\\\\\\\\\\\"selectedColumn\\\\\\\\\\\\\\\": \\\\\\\\\\\\\\\"Column1\\\\\\\\\\\\\\\"}}, \\\\\\\\\\\\\\\"typeProperty\\\\\\\\\\\\\\\": 2}, {\\\\\\\\\\\\\\\"column\\\\\\\\\\\\\\\": {\\\\\\\\\\\\\\\"type\\\\\\\\\\\\\\\": 2, \\\\\\\\\\\\\\\"details\\\\\\\\\\\\\\\": {\\\\\\\\\\\\\\\"selectedColumn\\\\\\\\\\\\\\\": \\\\\\\\\\\\\\\"PassengerId\\\\\\\\\\\\\\\"}}, \\\\\\\\\\\\\\\"typeProperty\\\\\\\\\\\\\\\": 2}, {\\\\\\\\\\\\\\\"column\\\\\\\\\\\\\\\": {\\\\\\\\\\\\\\\"type\\\\\\\\\\\\\\\": 2, \\\\\\\\\\\\\\\"details\\\\\\\\\\\\\\\": {\\\\\\\\\\\\\\\"selectedColumn\\\\\\\\\\\\\\\": \\\\\\\\\\\\\\\"Pclass\\\\\\\\\\\\\\\"}}, \\\\\\\\\\\\\\\"typeProperty\\\\\\\\\\\\\\\": 2}, {\\\\\\\\\\\\\\\"column\\\\\\\\\\\\\\\": {\\\\\\\\\\\\\\\"type\\\\\\\\\\\\\\\": 2, \\\\\\\\\\\\\\\"details\\\\\\\\\\\\\\\": {\\\\\\\\\\\\\\\"selectedColumn\\\\\\\\\\\\\\\": \\\\\\\\\\\\\\\"Sex\\\\\\\\\\\\\\\"}}, \\\\\\\\\\\\\\\"typeProperty\\\\\\\\\\\\\\\": 2}, {\\\\\\\\\\\\\\\"column\\\\\\\\\\\\\\\": {\\\\\\\\\\\\\\\"type\\\\\\\\\\\\\\\": 2, \\\\\\\\\\\\\\\"details\\\\\\\\\\\\\\\": {\\\\\\\\\\\\\\\"selectedColumn\\\\\\\\\\\\\\\": \\\\\\\\\\\\\\\"Age\\\\\\\\\\\\\\\"}}, \\\\\\\\\\\\\\\"typeProperty\\\\\\\\\\\\\\\": 2}, {\\\\\\\\\\\\\\\"column\\\\\\\\\\\\\\\": {\\\\\\\\\\\\\\\"type\\\\\\\\\\\\\\\": 2, \\\\\\\\\\\\\\\"details\\\\\\\\\\\\\\\": {\\\\\\\\\\\\\\\"selectedColumn\\\\\\\\\\\\\\\": \\\\\\\\\\\\\\\"SibSp\\\\\\\\\\\\\\\"}}, \\\\\\\\\\\\\\\"typeProperty\\\\\\\\\\\\\\\": 2}, {\\\\\\\\\\\\\\\"column\\\\\\\\\\\\\\\": {\\\\\\\\\\\\\\\"type\\\\\\\\\\\\\\\": 2, \\\\\\\\\\\\\\\"details\\\\\\\\\\\\\\\": {\\\\\\\\\\\\\\\"selectedColumn\\\\\\\\\\\\\\\": \\\\\\\\\\\\\\\"Parch\\\\\\\\\\\\\\\"}}, \\\\\\\\\\\\\\\"typeProperty\\\\\\\\\\\\\\\": 2}, {\\\\\\\\\\\\\\\"column\\\\\\\\\\\\\\\": {\\\\\\\\\\\\\\\"type\\\\\\\\\\\\\\\": 2, \\\\\\\\\\\\\\\"details\\\\\\\\\\\\\\\": {\\\\\\\\\\\\\\\"selectedColumn\\\\\\\\\\\\\\\": \\\\\\\\\\\\\\\"Fare\\\\\\\\\\\\\\\"}}, \\\\\\\\\\\\\\\"typeProperty\\\\\\\\\\\\\\\": 3}, {\\\\\\\\\\\\\\\"column\\\\\\\\\\\\\\\": {\\\\\\\\\\\\\\\"type\\\\\\\\\\\\\\\": 2, \\\\\\\\\\\\\\\"details\\\\\\\\\\\\\\\": {\\\\\\\\\\\\\\\"selectedColumn\\\\\\\\\\\\\\\": \\\\\\\\\\\\\\\"FamilySize\\\\\\\\\\\\\\\"}}, \\\\\\\\\\\\\\\"typeProperty\\\\\\\\\\\\\\\": 2}, {\\\\\\\\\\\\\\\"column\\\\\\\\\\\\\\\": {\\\\\\\\\\\\\\\"type\\\\\\\\\\\\\\\": 2, \\\\\\\\\\\\\\\"details\\\\\\\\\\\\\\\": {\\\\\\\\\\\\\\\"selectedColumn\\\\\\\\\\\\\\\": \\\\\\\\\\\\\\\"IsAlone\\\\\\\\\\\\\\\"}}, \\\\\\\\\\\\\\\"typeProperty\\\\\\\\\\\\\\\": 2}, {\\\\\\\\\\\\\\\"column\\\\\\\\\\\\\\\": {\\\\\\\\\\\\\\\"type\\\\\\\\\\\\\\\": 2, \\\\\\\\\\\\\\\"details\\\\\\\\\\\\\\\": {\\\\\\\\\\\\\\\"selectedColumn\\\\\\\\\\\\\\\": \\\\\\\\\\\\\\\"y\\\\\\\\\\\\\\\"}}, \\\\\\\\\\\\\\\"typeProperty\\\\\\\\\\\\\\\": 2}]}, \\\\\\\\\\\\\\\"localData\\\\\\\\\\\\\\\": {}, \\\\\\\\\\\\\\\"isEnabled\\\\\\\\\\\\\\\": true, \\\\\\\\\\\\\\\"name\\\\\\\\\\\\\\\": null, \\\\\\\\\\\\\\\"annotation\\\\\\\\\\\\\\\": null}], \\\\\\\\\\\\\\\"inspectors\\\\\\\\\\\\\\\": [], \\\\\\\\\\\\\\\"meta\\\\\\\\\\\\\\\": {\\\\\\\\\\\\\\\"savedDatasetId\\\\\\\\\\\\\\\": \\\\\\\\\\\\\\\"ff8a0228-5e0f-4aae-a061-ed5535e3a920\\\\\\\\\\\\\\\", \\\\\\\\\\\\\\\"datasetType\\\\\\\\\\\\\\\": \\\\\\\\\\\\\\\"tabular\\\\\\\\\\\\\\\", \\\\\\\\\\\\\\\"subscriptionId\\\\\\\\\\\\\\\": \\\\\\\\\\\\\\\"976ee174-3882-4721-b90a-b5fef6b72f24\\\\\\\\\\\\\\\", \\\\\\\\\\\\\\\"workspaceId\\\\\\\\\\\\\\\": \\\\\\\\\\\\\\\"f048e1e5-01db-4387-914a-d967bed4916d\\\\\\\\\\\\\\\", \\\\\\\\\\\\\\\"workspaceLocation\\\\\\\\\\\\\\\": \\\\\\\\\\\\\\\"southcentralus\\\\\\\\\\\\\\\"}}\\\\\\\", \\\\\\\"activities\\\\\\\": 0}\", \"EnableSubsampling\": null, \"runTemplate\": \"AutoML\", \"azureml.runsource\": \"automl\", \"display_task_type\": \"classification\", \"dependencies_versions\": \"{\\\"azureml-widgets\\\": \\\"1.20.0\\\", \\\"azureml-train\\\": \\\"1.20.0\\\", \\\"azureml-train-restclients-hyperdrive\\\": \\\"1.20.0\\\", \\\"azureml-train-core\\\": \\\"1.20.0\\\", \\\"azureml-train-automl\\\": \\\"1.20.0\\\", \\\"azureml-train-automl-runtime\\\": \\\"1.20.0\\\", \\\"azureml-train-automl-client\\\": \\\"1.20.0\\\", \\\"azureml-tensorboard\\\": \\\"1.20.0\\\", \\\"azureml-telemetry\\\": \\\"1.20.0\\\", \\\"azureml-sdk\\\": \\\"1.20.0\\\", \\\"azureml-samples\\\": \\\"0+unknown\\\", \\\"azureml-pipeline\\\": \\\"1.20.0\\\", \\\"azureml-pipeline-steps\\\": \\\"1.20.0\\\", \\\"azureml-pipeline-core\\\": \\\"1.20.0\\\", \\\"azureml-opendatasets\\\": \\\"1.20.0\\\", \\\"azureml-model-management-sdk\\\": \\\"1.0.1b6.post1\\\", \\\"azureml-mlflow\\\": \\\"1.20.0.post1\\\", \\\"azureml-interpret\\\": \\\"1.20.0\\\", \\\"azureml-explain-model\\\": \\\"1.20.0\\\", \\\"azureml-defaults\\\": \\\"1.20.0\\\", \\\"azureml-dataset-runtime\\\": \\\"1.20.0\\\", \\\"azureml-dataprep\\\": \\\"2.7.3\\\", \\\"azureml-dataprep-rslex\\\": \\\"1.5.0\\\", \\\"azureml-dataprep-native\\\": \\\"27.0.0\\\", \\\"azureml-datadrift\\\": \\\"1.20.0\\\", \\\"azureml-core\\\": \\\"1.20.0\\\", \\\"azureml-contrib-services\\\": \\\"1.20.0\\\", \\\"azureml-contrib-server\\\": \\\"1.20.0\\\", \\\"azureml-contrib-reinforcementlearning\\\": \\\"1.20.0\\\", \\\"azureml-contrib-pipeline-steps\\\": \\\"1.20.0\\\", \\\"azureml-contrib-notebook\\\": \\\"1.20.0\\\", \\\"azureml-contrib-interpret\\\": \\\"1.20.0\\\", \\\"azureml-contrib-gbdt\\\": \\\"1.20.0\\\", \\\"azureml-contrib-fairness\\\": \\\"1.20.0\\\", \\\"azureml-contrib-dataset\\\": \\\"1.20.0\\\", \\\"azureml-cli-common\\\": \\\"1.20.0\\\", \\\"azureml-automl-runtime\\\": \\\"1.20.0\\\", \\\"azureml-automl-core\\\": \\\"1.20.0\\\", \\\"azureml-accel-models\\\": \\\"1.20.0\\\"}\", \"_aml_system_scenario_identification\": \"Remote.Parent\", \"ClientType\": \"SDK\", \"environment_cpu_name\": \"AzureML-AutoML\", \"environment_cpu_label\": \"prod\", \"environment_gpu_name\": \"AzureML-AutoML-GPU\", \"environment_gpu_label\": \"prod\", \"root_attribution\": \"automl\", \"attribution\": \"AutoML\", \"Orchestrator\": \"AutoML\", \"CancelUri\": \"https://southcentralus.experiments.azureml.net/jasmine/v1.0/subscriptions/976ee174-3882-4721-b90a-b5fef6b72f24/resourceGroups/aml-quickstarts-137056/providers/Microsoft.MachineLearningServices/workspaces/quick-starts-ws-137056/experimentids/c4b96ec6-976d-4f8b-ae88-39f614831320/cancel/AutoML_d9ba78e5-a8a7-42bb-bd1c-0e1d330dae19\", \"ClientSdkVersion\": \"1.21.0\", \"snapshotId\": \"00000000-0000-0000-0000-000000000000\", \"SetupRunId\": \"AutoML_d9ba78e5-a8a7-42bb-bd1c-0e1d330dae19_setup\", \"SetupRunContainerId\": \"dcid.AutoML_d9ba78e5-a8a7-42bb-bd1c-0e1d330dae19_setup\", \"FeaturizationRunJsonPath\": \"featurizer_container.json\", \"FeaturizationRunId\": \"AutoML_d9ba78e5-a8a7-42bb-bd1c-0e1d330dae19_featurize\", \"ProblemInfoJsonString\": \"{\\\"dataset_num_categorical\\\": 0, \\\"is_sparse\\\": true, \\\"subsampling\\\": false, \\\"dataset_classes\\\": 2, \\\"dataset_features\\\": 32, \\\"dataset_samples\\\": 891, \\\"single_frequency_class_detected\\\": false}\", \"ModelExplainRunId\": \"AutoML_d9ba78e5-a8a7-42bb-bd1c-0e1d330dae19_ModelExplain\"}, \"tags\": {\"model_explain_run\": \"best_run\", \"_aml_system_azureml.automlComponent\": \"AutoML\", \"pipeline_id\": \"\", \"score\": \"\", \"predicted_cost\": \"\", \"fit_time\": \"\", \"training_percent\": \"\", \"iteration\": \"\", \"run_preprocessor\": \"\", \"run_algorithm\": \"\", \"dynamic_whitelisting_iterations\": \"<25>;<30>;<35>;\", \"automl_best_child_run_id\": \"AutoML_d9ba78e5-a8a7-42bb-bd1c-0e1d330dae19_38\", \"model_explain_best_run_child_id\": \"AutoML_d9ba78e5-a8a7-42bb-bd1c-0e1d330dae19_38\"}, \"end_time_utc\": \"2021-02-03T08:46:28.920015Z\", \"status\": \"Completed\", \"log_files\": {}, \"log_groups\": [], \"run_duration\": \"0:17:09\"}, \"child_runs\": [{\"run_id\": \"AutoML_d9ba78e5-a8a7-42bb-bd1c-0e1d330dae19_0\", \"run_number\": 116, \"metric\": null, \"status\": \"Completed\", \"run_type\": \"azureml.scriptrun\", \"training_percent\": \"100\", \"start_time\": \"2021-02-03T08:32:33.566198Z\", \"end_time\": \"2021-02-03T08:33:22.146594Z\", \"created_time\": \"2021-02-03T08:32:21.443939Z\", \"created_time_dt\": \"2021-02-03T08:32:21.443939Z\", \"duration\": \"0:01:00\", \"iteration\": \"0\", \"goal\": \"accuracy_max\", \"run_name\": \"MaxAbsScaler, LightGBM\", \"run_properties\": \"copy=True\", \"primary_metric\": 0.7856004, \"best_metric\": 0.7856004}, {\"run_id\": \"AutoML_d9ba78e5-a8a7-42bb-bd1c-0e1d330dae19_1\", \"run_number\": 117, \"metric\": null, \"status\": \"Completed\", \"run_type\": \"azureml.scriptrun\", \"training_percent\": \"100\", \"start_time\": \"2021-02-03T08:34:25.912641Z\", \"end_time\": \"2021-02-03T08:35:27.859983Z\", \"created_time\": \"2021-02-03T08:32:21.485332Z\", \"created_time_dt\": \"2021-02-03T08:32:21.485332Z\", \"duration\": \"0:03:06\", \"iteration\": \"1\", \"goal\": \"accuracy_max\", \"run_name\": \"MaxAbsScaler, XGBoostClassifier\", \"run_properties\": \"copy=True\", \"primary_metric\": 0.80132446, \"best_metric\": 0.80132446}, {\"run_id\": \"AutoML_d9ba78e5-a8a7-42bb-bd1c-0e1d330dae19_3\", \"run_number\": 118, \"metric\": null, \"status\": \"Completed\", \"run_type\": \"azureml.scriptrun\", \"training_percent\": \"100\", \"start_time\": \"2021-02-03T08:33:27.096766Z\", \"end_time\": \"2021-02-03T08:34:22.157001Z\", \"created_time\": \"2021-02-03T08:32:21.499131Z\", \"created_time_dt\": \"2021-02-03T08:32:21.499131Z\", \"duration\": \"0:02:00\", \"iteration\": \"3\", \"goal\": \"accuracy_max\", \"run_name\": \"MaxAbsScaler, RandomForest\", \"run_properties\": \"copy=True\", \"primary_metric\": 0.77209842, \"best_metric\": 0.80132446}, {\"run_id\": \"AutoML_d9ba78e5-a8a7-42bb-bd1c-0e1d330dae19_4\", \"run_number\": 119, \"metric\": null, \"status\": \"Completed\", \"run_type\": \"azureml.scriptrun\", \"training_percent\": \"100\", \"start_time\": \"2021-02-03T08:35:59.140446Z\", \"end_time\": \"2021-02-03T08:38:50.327982Z\", \"created_time\": \"2021-02-03T08:32:21.519271Z\", \"created_time_dt\": \"2021-02-03T08:32:21.519271Z\", \"duration\": \"0:06:28\", \"iteration\": \"4\", \"goal\": \"accuracy_max\", \"run_name\": \"MaxAbsScaler, RandomForest\", \"run_properties\": \"copy=True\", \"primary_metric\": 0.78113113, \"best_metric\": 0.80132446}, {\"run_id\": \"AutoML_d9ba78e5-a8a7-42bb-bd1c-0e1d330dae19_2\", \"run_number\": 120, \"metric\": null, \"status\": \"Completed\", \"run_type\": \"azureml.scriptrun\", \"training_percent\": \"100\", \"start_time\": \"2021-02-03T08:35:33.965863Z\", \"end_time\": \"2021-02-03T08:36:22.677084Z\", \"created_time\": \"2021-02-03T08:32:21.480349Z\", \"created_time_dt\": \"2021-02-03T08:32:21.480349Z\", \"duration\": \"0:04:01\", \"iteration\": \"2\", \"goal\": \"accuracy_max\", \"run_name\": \"MaxAbsScaler, RandomForest\", \"run_properties\": \"copy=True\", \"primary_metric\": 0.76652439, \"best_metric\": 0.80132446}, {\"run_id\": \"AutoML_d9ba78e5-a8a7-42bb-bd1c-0e1d330dae19_5\", \"run_number\": 121, \"metric\": null, \"status\": \"Completed\", \"run_type\": \"azureml.scriptrun\", \"training_percent\": \"100\", \"start_time\": \"2021-02-03T08:35:57.038559Z\", \"end_time\": \"2021-02-03T08:38:50.737996Z\", \"created_time\": \"2021-02-03T08:33:24.827548Z\", \"created_time_dt\": \"2021-02-03T08:33:24.827548Z\", \"duration\": \"0:05:25\", \"iteration\": \"5\", \"goal\": \"accuracy_max\", \"run_name\": \"MaxAbsScaler, RandomForest\", \"run_properties\": \"copy=True\", \"primary_metric\": 0.71493315, \"best_metric\": 0.80132446}, {\"run_id\": \"AutoML_d9ba78e5-a8a7-42bb-bd1c-0e1d330dae19_6\", \"run_number\": 122, \"metric\": null, \"status\": \"Completed\", \"run_type\": \"azureml.scriptrun\", \"training_percent\": \"100\", \"start_time\": \"2021-02-03T08:35:59.554908Z\", \"end_time\": \"2021-02-03T08:38:44.909495Z\", \"created_time\": \"2021-02-03T08:34:25.623937Z\", \"created_time_dt\": \"2021-02-03T08:34:25.623937Z\", \"duration\": \"0:04:19\", \"iteration\": \"6\", \"goal\": \"accuracy_max\", \"run_name\": \"MaxAbsScaler, LightGBM\", \"run_properties\": \"copy=True\", \"primary_metric\": 0.80467642, \"best_metric\": 0.80467642}, {\"run_id\": \"AutoML_d9ba78e5-a8a7-42bb-bd1c-0e1d330dae19_7\", \"run_number\": 123, \"metric\": null, \"status\": \"Completed\", \"run_type\": \"azureml.scriptrun\", \"training_percent\": \"100\", \"start_time\": \"2021-02-03T08:35:56.798035Z\", \"end_time\": \"2021-02-03T08:38:49.6508Z\", \"created_time\": \"2021-02-03T08:35:30.895509Z\", \"created_time_dt\": \"2021-02-03T08:35:30.895509Z\", \"duration\": \"0:03:18\", \"iteration\": \"7\", \"goal\": \"accuracy_max\", \"run_name\": \"StandardScalerWrapper, LogisticRegression\", \"run_properties\": \"<azureml.automl.runtime.shared.model_wrappers.StandardScalerWrapper object at 0x7efd3daa9828\", \"primary_metric\": 0.79011361, \"best_metric\": 0.80467642}, {\"run_id\": \"AutoML_d9ba78e5-a8a7-42bb-bd1c-0e1d330dae19_8\", \"run_number\": 124, \"metric\": null, \"status\": \"Completed\", \"run_type\": \"azureml.scriptrun\", \"training_percent\": \"100\", \"start_time\": \"2021-02-03T08:36:34.848722Z\", \"end_time\": \"2021-02-03T08:37:25.499045Z\", \"created_time\": \"2021-02-03T08:36:24.656469Z\", \"created_time_dt\": \"2021-02-03T08:36:24.656469Z\", \"duration\": \"0:01:00\", \"iteration\": \"8\", \"goal\": \"accuracy_max\", \"run_name\": \"SparseNormalizer, XGBoostClassifier\", \"run_properties\": \"<azureml.automl.runtime.shared.model_wrappers.SparseNormalizer object at 0x7f4adc92f2e8\", \"primary_metric\": 0.77776662, \"best_metric\": 0.80467642}, {\"run_id\": \"AutoML_d9ba78e5-a8a7-42bb-bd1c-0e1d330dae19_9\", \"run_number\": 125, \"metric\": null, \"status\": \"Completed\", \"run_type\": \"azureml.scriptrun\", \"training_percent\": \"100\", \"start_time\": \"2021-02-03T08:37:40.187247Z\", \"end_time\": \"2021-02-03T08:38:26.289374Z\", \"created_time\": \"2021-02-03T08:37:27.408049Z\", \"created_time_dt\": \"2021-02-03T08:37:27.408049Z\", \"duration\": \"0:00:58\", \"iteration\": \"9\", \"goal\": \"accuracy_max\", \"run_name\": \"MaxAbsScaler, LogisticRegression\", \"run_properties\": \"copy=True\", \"primary_metric\": 0.80020714, \"best_metric\": 0.80467642}, {\"run_id\": \"AutoML_d9ba78e5-a8a7-42bb-bd1c-0e1d330dae19_10\", \"run_number\": 126, \"metric\": null, \"status\": \"Completed\", \"run_type\": \"azureml.scriptrun\", \"training_percent\": \"100\", \"start_time\": \"2021-02-03T08:38:40.838694Z\", \"end_time\": \"2021-02-03T08:39:26.902853Z\", \"created_time\": \"2021-02-03T08:38:28.922444Z\", \"created_time_dt\": \"2021-02-03T08:38:28.922444Z\", \"duration\": \"0:00:57\", \"iteration\": \"10\", \"goal\": \"accuracy_max\", \"run_name\": \"StandardScalerWrapper, RandomForest\", \"run_properties\": \"<azureml.automl.runtime.shared.model_wrappers.StandardScalerWrapper object at 0x7ff15e465438\", \"primary_metric\": 0.78448936, \"best_metric\": 0.80467642}, {\"run_id\": \"AutoML_d9ba78e5-a8a7-42bb-bd1c-0e1d330dae19_11\", \"run_number\": 127, \"metric\": null, \"status\": \"Completed\", \"run_type\": \"azureml.scriptrun\", \"training_percent\": \"100\", \"start_time\": \"2021-02-03T08:38:58.99748Z\", \"end_time\": \"2021-02-03T08:39:50.805489Z\", \"created_time\": \"2021-02-03T08:38:46.935341Z\", \"created_time_dt\": \"2021-02-03T08:38:46.935341Z\", \"duration\": \"0:01:03\", \"iteration\": \"11\", \"goal\": \"accuracy_max\", \"run_name\": \"MaxAbsScaler, LightGBM\", \"run_properties\": \"copy=True\", \"primary_metric\": 0.74181784, \"best_metric\": 0.80467642}, {\"run_id\": \"AutoML_d9ba78e5-a8a7-42bb-bd1c-0e1d330dae19_12\", \"run_number\": 128, \"metric\": null, \"status\": \"Completed\", \"run_type\": \"azureml.scriptrun\", \"training_percent\": \"100\", \"start_time\": \"2021-02-03T08:39:05.113442Z\", \"end_time\": \"2021-02-03T08:39:47.811719Z\", \"created_time\": \"2021-02-03T08:38:51.53809Z\", \"created_time_dt\": \"2021-02-03T08:38:51.53809Z\", \"duration\": \"0:00:56\", \"iteration\": \"12\", \"goal\": \"accuracy_max\", \"run_name\": \"SparseNormalizer, XGBoostClassifier\", \"run_properties\": \"<azureml.automl.runtime.shared.model_wrappers.SparseNormalizer object at 0x7f18e96ef9b0\", \"primary_metric\": 0.77439583, \"best_metric\": 0.80467642}, {\"run_id\": \"AutoML_d9ba78e5-a8a7-42bb-bd1c-0e1d330dae19_13\", \"run_number\": 129, \"metric\": null, \"status\": \"Completed\", \"run_type\": \"azureml.scriptrun\", \"training_percent\": \"100\", \"start_time\": \"2021-02-03T08:39:06.859694Z\", \"end_time\": \"2021-02-03T08:39:46.069445Z\", \"created_time\": \"2021-02-03T08:38:55.626606Z\", \"created_time_dt\": \"2021-02-03T08:38:55.626606Z\", \"duration\": \"0:00:50\", \"iteration\": \"13\", \"goal\": \"accuracy_max\", \"run_name\": \"MaxAbsScaler, RandomForest\", \"run_properties\": \"copy=True\", \"primary_metric\": 0.76765426, \"best_metric\": 0.80467642}, {\"run_id\": \"AutoML_d9ba78e5-a8a7-42bb-bd1c-0e1d330dae19_14\", \"run_number\": 130, \"metric\": null, \"status\": \"Completed\", \"run_type\": \"azureml.scriptrun\", \"training_percent\": \"100\", \"start_time\": \"2021-02-03T08:39:07.35149Z\", \"end_time\": \"2021-02-03T08:40:00.531222Z\", \"created_time\": \"2021-02-03T08:38:55.623107Z\", \"created_time_dt\": \"2021-02-03T08:38:55.623107Z\", \"duration\": \"0:01:04\", \"iteration\": \"14\", \"goal\": \"accuracy_max\", \"run_name\": \"MaxAbsScaler, RandomForest\", \"run_properties\": \"copy=True\", \"primary_metric\": 0.76651811, \"best_metric\": 0.80467642}, {\"run_id\": \"AutoML_d9ba78e5-a8a7-42bb-bd1c-0e1d330dae19_15\", \"run_number\": 131, \"metric\": null, \"status\": \"Completed\", \"run_type\": \"azureml.scriptrun\", \"training_percent\": \"100\", \"start_time\": \"2021-02-03T08:39:40.206888Z\", \"end_time\": \"2021-02-03T08:40:29.043802Z\", \"created_time\": \"2021-02-03T08:39:28.489002Z\", \"created_time_dt\": \"2021-02-03T08:39:28.489002Z\", \"duration\": \"0:01:00\", \"iteration\": \"15\", \"goal\": \"accuracy_max\", \"run_name\": \"SparseNormalizer, XGBoostClassifier\", \"run_properties\": \"<azureml.automl.runtime.shared.model_wrappers.SparseNormalizer object at 0x7fcc19a37e10\", \"primary_metric\": 0.79347185, \"best_metric\": 0.80467642}, {\"run_id\": \"AutoML_d9ba78e5-a8a7-42bb-bd1c-0e1d330dae19_16\", \"run_number\": 132, \"metric\": null, \"status\": \"Completed\", \"run_type\": \"azureml.scriptrun\", \"training_percent\": \"100\", \"start_time\": \"2021-02-03T08:39:58.11564Z\", \"end_time\": \"2021-02-03T08:40:43.664566Z\", \"created_time\": \"2021-02-03T08:39:47.74613Z\", \"created_time_dt\": \"2021-02-03T08:39:47.74613Z\", \"duration\": \"0:00:55\", \"iteration\": \"16\", \"goal\": \"accuracy_max\", \"run_name\": \"MaxAbsScaler, LightGBM\", \"run_properties\": \"copy=True\", \"primary_metric\": 0.78223589, \"best_metric\": 0.80467642}, {\"run_id\": \"AutoML_d9ba78e5-a8a7-42bb-bd1c-0e1d330dae19_17\", \"run_number\": 133, \"metric\": null, \"status\": \"Completed\", \"run_type\": \"azureml.scriptrun\", \"training_percent\": \"100\", \"start_time\": \"2021-02-03T08:40:03.690127Z\", \"end_time\": \"2021-02-03T08:40:52.865931Z\", \"created_time\": \"2021-02-03T08:39:50.806128Z\", \"created_time_dt\": \"2021-02-03T08:39:50.806128Z\", \"duration\": \"0:01:02\", \"iteration\": \"17\", \"goal\": \"accuracy_max\", \"run_name\": \"MaxAbsScaler, LightGBM\", \"run_properties\": \"copy=True\", \"primary_metric\": 0.76879669, \"best_metric\": 0.80467642}, {\"run_id\": \"AutoML_d9ba78e5-a8a7-42bb-bd1c-0e1d330dae19_18\", \"run_number\": 134, \"metric\": null, \"status\": \"Completed\", \"run_type\": \"azureml.scriptrun\", \"training_percent\": \"100\", \"start_time\": \"2021-02-03T08:40:07.43297Z\", \"end_time\": \"2021-02-03T08:40:50.54639Z\", \"created_time\": \"2021-02-03T08:39:53.823729Z\", \"created_time_dt\": \"2021-02-03T08:39:53.823729Z\", \"duration\": \"0:00:56\", \"iteration\": \"18\", \"goal\": \"accuracy_max\", \"run_name\": \"StandardScalerWrapper, LightGBM\", \"run_properties\": \"<azureml.automl.runtime.shared.model_wrappers.StandardScalerWrapper object at 0x7fa4e044ef28\", \"primary_metric\": 0.78563179, \"best_metric\": 0.80467642}, {\"run_id\": \"AutoML_d9ba78e5-a8a7-42bb-bd1c-0e1d330dae19_19\", \"run_number\": 135, \"metric\": null, \"status\": \"Completed\", \"run_type\": \"azureml.scriptrun\", \"training_percent\": \"100\", \"start_time\": \"2021-02-03T08:40:14.771692Z\", \"end_time\": \"2021-02-03T08:41:03.415843Z\", \"created_time\": \"2021-02-03T08:40:02.355023Z\", \"created_time_dt\": \"2021-02-03T08:40:02.355023Z\", \"duration\": \"0:01:01\", \"iteration\": \"19\", \"goal\": \"accuracy_max\", \"run_name\": \"SparseNormalizer, LightGBM\", \"run_properties\": \"<azureml.automl.runtime.shared.model_wrappers.SparseNormalizer object at 0x7f83ed5d4ac8\", \"primary_metric\": 0.78226728, \"best_metric\": 0.80467642}, {\"run_id\": \"AutoML_d9ba78e5-a8a7-42bb-bd1c-0e1d330dae19_20\", \"run_number\": 136, \"metric\": null, \"status\": \"Completed\", \"run_type\": \"azureml.scriptrun\", \"training_percent\": \"100\", \"start_time\": \"2021-02-03T08:40:46.34397Z\", \"end_time\": \"2021-02-03T08:41:32.231997Z\", \"created_time\": \"2021-02-03T08:40:30.857459Z\", \"created_time_dt\": \"2021-02-03T08:40:30.857459Z\", \"duration\": \"0:01:01\", \"iteration\": \"20\", \"goal\": \"accuracy_max\", \"run_name\": \"SparseNormalizer, LightGBM\", \"run_properties\": \"<azureml.automl.runtime.shared.model_wrappers.SparseNormalizer object at 0x7f5571390a90\", \"primary_metric\": 0.76318499, \"best_metric\": 0.80467642}, {\"run_id\": \"AutoML_d9ba78e5-a8a7-42bb-bd1c-0e1d330dae19_21\", \"run_number\": 137, \"metric\": null, \"status\": \"Completed\", \"run_type\": \"azureml.scriptrun\", \"training_percent\": \"100\", \"start_time\": \"2021-02-03T08:40:57.254467Z\", \"end_time\": \"2021-02-03T08:41:49.384763Z\", \"created_time\": \"2021-02-03T08:40:45.292444Z\", \"created_time_dt\": \"2021-02-03T08:40:45.292444Z\", \"duration\": \"0:01:04\", \"iteration\": \"21\", \"goal\": \"accuracy_max\", \"run_name\": \"MaxAbsScaler, LightGBM\", \"run_properties\": \"copy=True\", \"primary_metric\": 0.79457661, \"best_metric\": 0.80467642}, {\"run_id\": \"AutoML_d9ba78e5-a8a7-42bb-bd1c-0e1d330dae19_22\", \"run_number\": 138, \"metric\": null, \"status\": \"Completed\", \"run_type\": \"azureml.scriptrun\", \"training_percent\": \"100\", \"start_time\": \"2021-02-03T08:41:06.4497Z\", \"end_time\": \"2021-02-03T08:41:47.142576Z\", \"created_time\": \"2021-02-03T08:40:53.907619Z\", \"created_time_dt\": \"2021-02-03T08:40:53.907619Z\", \"duration\": \"0:00:53\", \"iteration\": \"22\", \"goal\": \"accuracy_max\", \"run_name\": \"MaxAbsScaler, LightGBM\", \"run_properties\": \"copy=True\", \"primary_metric\": 0.80020087, \"best_metric\": 0.80467642}, {\"run_id\": \"AutoML_d9ba78e5-a8a7-42bb-bd1c-0e1d330dae19_23\", \"run_number\": 139, \"metric\": null, \"status\": \"Completed\", \"run_type\": \"azureml.scriptrun\", \"training_percent\": \"100\", \"start_time\": \"2021-02-03T08:41:10.618476Z\", \"end_time\": \"2021-02-03T08:41:59.33669Z\", \"created_time\": \"2021-02-03T08:40:57.737767Z\", \"created_time_dt\": \"2021-02-03T08:40:57.737767Z\", \"duration\": \"0:01:01\", \"iteration\": \"23\", \"goal\": \"accuracy_max\", \"run_name\": \"SparseNormalizer, XGBoostClassifier\", \"run_properties\": \"<azureml.automl.runtime.shared.model_wrappers.SparseNormalizer object at 0x7f1ee506e400\", \"primary_metric\": 0.78335949, \"best_metric\": 0.80467642}, {\"run_id\": \"AutoML_d9ba78e5-a8a7-42bb-bd1c-0e1d330dae19_24\", \"run_number\": 140, \"metric\": null, \"status\": \"Completed\", \"run_type\": \"azureml.scriptrun\", \"training_percent\": \"100\", \"start_time\": \"2021-02-03T08:41:37.874321Z\", \"end_time\": \"2021-02-03T08:42:29.1017Z\", \"created_time\": \"2021-02-03T08:41:06.640664Z\", \"created_time_dt\": \"2021-02-03T08:41:06.640664Z\", \"duration\": \"0:01:22\", \"iteration\": \"24\", \"goal\": \"accuracy_max\", \"run_name\": \"SparseNormalizer, XGBoostClassifier\", \"run_properties\": \"<azureml.automl.runtime.shared.model_wrappers.SparseNormalizer object at 0x7fe7fcd1dfd0\", \"primary_metric\": 0.78000753, \"best_metric\": 0.80467642}, {\"run_id\": \"AutoML_d9ba78e5-a8a7-42bb-bd1c-0e1d330dae19_25\", \"run_number\": 141, \"metric\": null, \"status\": \"Completed\", \"run_type\": \"azureml.scriptrun\", \"training_percent\": \"100\", \"start_time\": \"2021-02-03T08:41:51.95548Z\", \"end_time\": \"2021-02-03T08:42:40.878731Z\", \"created_time\": \"2021-02-03T08:41:35.609238Z\", \"created_time_dt\": \"2021-02-03T08:41:35.609238Z\", \"duration\": \"0:01:05\", \"iteration\": \"25\", \"goal\": \"accuracy_max\", \"run_name\": \"MaxAbsScaler, LightGBM\", \"run_properties\": \"copy=True\", \"primary_metric\": 0.77327224, \"best_metric\": 0.80467642}, {\"run_id\": \"AutoML_d9ba78e5-a8a7-42bb-bd1c-0e1d330dae19_26\", \"run_number\": 142, \"metric\": null, \"status\": \"Completed\", \"run_type\": \"azureml.scriptrun\", \"training_percent\": \"100\", \"start_time\": \"2021-02-03T08:42:00.908313Z\", \"end_time\": \"2021-02-03T08:42:42.691126Z\", \"created_time\": \"2021-02-03T08:41:49.842422Z\", \"created_time_dt\": \"2021-02-03T08:41:49.842422Z\", \"duration\": \"0:00:52\", \"iteration\": \"26\", \"goal\": \"accuracy_max\", \"run_name\": \"MaxAbsScaler, LightGBM\", \"run_properties\": \"copy=True\", \"primary_metric\": 0.786724, \"best_metric\": 0.80467642}, {\"run_id\": \"AutoML_d9ba78e5-a8a7-42bb-bd1c-0e1d330dae19_27\", \"run_number\": 143, \"metric\": null, \"status\": \"Completed\", \"run_type\": \"azureml.scriptrun\", \"training_percent\": \"100\", \"start_time\": \"2021-02-03T08:42:04.984032Z\", \"end_time\": \"2021-02-03T08:42:58.922085Z\", \"created_time\": \"2021-02-03T08:41:54.014046Z\", \"created_time_dt\": \"2021-02-03T08:41:54.014046Z\", \"duration\": \"0:01:04\", \"iteration\": \"27\", \"goal\": \"accuracy_max\", \"run_name\": \"SparseNormalizer, XGBoostClassifier\", \"run_properties\": \"<azureml.automl.runtime.shared.model_wrappers.SparseNormalizer object at 0x7f0069cceb00\", \"primary_metric\": 0.78224845, \"best_metric\": 0.80467642}, {\"run_id\": \"AutoML_d9ba78e5-a8a7-42bb-bd1c-0e1d330dae19_28\", \"run_number\": 144, \"metric\": null, \"status\": \"Completed\", \"run_type\": \"azureml.scriptrun\", \"training_percent\": \"100\", \"start_time\": \"2021-02-03T08:42:31.638546Z\", \"end_time\": \"2021-02-03T08:43:26.839449Z\", \"created_time\": \"2021-02-03T08:42:00.965919Z\", \"created_time_dt\": \"2021-02-03T08:42:00.965919Z\", \"duration\": \"0:01:25\", \"iteration\": \"28\", \"goal\": \"accuracy_max\", \"run_name\": \"StandardScalerWrapper, XGBoostClassifier\", \"run_properties\": \"<azureml.automl.runtime.shared.model_wrappers.StandardScalerWrapper object at 0x7f14522bbcf8\", \"primary_metric\": 0.77886511, \"best_metric\": 0.80467642}, {\"run_id\": \"AutoML_d9ba78e5-a8a7-42bb-bd1c-0e1d330dae19_29\", \"run_number\": 145, \"metric\": null, \"status\": \"Completed\", \"run_type\": \"azureml.scriptrun\", \"training_percent\": \"100\", \"start_time\": \"2021-02-03T08:42:43.223005Z\", \"end_time\": \"2021-02-03T08:43:38.016844Z\", \"created_time\": \"2021-02-03T08:42:30.744833Z\", \"created_time_dt\": \"2021-02-03T08:42:30.744833Z\", \"duration\": \"0:01:07\", \"iteration\": \"29\", \"goal\": \"accuracy_max\", \"run_name\": \"SparseNormalizer, XGBoostClassifier\", \"run_properties\": \"<azureml.automl.runtime.shared.model_wrappers.SparseNormalizer object at 0x7fa1b315f908\", \"primary_metric\": 0.77215492, \"best_metric\": 0.80467642}, {\"run_id\": \"AutoML_d9ba78e5-a8a7-42bb-bd1c-0e1d330dae19_30\", \"run_number\": 146, \"metric\": null, \"status\": \"Completed\", \"run_type\": \"azureml.scriptrun\", \"training_percent\": \"100\", \"start_time\": \"2021-02-03T08:42:53.925117Z\", \"end_time\": \"2021-02-03T08:43:41.192215Z\", \"created_time\": \"2021-02-03T08:42:43.496492Z\", \"created_time_dt\": \"2021-02-03T08:42:43.496492Z\", \"duration\": \"0:00:57\", \"iteration\": \"30\", \"goal\": \"accuracy_max\", \"run_name\": \"MaxAbsScaler, LightGBM\", \"run_properties\": \"copy=True\", \"primary_metric\": 0.75644341, \"best_metric\": 0.80467642}, {\"run_id\": \"AutoML_d9ba78e5-a8a7-42bb-bd1c-0e1d330dae19_31\", \"run_number\": 147, \"metric\": null, \"status\": \"Completed\", \"run_type\": \"azureml.scriptrun\", \"training_percent\": \"100\", \"start_time\": \"2021-02-03T08:43:02.177304Z\", \"end_time\": \"2021-02-03T08:44:04.368266Z\", \"created_time\": \"2021-02-03T08:42:47.38008Z\", \"created_time_dt\": \"2021-02-03T08:42:47.38008Z\", \"duration\": \"0:01:16\", \"iteration\": \"31\", \"goal\": \"accuracy_max\", \"run_name\": \"SparseNormalizer, XGBoostClassifier\", \"run_properties\": \"<azureml.automl.runtime.shared.model_wrappers.SparseNormalizer object at 0x7f01b80cc198\", \"primary_metric\": 0.75084427, \"best_metric\": 0.80467642}, {\"run_id\": \"AutoML_d9ba78e5-a8a7-42bb-bd1c-0e1d330dae19_32\", \"run_number\": 148, \"metric\": null, \"status\": \"Completed\", \"run_type\": \"azureml.scriptrun\", \"training_percent\": \"100\", \"start_time\": \"2021-02-03T08:43:31.666902Z\", \"end_time\": \"2021-02-03T08:44:20.28912Z\", \"created_time\": \"2021-02-03T08:43:00.563199Z\", \"created_time_dt\": \"2021-02-03T08:43:00.563199Z\", \"duration\": \"0:01:19\", \"iteration\": \"32\", \"goal\": \"accuracy_max\", \"run_name\": \"StandardScalerWrapper, XGBoostClassifier\", \"run_properties\": \"<azureml.automl.runtime.shared.model_wrappers.StandardScalerWrapper object at 0x7f58de2a2fd0\", \"primary_metric\": 0.79234197, \"best_metric\": 0.80467642}, {\"run_id\": \"AutoML_d9ba78e5-a8a7-42bb-bd1c-0e1d330dae19_33\", \"run_number\": 149, \"metric\": null, \"status\": \"Canceled\", \"run_type\": \"azureml.scriptrun\", \"training_percent\": \"100\", \"start_time\": \"2021-02-03T08:43:41.17952Z\", \"end_time\": \"2021-02-03T08:44:41.23703Z\", \"created_time\": \"2021-02-03T08:43:29.076643Z\", \"created_time_dt\": \"2021-02-03T08:43:29.076643Z\", \"duration\": \"0:01:12\", \"iteration\": \"33\", \"goal\": \"accuracy_max\", \"run_name\": \"StandardScalerWrapper, LightGBM\", \"run_properties\": \"<azureml.automl.runtime.shared.model_wrappers.StandardScalerWrapper object at 0x7fab0cdee0b8\", \"primary_metric\": 0.79907099, \"best_metric\": 0.80467642}, {\"run_id\": \"AutoML_d9ba78e5-a8a7-42bb-bd1c-0e1d330dae19_34\", \"run_number\": 150, \"metric\": null, \"status\": \"Completed\", \"run_type\": \"azureml.scriptrun\", \"training_percent\": \"100\", \"start_time\": \"2021-02-03T08:43:49.848366Z\", \"end_time\": \"2021-02-03T08:44:32.571673Z\", \"created_time\": \"2021-02-03T08:43:39.757945Z\", \"created_time_dt\": \"2021-02-03T08:43:39.757945Z\", \"duration\": \"0:00:52\", \"iteration\": \"34\", \"goal\": \"accuracy_max\", \"run_name\": \"SparseNormalizer, XGBoostClassifier\", \"run_properties\": \"<azureml.automl.runtime.shared.model_wrappers.SparseNormalizer object at 0x7f2a950244a8\", \"primary_metric\": 0.75417739, \"best_metric\": 0.80467642}, {\"run_id\": \"AutoML_d9ba78e5-a8a7-42bb-bd1c-0e1d330dae19_35\", \"run_number\": 151, \"metric\": null, \"status\": \"Canceled\", \"run_type\": \"azureml.scriptrun\", \"training_percent\": \"100\", \"start_time\": \"2021-02-03T08:44:08.076674Z\", \"end_time\": \"2021-02-03T08:44:41.942778Z\", \"created_time\": \"2021-02-03T08:43:43.957528Z\", \"created_time_dt\": \"2021-02-03T08:43:43.957528Z\", \"duration\": \"0:00:57\", \"iteration\": \"35\", \"goal\": \"accuracy_max\", \"run_name\": \"StandardScalerWrapper, LightGBM\", \"run_properties\": \"<azureml.automl.runtime.shared.model_wrappers.StandardScalerWrapper object at 0x7fc42b39ff98\", \"primary_metric\": 0.61615718, \"best_metric\": 0.80467642}, {\"run_id\": \"AutoML_d9ba78e5-a8a7-42bb-bd1c-0e1d330dae19_36\", \"run_number\": 152, \"metric\": null, \"status\": \"Canceled\", \"run_type\": \"azureml.scriptrun\", \"training_percent\": \"100\", \"start_time\": \"2021-02-03T08:44:23.62709Z\", \"end_time\": \"2021-02-03T08:44:40.221382Z\", \"created_time\": \"2021-02-03T08:44:06.831586Z\", \"created_time_dt\": \"2021-02-03T08:44:06.831586Z\", \"duration\": \"0:00:33\", \"iteration\": \"36\", \"goal\": null, \"run_name\": \"Canceled\", \"run_properties\": null}, {\"run_id\": \"AutoML_d9ba78e5-a8a7-42bb-bd1c-0e1d330dae19_37\", \"run_number\": 153, \"metric\": null, \"status\": \"Canceled\", \"run_type\": \"azureml.scriptrun\", \"training_percent\": \"100\", \"start_time\": \"2021-02-03T08:44:23.299313Z\", \"end_time\": \"2021-02-03T08:44:41.48382Z\", \"created_time\": \"2021-02-03T08:44:23.299313Z\", \"created_time_dt\": \"2021-02-03T08:44:23.299313Z\", \"duration\": \"0:00:18\", \"iteration\": \"37\", \"goal\": null, \"run_name\": \"Canceled\", \"run_properties\": null}, {\"run_id\": \"AutoML_d9ba78e5-a8a7-42bb-bd1c-0e1d330dae19_39\", \"run_number\": 154, \"metric\": null, \"status\": \"Completed\", \"run_type\": \"azureml.scriptrun\", \"training_percent\": \"100\", \"start_time\": \"2021-02-03T08:44:53.840322Z\", \"end_time\": \"2021-02-03T08:46:20.260754Z\", \"created_time\": \"2021-02-03T08:44:42.680693Z\", \"created_time_dt\": \"2021-02-03T08:44:42.680693Z\", \"duration\": \"0:01:37\", \"iteration\": \"39\", \"goal\": \"accuracy_max\", \"run_name\": \"StackEnsemble\", \"run_properties\": \"base_learners=[('6',\\n                                        Pipeline(memory=None,\\n                                                 steps=[('maxabsscaler',\\n                                                         MaxAbsScaler(copy=True\", \"primary_metric\": 0.79683636, \"best_metric\": 0.81815956}, {\"run_id\": \"AutoML_d9ba78e5-a8a7-42bb-bd1c-0e1d330dae19_38\", \"run_number\": 155, \"metric\": null, \"status\": \"Completed\", \"run_type\": \"azureml.scriptrun\", \"training_percent\": \"100\", \"start_time\": \"2021-02-03T08:44:54.668857Z\", \"end_time\": \"2021-02-03T08:46:12.732829Z\", \"created_time\": \"2021-02-03T08:44:42.692118Z\", \"created_time_dt\": \"2021-02-03T08:44:42.692118Z\", \"duration\": \"0:01:30\", \"iteration\": \"38\", \"goal\": \"accuracy_max\", \"run_name\": \"VotingEnsemble\", \"run_properties\": \"classification_labels=None,\\n                              estimators=[('6',\\n                                           Pipeline(memory=None,\\n                                                    steps=[('maxabsscaler',\\n                                                            MaxAbsScaler(copy=True\", \"primary_metric\": 0.81815956, \"best_metric\": 0.81815956}], \"children_metrics\": {\"categories\": [0], \"series\": {\"matthews_correlation\": [{\"categories\": [\"0\", \"1\", \"2\", \"3\", \"4\", \"5\", \"6\", \"7\", \"8\", \"9\", \"10\", \"11\", \"12\", \"13\", \"14\", \"15\", \"16\", \"17\", \"18\", \"19\", \"20\", \"21\", \"22\", \"23\", \"24\", \"25\", \"26\", \"27\", \"28\", \"29\", \"30\", \"31\", \"32\", \"33\", \"34\", \"35\", \"38\", \"39\"], \"mode\": \"markers\", \"name\": \"matthews_correlation\", \"stepped\": false, \"type\": \"scatter\", \"data\": [0.5480495572929854, 0.577564937085395, 0.49883294015389046, 0.5213084112455333, 0.5496824568663621, 0.4432031880716564, 0.583371752820317, 0.5546100449640625, 0.5296909575893258, 0.5727582953857687, 0.5472079418829032, 0.4652292933760599, 0.5191916749992096, 0.5250830989239921, 0.5069276991970132, 0.5575448354153165, 0.5385769542040915, 0.5169746645499517, 0.5442085641511174, 0.5365933292203056, 0.4969590892879608, 0.5576291944020102, 0.5744374009045453, 0.5408593410506749, 0.5320721976918613, 0.5202670509415107, 0.5616665408484811, 0.5381281079300232, 0.5309261357062008, 0.5163303917567863, 0.48195322784202554, 0.46874011431585083, 0.5548138455348107, 0.569440178726734, 0.47690451117460375, 0.0, 0.6128520388202781, 0.5709869103136499]}, {\"categories\": [\"0\", \"1\", \"2\", \"3\", \"4\", \"5\", \"6\", \"7\", \"8\", \"9\", \"10\", \"11\", \"12\", \"13\", \"14\", \"15\", \"16\", \"17\", \"18\", \"19\", \"20\", \"21\", \"22\", \"23\", \"24\", \"25\", \"26\", \"27\", \"28\", \"29\", \"30\", \"31\", \"32\", \"33\", \"34\", \"35\", \"38\", \"39\"], \"mode\": \"lines\", \"name\": \"matthews_correlation_max\", \"stepped\": true, \"type\": \"scatter\", \"data\": [0.5480495572929854, 0.577564937085395, 0.577564937085395, 0.577564937085395, 0.577564937085395, 0.577564937085395, 0.583371752820317, 0.583371752820317, 0.583371752820317, 0.583371752820317, 0.583371752820317, 0.583371752820317, 0.583371752820317, 0.583371752820317, 0.583371752820317, 0.583371752820317, 0.583371752820317, 0.583371752820317, 0.583371752820317, 0.583371752820317, 0.583371752820317, 0.583371752820317, 0.583371752820317, 0.583371752820317, 0.583371752820317, 0.583371752820317, 0.583371752820317, 0.583371752820317, 0.583371752820317, 0.583371752820317, 0.583371752820317, 0.583371752820317, 0.583371752820317, 0.583371752820317, 0.583371752820317, 0.583371752820317, 0.6128520388202781, 0.6128520388202781]}], \"average_precision_score_macro\": [{\"categories\": [\"0\", \"1\", \"2\", \"3\", \"4\", \"5\", \"6\", \"7\", \"8\", \"9\", \"10\", \"11\", \"12\", \"13\", \"14\", \"15\", \"16\", \"17\", \"18\", \"19\", \"20\", \"21\", \"22\", \"23\", \"24\", \"25\", \"26\", \"27\", \"28\", \"29\", \"30\", \"31\", \"32\", \"33\", \"34\", \"35\", \"38\", \"39\"], \"mode\": \"markers\", \"name\": \"average_precision_score_macro\", \"stepped\": false, \"type\": \"scatter\", \"data\": [0.8070683865912285, 0.8486467160217606, 0.8239794648223615, 0.820786126592736, 0.8271183826949521, 0.7842879633002088, 0.8466056812268746, 0.8346817695016556, 0.8079354157442108, 0.8397633960635471, 0.8458222197564987, 0.8103008933691414, 0.8276306468167764, 0.8153780414802891, 0.8230493275366886, 0.8269016078987022, 0.8307210507178817, 0.8332873022975704, 0.8252926848261923, 0.8152019301078797, 0.8096476347840873, 0.8359510005499841, 0.8313131179779207, 0.8312461077177913, 0.8312746638661153, 0.8367693395728495, 0.8396019650737232, 0.8199990115719217, 0.8372120524345055, 0.7995367121062991, 0.8188372851576119, 0.7842158893671576, 0.8380888928423671, 0.8425260753525039, 0.7991065850393413, 0.8173200840288246, 0.845856623750738, 0.8476868413204144]}, {\"categories\": [\"0\", \"1\", \"2\", \"3\", \"4\", \"5\", \"6\", \"7\", \"8\", \"9\", \"10\", \"11\", \"12\", \"13\", \"14\", \"15\", \"16\", \"17\", \"18\", \"19\", \"20\", \"21\", \"22\", \"23\", \"24\", \"25\", \"26\", \"27\", \"28\", \"29\", \"30\", \"31\", \"32\", \"33\", \"34\", \"35\", \"38\", \"39\"], \"mode\": \"lines\", \"name\": \"average_precision_score_macro_max\", \"stepped\": true, \"type\": \"scatter\", \"data\": [0.8070683865912285, 0.8486467160217606, 0.8486467160217606, 0.8486467160217606, 0.8486467160217606, 0.8486467160217606, 0.8486467160217606, 0.8486467160217606, 0.8486467160217606, 0.8486467160217606, 0.8486467160217606, 0.8486467160217606, 0.8486467160217606, 0.8486467160217606, 0.8486467160217606, 0.8486467160217606, 0.8486467160217606, 0.8486467160217606, 0.8486467160217606, 0.8486467160217606, 0.8486467160217606, 0.8486467160217606, 0.8486467160217606, 0.8486467160217606, 0.8486467160217606, 0.8486467160217606, 0.8486467160217606, 0.8486467160217606, 0.8486467160217606, 0.8486467160217606, 0.8486467160217606, 0.8486467160217606, 0.8486467160217606, 0.8486467160217606, 0.8486467160217606, 0.8486467160217606, 0.8486467160217606, 0.8486467160217606]}], \"norm_macro_recall\": [{\"categories\": [\"0\", \"1\", \"2\", \"3\", \"4\", \"5\", \"6\", \"7\", \"8\", \"9\", \"10\", \"11\", \"12\", \"13\", \"14\", \"15\", \"16\", \"17\", \"18\", \"19\", \"20\", \"21\", \"22\", \"23\", \"24\", \"25\", \"26\", \"27\", \"28\", \"29\", \"30\", \"31\", \"32\", \"33\", \"34\", \"35\", \"38\", \"39\"], \"mode\": \"markers\", \"name\": \"norm_macro_recall\", \"stepped\": false, \"type\": \"scatter\", \"data\": [0.5363809099675919, 0.5589216666281888, 0.4779032518682843, 0.48160368675174253, 0.5572390507692011, 0.45255806978303015, 0.5475757327195471, 0.5543449413267914, 0.515688941619225, 0.5639167222059511, 0.5058326470693106, 0.3425230882342335, 0.4619661801698574, 0.4614574314780954, 0.42522717750700173, 0.5423383542274248, 0.49315630708998565, 0.46225100077718606, 0.5372519102088339, 0.5128896340536973, 0.4182724627397665, 0.5335060955993274, 0.5559714599673933, 0.4938465038657087, 0.5118154768818102, 0.4929294768834116, 0.45362772892804576, 0.517450815602996, 0.4943026039519684, 0.5067266943168772, 0.40668957304283426, 0.46305909009154433, 0.5274192026298123, 0.5375068935604859, 0.4707395136831872, 0.0, 0.5738805283418278, 0.5463412592762275]}, {\"categories\": [\"0\", \"1\", \"2\", \"3\", \"4\", \"5\", \"6\", \"7\", \"8\", \"9\", \"10\", \"11\", \"12\", \"13\", \"14\", \"15\", \"16\", \"17\", \"18\", \"19\", \"20\", \"21\", \"22\", \"23\", \"24\", \"25\", \"26\", \"27\", \"28\", \"29\", \"30\", \"31\", \"32\", \"33\", \"34\", \"35\", \"38\", \"39\"], \"mode\": \"lines\", \"name\": \"norm_macro_recall_max\", \"stepped\": true, \"type\": \"scatter\", \"data\": [0.5363809099675919, 0.5589216666281888, 0.5589216666281888, 0.5589216666281888, 0.5589216666281888, 0.5589216666281888, 0.5589216666281888, 0.5589216666281888, 0.5589216666281888, 0.5639167222059511, 0.5639167222059511, 0.5639167222059511, 0.5639167222059511, 0.5639167222059511, 0.5639167222059511, 0.5639167222059511, 0.5639167222059511, 0.5639167222059511, 0.5639167222059511, 0.5639167222059511, 0.5639167222059511, 0.5639167222059511, 0.5639167222059511, 0.5639167222059511, 0.5639167222059511, 0.5639167222059511, 0.5639167222059511, 0.5639167222059511, 0.5639167222059511, 0.5639167222059511, 0.5639167222059511, 0.5639167222059511, 0.5639167222059511, 0.5639167222059511, 0.5639167222059511, 0.5639167222059511, 0.5738805283418278, 0.5738805283418278]}], \"weighted_accuracy\": [{\"categories\": [\"0\", \"1\", \"2\", \"3\", \"4\", \"5\", \"6\", \"7\", \"8\", \"9\", \"10\", \"11\", \"12\", \"13\", \"14\", \"15\", \"16\", \"17\", \"18\", \"19\", \"20\", \"21\", \"22\", \"23\", \"24\", \"25\", \"26\", \"27\", \"28\", \"29\", \"30\", \"31\", \"32\", \"33\", \"34\", \"35\", \"38\", \"39\"], \"mode\": \"markers\", \"name\": \"weighted_accuracy\", \"stepped\": false, \"type\": \"scatter\", \"data\": [0.8011912975827716, 0.8205994101072085, 0.7905661053514587, 0.8000754650476392, 0.7835967242738491, 0.7056573844719711, 0.8315258931571383, 0.8013368030241825, 0.7953418962817753, 0.816129000029157, 0.8124345231010663, 0.8023428471211707, 0.811818883481822, 0.8004216459935943, 0.8129369737336065, 0.812939593066637, 0.813552899192046, 0.802050613260317, 0.8005468811875123, 0.8050105117823849, 0.8096443394543593, 0.8185954566903222, 0.819629756735915, 0.8152741266743447, 0.8012734937768137, 0.7968545763684897, 0.8378188594762694, 0.8029910872353551, 0.8067941366085213, 0.7886843085003318, 0.8024376206623044, 0.7677568048810277, 0.8173146987648456, 0.8255093722567107, 0.7706279739150834, 0.7154856197517837, 0.8452224460338058, 0.8178509138805028]}, {\"categories\": [\"0\", \"1\", \"2\", \"3\", \"4\", \"5\", \"6\", \"7\", \"8\", \"9\", \"10\", \"11\", \"12\", \"13\", \"14\", \"15\", \"16\", \"17\", \"18\", \"19\", \"20\", \"21\", \"22\", \"23\", \"24\", \"25\", \"26\", \"27\", \"28\", \"29\", \"30\", \"31\", \"32\", \"33\", \"34\", \"35\", \"38\", \"39\"], \"mode\": \"lines\", \"name\": \"weighted_accuracy_max\", \"stepped\": true, \"type\": \"scatter\", \"data\": [0.8011912975827716, 0.8205994101072085, 0.8205994101072085, 0.8205994101072085, 0.8205994101072085, 0.8205994101072085, 0.8315258931571383, 0.8315258931571383, 0.8315258931571383, 0.8315258931571383, 0.8315258931571383, 0.8315258931571383, 0.8315258931571383, 0.8315258931571383, 0.8315258931571383, 0.8315258931571383, 0.8315258931571383, 0.8315258931571383, 0.8315258931571383, 0.8315258931571383, 0.8315258931571383, 0.8315258931571383, 0.8315258931571383, 0.8315258931571383, 0.8315258931571383, 0.8315258931571383, 0.8378188594762694, 0.8378188594762694, 0.8378188594762694, 0.8378188594762694, 0.8378188594762694, 0.8378188594762694, 0.8378188594762694, 0.8378188594762694, 0.8378188594762694, 0.8378188594762694, 0.8452224460338058, 0.8452224460338058]}], \"precision_score_micro\": [{\"categories\": [\"0\", \"1\", \"2\", \"3\", \"4\", \"5\", \"6\", \"7\", \"8\", \"9\", \"10\", \"11\", \"12\", \"13\", \"14\", \"15\", \"16\", \"17\", \"18\", \"19\", \"20\", \"21\", \"22\", \"23\", \"24\", \"25\", \"26\", \"27\", \"28\", \"29\", \"30\", \"31\", \"32\", \"33\", \"34\", \"35\", \"38\", \"39\"], \"mode\": \"markers\", \"name\": \"precision_score_micro\", \"stepped\": false, \"type\": \"scatter\", \"data\": [0.7856004017324713, 0.8013244617412593, 0.7665243864164208, 0.7720984244554641, 0.7811311279894545, 0.7149331492059506, 0.8046764170485219, 0.7901136149645345, 0.7777666185424643, 0.800207143305505, 0.784489360366581, 0.7418178394325529, 0.7743958320256106, 0.7676542589919026, 0.766518109346557, 0.7934718473416609, 0.7822358922854811, 0.7687966857071118, 0.7856317870817903, 0.7822672776348, 0.7631849852488859, 0.7945766116376876, 0.8002008662356411, 0.7833594877910991, 0.7800075324838366, 0.7732722365199926, 0.7867239972380893, 0.7822484464252086, 0.7788651057686271, 0.7721549180842383, 0.756443412215178, 0.7508442658966794, 0.7923419747661792, 0.7990709936601593, 0.7541773899943506, 0.6161571778293892, 0.8181595631159375, 0.7968363567886511]}, {\"categories\": [\"0\", \"1\", \"2\", \"3\", \"4\", \"5\", \"6\", \"7\", \"8\", \"9\", \"10\", \"11\", \"12\", \"13\", \"14\", \"15\", \"16\", \"17\", \"18\", \"19\", \"20\", \"21\", \"22\", \"23\", \"24\", \"25\", \"26\", \"27\", \"28\", \"29\", \"30\", \"31\", \"32\", \"33\", \"34\", \"35\", \"38\", \"39\"], \"mode\": \"lines\", \"name\": \"precision_score_micro_max\", \"stepped\": true, \"type\": \"scatter\", \"data\": [0.7856004017324713, 0.8013244617412593, 0.8013244617412593, 0.8013244617412593, 0.8013244617412593, 0.8013244617412593, 0.8046764170485219, 0.8046764170485219, 0.8046764170485219, 0.8046764170485219, 0.8046764170485219, 0.8046764170485219, 0.8046764170485219, 0.8046764170485219, 0.8046764170485219, 0.8046764170485219, 0.8046764170485219, 0.8046764170485219, 0.8046764170485219, 0.8046764170485219, 0.8046764170485219, 0.8046764170485219, 0.8046764170485219, 0.8046764170485219, 0.8046764170485219, 0.8046764170485219, 0.8046764170485219, 0.8046764170485219, 0.8046764170485219, 0.8046764170485219, 0.8046764170485219, 0.8046764170485219, 0.8046764170485219, 0.8046764170485219, 0.8046764170485219, 0.8046764170485219, 0.8181595631159375, 0.8181595631159375]}], \"f1_score_micro\": [{\"categories\": [\"0\", \"1\", \"2\", \"3\", \"4\", \"5\", \"6\", \"7\", \"8\", \"9\", \"10\", \"11\", \"12\", \"13\", \"14\", \"15\", \"16\", \"17\", \"18\", \"19\", \"20\", \"21\", \"22\", \"23\", \"24\", \"25\", \"26\", \"27\", \"28\", \"29\", \"30\", \"31\", \"32\", \"33\", \"34\", \"35\", \"38\", \"39\"], \"mode\": \"markers\", \"name\": \"f1_score_micro\", \"stepped\": false, \"type\": \"scatter\", \"data\": [0.7856004017324713, 0.8013244617412593, 0.7665243864164208, 0.7720984244554641, 0.7811311279894545, 0.7149331492059506, 0.8046764170485219, 0.7901136149645345, 0.7777666185424643, 0.800207143305505, 0.784489360366581, 0.7418178394325529, 0.7743958320256104, 0.7676542589919026, 0.766518109346557, 0.7934718473416608, 0.7822358922854811, 0.7687966857071119, 0.7856317870817903, 0.7822672776348, 0.7631849852488859, 0.7945766116376876, 0.8002008662356411, 0.7833594877910991, 0.7800075324838366, 0.7732722365199926, 0.7867239972380893, 0.7822484464252086, 0.7788651057686271, 0.7721549180842382, 0.756443412215178, 0.7508442658966794, 0.7923419747661791, 0.7990709936601593, 0.7541773899943507, 0.6161571778293892, 0.8181595631159375, 0.7968363567886512]}, {\"categories\": [\"0\", \"1\", \"2\", \"3\", \"4\", \"5\", \"6\", \"7\", \"8\", \"9\", \"10\", \"11\", \"12\", \"13\", \"14\", \"15\", \"16\", \"17\", \"18\", \"19\", \"20\", \"21\", \"22\", \"23\", \"24\", \"25\", \"26\", \"27\", \"28\", \"29\", \"30\", \"31\", \"32\", \"33\", \"34\", \"35\", \"38\", \"39\"], \"mode\": \"lines\", \"name\": \"f1_score_micro_max\", \"stepped\": true, \"type\": \"scatter\", \"data\": [0.7856004017324713, 0.8013244617412593, 0.8013244617412593, 0.8013244617412593, 0.8013244617412593, 0.8013244617412593, 0.8046764170485219, 0.8046764170485219, 0.8046764170485219, 0.8046764170485219, 0.8046764170485219, 0.8046764170485219, 0.8046764170485219, 0.8046764170485219, 0.8046764170485219, 0.8046764170485219, 0.8046764170485219, 0.8046764170485219, 0.8046764170485219, 0.8046764170485219, 0.8046764170485219, 0.8046764170485219, 0.8046764170485219, 0.8046764170485219, 0.8046764170485219, 0.8046764170485219, 0.8046764170485219, 0.8046764170485219, 0.8046764170485219, 0.8046764170485219, 0.8046764170485219, 0.8046764170485219, 0.8046764170485219, 0.8046764170485219, 0.8046764170485219, 0.8046764170485219, 0.8181595631159375, 0.8181595631159375]}], \"f1_score_weighted\": [{\"categories\": [\"0\", \"1\", \"2\", \"3\", \"4\", \"5\", \"6\", \"7\", \"8\", \"9\", \"10\", \"11\", \"12\", \"13\", \"14\", \"15\", \"16\", \"17\", \"18\", \"19\", \"20\", \"21\", \"22\", \"23\", \"24\", \"25\", \"26\", \"27\", \"28\", \"29\", \"30\", \"31\", \"32\", \"33\", \"34\", \"35\", \"38\", \"39\"], \"mode\": \"markers\", \"name\": \"f1_score_weighted\", \"stepped\": false, \"type\": \"scatter\", \"data\": [0.7835643408930468, 0.7980786428134259, 0.7616879154524852, 0.7640075722179192, 0.7833537267145347, 0.7192797448064054, 0.7986756562809652, 0.7902568494417237, 0.7757884650705968, 0.7988058126176838, 0.7768315767179221, 0.705205459494087, 0.7621767906662734, 0.7541171765191401, 0.7463213269443809, 0.7908406610958445, 0.7728400438467891, 0.7573303519623718, 0.7847753862290527, 0.7777394354072793, 0.7437512479468721, 0.7900688442949384, 0.7970301125889342, 0.7741244902478555, 0.7764478725556607, 0.7677411249218722, 0.7653262145059386, 0.7784622033296238, 0.7717127136509818, 0.7712097307253792, 0.7364121361237788, 0.7498181990081614, 0.7876413070763221, 0.7935359030566489, 0.7532649383639347, 0.47083314115090563, 0.8119312944907797, 0.7926356647493276]}, {\"categories\": [\"0\", \"1\", \"2\", \"3\", \"4\", \"5\", \"6\", \"7\", \"8\", \"9\", \"10\", \"11\", \"12\", \"13\", \"14\", \"15\", \"16\", \"17\", \"18\", \"19\", \"20\", \"21\", \"22\", \"23\", \"24\", \"25\", \"26\", \"27\", \"28\", \"29\", \"30\", \"31\", \"32\", \"33\", \"34\", \"35\", \"38\", \"39\"], \"mode\": \"lines\", \"name\": \"f1_score_weighted_max\", \"stepped\": true, \"type\": \"scatter\", \"data\": [0.7835643408930468, 0.7980786428134259, 0.7980786428134259, 0.7980786428134259, 0.7980786428134259, 0.7980786428134259, 0.7986756562809652, 0.7986756562809652, 0.7986756562809652, 0.7988058126176838, 0.7988058126176838, 0.7988058126176838, 0.7988058126176838, 0.7988058126176838, 0.7988058126176838, 0.7988058126176838, 0.7988058126176838, 0.7988058126176838, 0.7988058126176838, 0.7988058126176838, 0.7988058126176838, 0.7988058126176838, 0.7988058126176838, 0.7988058126176838, 0.7988058126176838, 0.7988058126176838, 0.7988058126176838, 0.7988058126176838, 0.7988058126176838, 0.7988058126176838, 0.7988058126176838, 0.7988058126176838, 0.7988058126176838, 0.7988058126176838, 0.7988058126176838, 0.7988058126176838, 0.8119312944907797, 0.8119312944907797]}], \"precision_score_weighted\": [{\"categories\": [\"0\", \"1\", \"2\", \"3\", \"4\", \"5\", \"6\", \"7\", \"8\", \"9\", \"10\", \"11\", \"12\", \"13\", \"14\", \"15\", \"16\", \"17\", \"18\", \"19\", \"20\", \"21\", \"22\", \"23\", \"24\", \"25\", \"26\", \"27\", \"28\", \"29\", \"30\", \"31\", \"32\", \"33\", \"34\", \"35\", \"38\", \"39\"], \"mode\": \"markers\", \"name\": \"precision_score_weighted\", \"stepped\": false, \"type\": \"scatter\", \"data\": [0.7924655446016111, 0.807124463945842, 0.7701649428305223, 0.7873470908349754, 0.7932491024110091, 0.7475536257822345, 0.8133544211459306, 0.7933300251527398, 0.7849525849544031, 0.8022179544596769, 0.8012113712916348, 0.7955851737244203, 0.7906354153857722, 0.8016863562286941, 0.7918698469980352, 0.7961745529811055, 0.7957594183267784, 0.7913789897961033, 0.7887194290888464, 0.7892474803782397, 0.7874221881282146, 0.7982481101518484, 0.804828189325837, 0.7971059729426182, 0.7870059040084969, 0.7833549153886454, 0.8270069541417069, 0.7900681661835767, 0.7903310282821742, 0.7773120124317898, 0.7795179063717081, 0.7535912196073496, 0.7974374203703759, 0.8054366896273141, 0.7581193533618609, 0.3817934587431555, 0.8272042762002467, 0.8068270361268445]}, {\"categories\": [\"0\", \"1\", \"2\", \"3\", \"4\", \"5\", \"6\", \"7\", \"8\", \"9\", \"10\", \"11\", \"12\", \"13\", \"14\", \"15\", \"16\", \"17\", \"18\", \"19\", \"20\", \"21\", \"22\", \"23\", \"24\", \"25\", \"26\", \"27\", \"28\", \"29\", \"30\", \"31\", \"32\", \"33\", \"34\", \"35\", \"38\", \"39\"], \"mode\": \"lines\", \"name\": \"precision_score_weighted_max\", \"stepped\": true, \"type\": \"scatter\", \"data\": [0.7924655446016111, 0.807124463945842, 0.807124463945842, 0.807124463945842, 0.807124463945842, 0.807124463945842, 0.8133544211459306, 0.8133544211459306, 0.8133544211459306, 0.8133544211459306, 0.8133544211459306, 0.8133544211459306, 0.8133544211459306, 0.8133544211459306, 0.8133544211459306, 0.8133544211459306, 0.8133544211459306, 0.8133544211459306, 0.8133544211459306, 0.8133544211459306, 0.8133544211459306, 0.8133544211459306, 0.8133544211459306, 0.8133544211459306, 0.8133544211459306, 0.8133544211459306, 0.8270069541417069, 0.8270069541417069, 0.8270069541417069, 0.8270069541417069, 0.8270069541417069, 0.8270069541417069, 0.8270069541417069, 0.8270069541417069, 0.8270069541417069, 0.8270069541417069, 0.8272042762002467, 0.8272042762002467]}], \"accuracy\": [{\"categories\": [\"0\", \"1\", \"2\", \"3\", \"4\", \"5\", \"6\", \"7\", \"8\", \"9\", \"10\", \"11\", \"12\", \"13\", \"14\", \"15\", \"16\", \"17\", \"18\", \"19\", \"20\", \"21\", \"22\", \"23\", \"24\", \"25\", \"26\", \"27\", \"28\", \"29\", \"30\", \"31\", \"32\", \"33\", \"34\", \"35\", \"38\", \"39\"], \"mode\": \"markers\", \"name\": \"accuracy\", \"stepped\": false, \"type\": \"scatter\", \"data\": [0.7856004017324713, 0.8013244617412593, 0.7665243864164208, 0.7720984244554641, 0.7811311279894545, 0.7149331492059506, 0.8046764170485219, 0.7901136149645345, 0.7777666185424643, 0.800207143305505, 0.784489360366581, 0.7418178394325529, 0.7743958320256106, 0.7676542589919026, 0.766518109346557, 0.7934718473416609, 0.7822358922854811, 0.7687966857071118, 0.7856317870817903, 0.7822672776348, 0.7631849852488859, 0.7945766116376876, 0.8002008662356411, 0.7833594877910991, 0.7800075324838366, 0.7732722365199926, 0.7867239972380893, 0.7822484464252086, 0.7788651057686271, 0.7721549180842383, 0.756443412215178, 0.7508442658966794, 0.7923419747661792, 0.7990709936601593, 0.7541773899943506, 0.6161571778293892, 0.8181595631159375, 0.7968363567886511]}, {\"categories\": [\"0\", \"1\", \"2\", \"3\", \"4\", \"5\", \"6\", \"7\", \"8\", \"9\", \"10\", \"11\", \"12\", \"13\", \"14\", \"15\", \"16\", \"17\", \"18\", \"19\", \"20\", \"21\", \"22\", \"23\", \"24\", \"25\", \"26\", \"27\", \"28\", \"29\", \"30\", \"31\", \"32\", \"33\", \"34\", \"35\", \"38\", \"39\"], \"mode\": \"lines\", \"name\": \"accuracy_max\", \"stepped\": true, \"type\": \"scatter\", \"data\": [0.7856004017324713, 0.8013244617412593, 0.8013244617412593, 0.8013244617412593, 0.8013244617412593, 0.8013244617412593, 0.8046764170485219, 0.8046764170485219, 0.8046764170485219, 0.8046764170485219, 0.8046764170485219, 0.8046764170485219, 0.8046764170485219, 0.8046764170485219, 0.8046764170485219, 0.8046764170485219, 0.8046764170485219, 0.8046764170485219, 0.8046764170485219, 0.8046764170485219, 0.8046764170485219, 0.8046764170485219, 0.8046764170485219, 0.8046764170485219, 0.8046764170485219, 0.8046764170485219, 0.8046764170485219, 0.8046764170485219, 0.8046764170485219, 0.8046764170485219, 0.8046764170485219, 0.8046764170485219, 0.8046764170485219, 0.8046764170485219, 0.8046764170485219, 0.8046764170485219, 0.8181595631159375, 0.8181595631159375]}], \"average_precision_score_weighted\": [{\"categories\": [\"0\", \"1\", \"2\", \"3\", \"4\", \"5\", \"6\", \"7\", \"8\", \"9\", \"10\", \"11\", \"12\", \"13\", \"14\", \"15\", \"16\", \"17\", \"18\", \"19\", \"20\", \"21\", \"22\", \"23\", \"24\", \"25\", \"26\", \"27\", \"28\", \"29\", \"30\", \"31\", \"32\", \"33\", \"34\", \"35\", \"38\", \"39\"], \"mode\": \"markers\", \"name\": \"average_precision_score_weighted\", \"stepped\": false, \"type\": \"scatter\", \"data\": [0.8131485806421598, 0.8564455715338021, 0.8344200463847095, 0.8322595178732044, 0.8344512526783141, 0.8010772400366587, 0.8527881295899871, 0.8450997343027684, 0.8149628562111724, 0.8489349634752307, 0.8528123391821303, 0.8203427650453967, 0.8359608279726828, 0.8252702567316238, 0.8329004342127417, 0.8338403143054682, 0.8383550463026974, 0.84125267270362, 0.8336015495730249, 0.8200930892612242, 0.8199460131020324, 0.8408919129297203, 0.8366235888321019, 0.8383998922976351, 0.8390088804680417, 0.8454119600221954, 0.8466165500636782, 0.8262165807564374, 0.8458884422906573, 0.808070967185183, 0.8273444008529136, 0.7932497469772888, 0.8463657209309412, 0.8494626244360225, 0.8067647329770414, 0.8267009900939808, 0.8521567215077799, 0.8548464115220196]}, {\"categories\": [\"0\", \"1\", \"2\", \"3\", \"4\", \"5\", \"6\", \"7\", \"8\", \"9\", \"10\", \"11\", \"12\", \"13\", \"14\", \"15\", \"16\", \"17\", \"18\", \"19\", \"20\", \"21\", \"22\", \"23\", \"24\", \"25\", \"26\", \"27\", \"28\", \"29\", \"30\", \"31\", \"32\", \"33\", \"34\", \"35\", \"38\", \"39\"], \"mode\": \"lines\", \"name\": \"average_precision_score_weighted_max\", \"stepped\": true, \"type\": \"scatter\", \"data\": [0.8131485806421598, 0.8564455715338021, 0.8564455715338021, 0.8564455715338021, 0.8564455715338021, 0.8564455715338021, 0.8564455715338021, 0.8564455715338021, 0.8564455715338021, 0.8564455715338021, 0.8564455715338021, 0.8564455715338021, 0.8564455715338021, 0.8564455715338021, 0.8564455715338021, 0.8564455715338021, 0.8564455715338021, 0.8564455715338021, 0.8564455715338021, 0.8564455715338021, 0.8564455715338021, 0.8564455715338021, 0.8564455715338021, 0.8564455715338021, 0.8564455715338021, 0.8564455715338021, 0.8564455715338021, 0.8564455715338021, 0.8564455715338021, 0.8564455715338021, 0.8564455715338021, 0.8564455715338021, 0.8564455715338021, 0.8564455715338021, 0.8564455715338021, 0.8564455715338021, 0.8564455715338021, 0.8564455715338021]}], \"AUC_weighted\": [{\"categories\": [\"0\", \"1\", \"2\", \"3\", \"4\", \"5\", \"6\", \"7\", \"8\", \"9\", \"10\", \"11\", \"12\", \"13\", \"14\", \"15\", \"16\", \"17\", \"18\", \"19\", \"20\", \"21\", \"22\", \"23\", \"24\", \"25\", \"26\", \"27\", \"28\", \"29\", \"30\", \"31\", \"32\", \"33\", \"34\", \"35\", \"38\", \"39\"], \"mode\": \"markers\", \"name\": \"AUC_weighted\", \"stepped\": false, \"type\": \"scatter\", \"data\": [0.8134024140985826, 0.8523997765446302, 0.8323435808431204, 0.8256672285683472, 0.8328360997487947, 0.8022424106127412, 0.8523364776369589, 0.8454753776583506, 0.8126781226503237, 0.8470932512997468, 0.8481748262986741, 0.8196799142028104, 0.8384606382118239, 0.8349184574494217, 0.8281089314056466, 0.8326572147660668, 0.8381820203398815, 0.8375083439784495, 0.8348237028566869, 0.8219376178408785, 0.8125260477427003, 0.8404635754006794, 0.834612860903251, 0.8392990370512171, 0.8388467563133009, 0.8375416255165271, 0.849114315168773, 0.8196524855891756, 0.8491678430980153, 0.8055932759346988, 0.8259689356604927, 0.792439780515384, 0.8479467263096943, 0.8470010774721419, 0.8037714869764875, 0.8264681993366463, 0.850959688603736, 0.8514021422628864]}, {\"categories\": [\"0\", \"1\", \"2\", \"3\", \"4\", \"5\", \"6\", \"7\", \"8\", \"9\", \"10\", \"11\", \"12\", \"13\", \"14\", \"15\", \"16\", \"17\", \"18\", \"19\", \"20\", \"21\", \"22\", \"23\", \"24\", \"25\", \"26\", \"27\", \"28\", \"29\", \"30\", \"31\", \"32\", \"33\", \"34\", \"35\", \"38\", \"39\"], \"mode\": \"lines\", \"name\": \"AUC_weighted_max\", \"stepped\": true, \"type\": \"scatter\", \"data\": [0.8134024140985826, 0.8523997765446302, 0.8523997765446302, 0.8523997765446302, 0.8523997765446302, 0.8523997765446302, 0.8523997765446302, 0.8523997765446302, 0.8523997765446302, 0.8523997765446302, 0.8523997765446302, 0.8523997765446302, 0.8523997765446302, 0.8523997765446302, 0.8523997765446302, 0.8523997765446302, 0.8523997765446302, 0.8523997765446302, 0.8523997765446302, 0.8523997765446302, 0.8523997765446302, 0.8523997765446302, 0.8523997765446302, 0.8523997765446302, 0.8523997765446302, 0.8523997765446302, 0.8523997765446302, 0.8523997765446302, 0.8523997765446302, 0.8523997765446302, 0.8523997765446302, 0.8523997765446302, 0.8523997765446302, 0.8523997765446302, 0.8523997765446302, 0.8523997765446302, 0.8523997765446302, 0.8523997765446302]}], \"log_loss\": [{\"categories\": [\"0\", \"1\", \"2\", \"3\", \"4\", \"5\", \"6\", \"7\", \"8\", \"9\", \"10\", \"11\", \"12\", \"13\", \"14\", \"15\", \"16\", \"17\", \"18\", \"19\", \"20\", \"21\", \"22\", \"23\", \"24\", \"25\", \"26\", \"27\", \"28\", \"29\", \"30\", \"31\", \"32\", \"33\", \"34\", \"35\", \"38\", \"39\"], \"mode\": \"markers\", \"name\": \"log_loss\", \"stepped\": false, \"type\": \"scatter\", \"data\": [0.5774268090032681, 0.45438625139796357, 0.4972864622481478, 0.5182673888114401, 0.5027207874909878, 0.5711539589706393, 0.44395448727106696, 0.47395861473688605, 0.5179742743378128, 0.45524145316345044, 0.4731096200670743, 0.5787003593909504, 0.5238198314127238, 0.4603625763155309, 0.5476366698078105, 0.4660918858749568, 0.5092801656927414, 0.49616528267346827, 0.4715878633792979, 0.4774272186321721, 0.5451936382258508, 0.4534813759039517, 0.47446583993222335, 0.529467575300027, 0.501394197514859, 0.4793198931323082, 0.5403770919656307, 0.48624843865541995, 0.499770021293058, 0.5408833147373795, 0.5399208783103545, 0.7224246441128723, 0.44831129551586707, 0.45123928356461623, 0.5888302568764789, 0.6209158070699685, 0.46579979163532065, 0.4589981222152454]}, {\"categories\": [\"0\", \"1\", \"2\", \"3\", \"4\", \"5\", \"6\", \"7\", \"8\", \"9\", \"10\", \"11\", \"12\", \"13\", \"14\", \"15\", \"16\", \"17\", \"18\", \"19\", \"20\", \"21\", \"22\", \"23\", \"24\", \"25\", \"26\", \"27\", \"28\", \"29\", \"30\", \"31\", \"32\", \"33\", \"34\", \"35\", \"38\", \"39\"], \"mode\": \"lines\", \"name\": \"log_loss_min\", \"stepped\": true, \"type\": \"scatter\", \"data\": [0.5774268090032681, 0.45438625139796357, 0.45438625139796357, 0.45438625139796357, 0.45438625139796357, 0.45438625139796357, 0.44395448727106696, 0.44395448727106696, 0.44395448727106696, 0.44395448727106696, 0.44395448727106696, 0.44395448727106696, 0.44395448727106696, 0.44395448727106696, 0.44395448727106696, 0.44395448727106696, 0.44395448727106696, 0.44395448727106696, 0.44395448727106696, 0.44395448727106696, 0.44395448727106696, 0.44395448727106696, 0.44395448727106696, 0.44395448727106696, 0.44395448727106696, 0.44395448727106696, 0.44395448727106696, 0.44395448727106696, 0.44395448727106696, 0.44395448727106696, 0.44395448727106696, 0.44395448727106696, 0.44395448727106696, 0.44395448727106696, 0.44395448727106696, 0.44395448727106696, 0.44395448727106696, 0.44395448727106696]}], \"AUC_macro\": [{\"categories\": [\"0\", \"1\", \"2\", \"3\", \"4\", \"5\", \"6\", \"7\", \"8\", \"9\", \"10\", \"11\", \"12\", \"13\", \"14\", \"15\", \"16\", \"17\", \"18\", \"19\", \"20\", \"21\", \"22\", \"23\", \"24\", \"25\", \"26\", \"27\", \"28\", \"29\", \"30\", \"31\", \"32\", \"33\", \"34\", \"35\", \"38\", \"39\"], \"mode\": \"markers\", \"name\": \"AUC_macro\", \"stepped\": false, \"type\": \"scatter\", \"data\": [0.8134024140985826, 0.85239977654463, 0.8323435808431204, 0.825667228568347, 0.8328360997487947, 0.8022424106127414, 0.8523364776369589, 0.8454753776583506, 0.8126781226503237, 0.8470932512997468, 0.8481748262986741, 0.8196799142028104, 0.8384606382118239, 0.8349184574494217, 0.8281089314056466, 0.8326572147660668, 0.8381820203398815, 0.8375083439784495, 0.8348237028566869, 0.8219376178408785, 0.8125260477427002, 0.8404635754006794, 0.834612860903251, 0.8392990370512171, 0.8388467563133009, 0.8375416255165271, 0.849114315168773, 0.8196524855891756, 0.8491678430980153, 0.8055932759346988, 0.8259689356604927, 0.7924397805153841, 0.8479467263096943, 0.8470010774721419, 0.8037714869764875, 0.8264681993366463, 0.850959688603736, 0.8514021422628864]}, {\"categories\": [\"0\", \"1\", \"2\", \"3\", \"4\", \"5\", \"6\", \"7\", \"8\", \"9\", \"10\", \"11\", \"12\", \"13\", \"14\", \"15\", \"16\", \"17\", \"18\", \"19\", \"20\", \"21\", \"22\", \"23\", \"24\", \"25\", \"26\", \"27\", \"28\", \"29\", \"30\", \"31\", \"32\", \"33\", \"34\", \"35\", \"38\", \"39\"], \"mode\": \"lines\", \"name\": \"AUC_macro_max\", \"stepped\": true, \"type\": \"scatter\", \"data\": [0.8134024140985826, 0.85239977654463, 0.85239977654463, 0.85239977654463, 0.85239977654463, 0.85239977654463, 0.85239977654463, 0.85239977654463, 0.85239977654463, 0.85239977654463, 0.85239977654463, 0.85239977654463, 0.85239977654463, 0.85239977654463, 0.85239977654463, 0.85239977654463, 0.85239977654463, 0.85239977654463, 0.85239977654463, 0.85239977654463, 0.85239977654463, 0.85239977654463, 0.85239977654463, 0.85239977654463, 0.85239977654463, 0.85239977654463, 0.85239977654463, 0.85239977654463, 0.85239977654463, 0.85239977654463, 0.85239977654463, 0.85239977654463, 0.85239977654463, 0.85239977654463, 0.85239977654463, 0.85239977654463, 0.85239977654463, 0.85239977654463]}], \"average_precision_score_micro\": [{\"categories\": [\"0\", \"1\", \"2\", \"3\", \"4\", \"5\", \"6\", \"7\", \"8\", \"9\", \"10\", \"11\", \"12\", \"13\", \"14\", \"15\", \"16\", \"17\", \"18\", \"19\", \"20\", \"21\", \"22\", \"23\", \"24\", \"25\", \"26\", \"27\", \"28\", \"29\", \"30\", \"31\", \"32\", \"33\", \"34\", \"35\", \"38\", \"39\"], \"mode\": \"markers\", \"name\": \"average_precision_score_micro\", \"stepped\": false, \"type\": \"scatter\", \"data\": [0.8198909630412217, 0.8550873560810377, 0.8335120320312885, 0.8245990217572441, 0.8400994311897069, 0.7853457272694617, 0.8620842415168422, 0.8441252751355984, 0.824121582572662, 0.8557634331027233, 0.8461783358239101, 0.7831824573935504, 0.8453796167448273, 0.8450704026083239, 0.8129880801184093, 0.8458898827084214, 0.830219690474833, 0.8325265346986731, 0.8327566409093071, 0.827828079897553, 0.8062735565413238, 0.8504332574944297, 0.839357366826051, 0.8383168527466317, 0.8482924353440359, 0.8402239034176378, 0.8202686586411672, 0.8322275498143391, 0.8542072804209685, 0.810888513324507, 0.8113352788463125, 0.7999777912576658, 0.8560349157206147, 0.8551604240700066, 0.8147215022016102, 0.7623842476610222, 0.8463003722704517, 0.8504006335684607]}, {\"categories\": [\"0\", \"1\", \"2\", \"3\", \"4\", \"5\", \"6\", \"7\", \"8\", \"9\", \"10\", \"11\", \"12\", \"13\", \"14\", \"15\", \"16\", \"17\", \"18\", \"19\", \"20\", \"21\", \"22\", \"23\", \"24\", \"25\", \"26\", \"27\", \"28\", \"29\", \"30\", \"31\", \"32\", \"33\", \"34\", \"35\", \"38\", \"39\"], \"mode\": \"lines\", \"name\": \"average_precision_score_micro_max\", \"stepped\": true, \"type\": \"scatter\", \"data\": [0.8198909630412217, 0.8550873560810377, 0.8550873560810377, 0.8550873560810377, 0.8550873560810377, 0.8550873560810377, 0.8620842415168422, 0.8620842415168422, 0.8620842415168422, 0.8620842415168422, 0.8620842415168422, 0.8620842415168422, 0.8620842415168422, 0.8620842415168422, 0.8620842415168422, 0.8620842415168422, 0.8620842415168422, 0.8620842415168422, 0.8620842415168422, 0.8620842415168422, 0.8620842415168422, 0.8620842415168422, 0.8620842415168422, 0.8620842415168422, 0.8620842415168422, 0.8620842415168422, 0.8620842415168422, 0.8620842415168422, 0.8620842415168422, 0.8620842415168422, 0.8620842415168422, 0.8620842415168422, 0.8620842415168422, 0.8620842415168422, 0.8620842415168422, 0.8620842415168422, 0.8620842415168422, 0.8620842415168422]}], \"balanced_accuracy\": [{\"categories\": [\"0\", \"1\", \"2\", \"3\", \"4\", \"5\", \"6\", \"7\", \"8\", \"9\", \"10\", \"11\", \"12\", \"13\", \"14\", \"15\", \"16\", \"17\", \"18\", \"19\", \"20\", \"21\", \"22\", \"23\", \"24\", \"25\", \"26\", \"27\", \"28\", \"29\", \"30\", \"31\", \"32\", \"33\", \"34\", \"35\", \"38\", \"39\"], \"mode\": \"markers\", \"name\": \"balanced_accuracy\", \"stepped\": false, \"type\": \"scatter\", \"data\": [0.7681904549837959, 0.7794608333140944, 0.7389516259341422, 0.7408018433758713, 0.7786195253846006, 0.7262790348915151, 0.7737878663597735, 0.7771724706633958, 0.7578444708096125, 0.7819583611029756, 0.7529163235346553, 0.6712615441171168, 0.7309830900849288, 0.7307287157390479, 0.7126135887535009, 0.7711691771137124, 0.7465781535449928, 0.731125500388593, 0.768625955104417, 0.7564448170268485, 0.7091362313698832, 0.7667530477996637, 0.7779857299836966, 0.7469232519328544, 0.7559077384409051, 0.7464647384417058, 0.726813864464023, 0.758725407801498, 0.7471513019759841, 0.7533633471584386, 0.7033447865214171, 0.7315295450457722, 0.7637096013149061, 0.768753446780243, 0.7353697568415936, 0.5, 0.7869402641709139, 0.7731706296381138]}, {\"categories\": [\"0\", \"1\", \"2\", \"3\", \"4\", \"5\", \"6\", \"7\", \"8\", \"9\", \"10\", \"11\", \"12\", \"13\", \"14\", \"15\", \"16\", \"17\", \"18\", \"19\", \"20\", \"21\", \"22\", \"23\", \"24\", \"25\", \"26\", \"27\", \"28\", \"29\", \"30\", \"31\", \"32\", \"33\", \"34\", \"35\", \"38\", \"39\"], \"mode\": \"lines\", \"name\": \"balanced_accuracy_max\", \"stepped\": true, \"type\": \"scatter\", \"data\": [0.7681904549837959, 0.7794608333140944, 0.7794608333140944, 0.7794608333140944, 0.7794608333140944, 0.7794608333140944, 0.7794608333140944, 0.7794608333140944, 0.7794608333140944, 0.7819583611029756, 0.7819583611029756, 0.7819583611029756, 0.7819583611029756, 0.7819583611029756, 0.7819583611029756, 0.7819583611029756, 0.7819583611029756, 0.7819583611029756, 0.7819583611029756, 0.7819583611029756, 0.7819583611029756, 0.7819583611029756, 0.7819583611029756, 0.7819583611029756, 0.7819583611029756, 0.7819583611029756, 0.7819583611029756, 0.7819583611029756, 0.7819583611029756, 0.7819583611029756, 0.7819583611029756, 0.7819583611029756, 0.7819583611029756, 0.7819583611029756, 0.7819583611029756, 0.7819583611029756, 0.7869402641709139, 0.7869402641709139]}], \"recall_score_weighted\": [{\"categories\": [\"0\", \"1\", \"2\", \"3\", \"4\", \"5\", \"6\", \"7\", \"8\", \"9\", \"10\", \"11\", \"12\", \"13\", \"14\", \"15\", \"16\", \"17\", \"18\", \"19\", \"20\", \"21\", \"22\", \"23\", \"24\", \"25\", \"26\", \"27\", \"28\", \"29\", \"30\", \"31\", \"32\", \"33\", \"34\", \"35\", \"38\", \"39\"], \"mode\": \"markers\", \"name\": \"recall_score_weighted\", \"stepped\": false, \"type\": \"scatter\", \"data\": [0.7856004017324713, 0.8013244617412593, 0.7665243864164208, 0.7720984244554641, 0.7811311279894545, 0.7149331492059506, 0.8046764170485219, 0.7901136149645345, 0.7777666185424643, 0.800207143305505, 0.784489360366581, 0.7418178394325529, 0.7743958320256106, 0.7676542589919026, 0.766518109346557, 0.7934718473416609, 0.7822358922854811, 0.7687966857071118, 0.7856317870817903, 0.7822672776348, 0.7631849852488859, 0.7945766116376876, 0.8002008662356411, 0.7833594877910991, 0.7800075324838366, 0.7732722365199926, 0.7867239972380893, 0.7822484464252086, 0.7788651057686271, 0.7721549180842383, 0.756443412215178, 0.7508442658966794, 0.7923419747661792, 0.7990709936601593, 0.7541773899943506, 0.6161571778293892, 0.8181595631159375, 0.7968363567886511]}, {\"categories\": [\"0\", \"1\", \"2\", \"3\", \"4\", \"5\", \"6\", \"7\", \"8\", \"9\", \"10\", \"11\", \"12\", \"13\", \"14\", \"15\", \"16\", \"17\", \"18\", \"19\", \"20\", \"21\", \"22\", \"23\", \"24\", \"25\", \"26\", \"27\", \"28\", \"29\", \"30\", \"31\", \"32\", \"33\", \"34\", \"35\", \"38\", \"39\"], \"mode\": \"lines\", \"name\": \"recall_score_weighted_max\", \"stepped\": true, \"type\": \"scatter\", \"data\": [0.7856004017324713, 0.8013244617412593, 0.8013244617412593, 0.8013244617412593, 0.8013244617412593, 0.8013244617412593, 0.8046764170485219, 0.8046764170485219, 0.8046764170485219, 0.8046764170485219, 0.8046764170485219, 0.8046764170485219, 0.8046764170485219, 0.8046764170485219, 0.8046764170485219, 0.8046764170485219, 0.8046764170485219, 0.8046764170485219, 0.8046764170485219, 0.8046764170485219, 0.8046764170485219, 0.8046764170485219, 0.8046764170485219, 0.8046764170485219, 0.8046764170485219, 0.8046764170485219, 0.8046764170485219, 0.8046764170485219, 0.8046764170485219, 0.8046764170485219, 0.8046764170485219, 0.8046764170485219, 0.8046764170485219, 0.8046764170485219, 0.8046764170485219, 0.8046764170485219, 0.8181595631159375, 0.8181595631159375]}], \"precision_score_macro\": [{\"categories\": [\"0\", \"1\", \"2\", \"3\", \"4\", \"5\", \"6\", \"7\", \"8\", \"9\", \"10\", \"11\", \"12\", \"13\", \"14\", \"15\", \"16\", \"17\", \"18\", \"19\", \"20\", \"21\", \"22\", \"23\", \"24\", \"25\", \"26\", \"27\", \"28\", \"29\", \"30\", \"31\", \"32\", \"33\", \"34\", \"35\", \"38\", \"39\"], \"mode\": \"markers\", \"name\": \"precision_score_macro\", \"stepped\": false, \"type\": \"scatter\", \"data\": [0.7806162950773893, 0.7990375591563545, 0.7606054248048116, 0.7833322200889647, 0.7713416526967969, 0.7172170659786465, 0.8114083756526249, 0.7775978119899467, 0.7726442750392922, 0.7910550541247309, 0.797482194204554, 0.8168997260930742, 0.792711263772692, 0.8031114212923598, 0.8030893505292005, 0.7868109305917432, 0.795219117876757, 0.7914498853467087, 0.7758545411518902, 0.7813484971879339, 0.79584457922856, 0.7916468554726408, 0.7972185615037117, 0.7972366213845511, 0.7771283829678406, 0.7755766429429949, 0.8485575163501944, 0.7805650874180419, 0.7859298310370487, 0.7633391073662861, 0.7863440034582453, 0.7374244798432938, 0.7921196774080606, 0.8019761673743574, 0.7418052938850437, 0.3080785889146946, 0.8276314349103322, 0.7991743224047492]}, {\"categories\": [\"0\", \"1\", \"2\", \"3\", \"4\", \"5\", \"6\", \"7\", \"8\", \"9\", \"10\", \"11\", \"12\", \"13\", \"14\", \"15\", \"16\", \"17\", \"18\", \"19\", \"20\", \"21\", \"22\", \"23\", \"24\", \"25\", \"26\", \"27\", \"28\", \"29\", \"30\", \"31\", \"32\", \"33\", \"34\", \"35\", \"38\", \"39\"], \"mode\": \"lines\", \"name\": \"precision_score_macro_max\", \"stepped\": true, \"type\": \"scatter\", \"data\": [0.7806162950773893, 0.7990375591563545, 0.7990375591563545, 0.7990375591563545, 0.7990375591563545, 0.7990375591563545, 0.8114083756526249, 0.8114083756526249, 0.8114083756526249, 0.8114083756526249, 0.8114083756526249, 0.8168997260930742, 0.8168997260930742, 0.8168997260930742, 0.8168997260930742, 0.8168997260930742, 0.8168997260930742, 0.8168997260930742, 0.8168997260930742, 0.8168997260930742, 0.8168997260930742, 0.8168997260930742, 0.8168997260930742, 0.8168997260930742, 0.8168997260930742, 0.8168997260930742, 0.8485575163501944, 0.8485575163501944, 0.8485575163501944, 0.8485575163501944, 0.8485575163501944, 0.8485575163501944, 0.8485575163501944, 0.8485575163501944, 0.8485575163501944, 0.8485575163501944, 0.8485575163501944, 0.8485575163501944]}], \"AUC_micro\": [{\"categories\": [\"0\", \"1\", \"2\", \"3\", \"4\", \"5\", \"6\", \"7\", \"8\", \"9\", \"10\", \"11\", \"12\", \"13\", \"14\", \"15\", \"16\", \"17\", \"18\", \"19\", \"20\", \"21\", \"22\", \"23\", \"24\", \"25\", \"26\", \"27\", \"28\", \"29\", \"30\", \"31\", \"32\", \"33\", \"34\", \"35\", \"38\", \"39\"], \"mode\": \"markers\", \"name\": \"AUC_micro\", \"stepped\": false, \"type\": \"scatter\", \"data\": [0.8383090091918076, 0.8697322143918141, 0.8499813246237606, 0.8391014625675226, 0.8482625231375589, 0.7966023250391285, 0.874514308714917, 0.854798426879845, 0.838451607938369, 0.8662168771728336, 0.864651295136111, 0.800179889805607, 0.8613280533552592, 0.8623179820643969, 0.8297357340978833, 0.8581191014490528, 0.8527996852568185, 0.8532372759477415, 0.8552733817197928, 0.8527224776127067, 0.824766906895238, 0.8660738034399108, 0.8559631318541531, 0.8574086826112017, 0.8604696021908648, 0.8553372261121961, 0.8427776146835851, 0.8458270696764328, 0.868707937037069, 0.8299932907733207, 0.833210595031983, 0.8158383642650191, 0.869079423948992, 0.8701545253369092, 0.8284816536724833, 0.7696781973509899, 0.868491111082383, 0.8658568983865006]}, {\"categories\": [\"0\", \"1\", \"2\", \"3\", \"4\", \"5\", \"6\", \"7\", \"8\", \"9\", \"10\", \"11\", \"12\", \"13\", \"14\", \"15\", \"16\", \"17\", \"18\", \"19\", \"20\", \"21\", \"22\", \"23\", \"24\", \"25\", \"26\", \"27\", \"28\", \"29\", \"30\", \"31\", \"32\", \"33\", \"34\", \"35\", \"38\", \"39\"], \"mode\": \"lines\", \"name\": \"AUC_micro_max\", \"stepped\": true, \"type\": \"scatter\", \"data\": [0.8383090091918076, 0.8697322143918141, 0.8697322143918141, 0.8697322143918141, 0.8697322143918141, 0.8697322143918141, 0.874514308714917, 0.874514308714917, 0.874514308714917, 0.874514308714917, 0.874514308714917, 0.874514308714917, 0.874514308714917, 0.874514308714917, 0.874514308714917, 0.874514308714917, 0.874514308714917, 0.874514308714917, 0.874514308714917, 0.874514308714917, 0.874514308714917, 0.874514308714917, 0.874514308714917, 0.874514308714917, 0.874514308714917, 0.874514308714917, 0.874514308714917, 0.874514308714917, 0.874514308714917, 0.874514308714917, 0.874514308714917, 0.874514308714917, 0.874514308714917, 0.874514308714917, 0.874514308714917, 0.874514308714917, 0.874514308714917, 0.874514308714917]}], \"recall_score_micro\": [{\"categories\": [\"0\", \"1\", \"2\", \"3\", \"4\", \"5\", \"6\", \"7\", \"8\", \"9\", \"10\", \"11\", \"12\", \"13\", \"14\", \"15\", \"16\", \"17\", \"18\", \"19\", \"20\", \"21\", \"22\", \"23\", \"24\", \"25\", \"26\", \"27\", \"28\", \"29\", \"30\", \"31\", \"32\", \"33\", \"34\", \"35\", \"38\", \"39\"], \"mode\": \"markers\", \"name\": \"recall_score_micro\", \"stepped\": false, \"type\": \"scatter\", \"data\": [0.7856004017324713, 0.8013244617412593, 0.7665243864164208, 0.7720984244554641, 0.7811311279894545, 0.7149331492059506, 0.8046764170485219, 0.7901136149645345, 0.7777666185424643, 0.800207143305505, 0.784489360366581, 0.7418178394325529, 0.7743958320256106, 0.7676542589919026, 0.766518109346557, 0.7934718473416609, 0.7822358922854811, 0.7687966857071118, 0.7856317870817903, 0.7822672776348, 0.7631849852488859, 0.7945766116376876, 0.8002008662356411, 0.7833594877910991, 0.7800075324838366, 0.7732722365199926, 0.7867239972380893, 0.7822484464252086, 0.7788651057686271, 0.7721549180842383, 0.756443412215178, 0.7508442658966794, 0.7923419747661792, 0.7990709936601593, 0.7541773899943506, 0.6161571778293892, 0.8181595631159375, 0.7968363567886511]}, {\"categories\": [\"0\", \"1\", \"2\", \"3\", \"4\", \"5\", \"6\", \"7\", \"8\", \"9\", \"10\", \"11\", \"12\", \"13\", \"14\", \"15\", \"16\", \"17\", \"18\", \"19\", \"20\", \"21\", \"22\", \"23\", \"24\", \"25\", \"26\", \"27\", \"28\", \"29\", \"30\", \"31\", \"32\", \"33\", \"34\", \"35\", \"38\", \"39\"], \"mode\": \"lines\", \"name\": \"recall_score_micro_max\", \"stepped\": true, \"type\": \"scatter\", \"data\": [0.7856004017324713, 0.8013244617412593, 0.8013244617412593, 0.8013244617412593, 0.8013244617412593, 0.8013244617412593, 0.8046764170485219, 0.8046764170485219, 0.8046764170485219, 0.8046764170485219, 0.8046764170485219, 0.8046764170485219, 0.8046764170485219, 0.8046764170485219, 0.8046764170485219, 0.8046764170485219, 0.8046764170485219, 0.8046764170485219, 0.8046764170485219, 0.8046764170485219, 0.8046764170485219, 0.8046764170485219, 0.8046764170485219, 0.8046764170485219, 0.8046764170485219, 0.8046764170485219, 0.8046764170485219, 0.8046764170485219, 0.8046764170485219, 0.8046764170485219, 0.8046764170485219, 0.8046764170485219, 0.8046764170485219, 0.8046764170485219, 0.8046764170485219, 0.8046764170485219, 0.8181595631159375, 0.8181595631159375]}], \"f1_score_macro\": [{\"categories\": [\"0\", \"1\", \"2\", \"3\", \"4\", \"5\", \"6\", \"7\", \"8\", \"9\", \"10\", \"11\", \"12\", \"13\", \"14\", \"15\", \"16\", \"17\", \"18\", \"19\", \"20\", \"21\", \"22\", \"23\", \"24\", \"25\", \"26\", \"27\", \"28\", \"29\", \"30\", \"31\", \"32\", \"33\", \"34\", \"35\", \"38\", \"39\"], \"mode\": \"markers\", \"name\": \"f1_score_macro\", \"stepped\": false, \"type\": \"scatter\", \"data\": [0.7683532434395635, 0.7824839254729231, 0.7426233712085699, 0.7444087155541678, 0.7706882533614834, 0.7089657890197879, 0.7810711380091707, 0.775751302588547, 0.7591044199001454, 0.7838709693181389, 0.7574667804763565, 0.6693445677809675, 0.7388513125117744, 0.7319107721071104, 0.7199072730497683, 0.7746652620597362, 0.7528014863312865, 0.7354240370194975, 0.7695528541021475, 0.7601073483539951, 0.7163300863898016, 0.7723203090056824, 0.7816112621050182, 0.7538817634070542, 0.7587932294496396, 0.7492490948985128, 0.7381970959529796, 0.7612287018218356, 0.7522177965417339, 0.754442977877046, 0.708877507932637, 0.7318236390926456, 0.7698808334882754, 0.7757045937671316, 0.7354243339002573, 0.38074060725393644, 0.7954575826160243, 0.7761558139687524]}, {\"categories\": [\"0\", \"1\", \"2\", \"3\", \"4\", \"5\", \"6\", \"7\", \"8\", \"9\", \"10\", \"11\", \"12\", \"13\", \"14\", \"15\", \"16\", \"17\", \"18\", \"19\", \"20\", \"21\", \"22\", \"23\", \"24\", \"25\", \"26\", \"27\", \"28\", \"29\", \"30\", \"31\", \"32\", \"33\", \"34\", \"35\", \"38\", \"39\"], \"mode\": \"lines\", \"name\": \"f1_score_macro_max\", \"stepped\": true, \"type\": \"scatter\", \"data\": [0.7683532434395635, 0.7824839254729231, 0.7824839254729231, 0.7824839254729231, 0.7824839254729231, 0.7824839254729231, 0.7824839254729231, 0.7824839254729231, 0.7824839254729231, 0.7838709693181389, 0.7838709693181389, 0.7838709693181389, 0.7838709693181389, 0.7838709693181389, 0.7838709693181389, 0.7838709693181389, 0.7838709693181389, 0.7838709693181389, 0.7838709693181389, 0.7838709693181389, 0.7838709693181389, 0.7838709693181389, 0.7838709693181389, 0.7838709693181389, 0.7838709693181389, 0.7838709693181389, 0.7838709693181389, 0.7838709693181389, 0.7838709693181389, 0.7838709693181389, 0.7838709693181389, 0.7838709693181389, 0.7838709693181389, 0.7838709693181389, 0.7838709693181389, 0.7838709693181389, 0.7954575826160243, 0.7954575826160243]}], \"recall_score_macro\": [{\"categories\": [\"0\", \"1\", \"2\", \"3\", \"4\", \"5\", \"6\", \"7\", \"8\", \"9\", \"10\", \"11\", \"12\", \"13\", \"14\", \"15\", \"16\", \"17\", \"18\", \"19\", \"20\", \"21\", \"22\", \"23\", \"24\", \"25\", \"26\", \"27\", \"28\", \"29\", \"30\", \"31\", \"32\", \"33\", \"34\", \"35\", \"38\", \"39\"], \"mode\": \"markers\", \"name\": \"recall_score_macro\", \"stepped\": false, \"type\": \"scatter\", \"data\": [0.7681904549837959, 0.7794608333140944, 0.7389516259341422, 0.7408018433758713, 0.7786195253846006, 0.7262790348915151, 0.7737878663597735, 0.7771724706633958, 0.7578444708096125, 0.7819583611029756, 0.7529163235346553, 0.6712615441171168, 0.7309830900849288, 0.7307287157390479, 0.7126135887535009, 0.7711691771137124, 0.7465781535449928, 0.731125500388593, 0.768625955104417, 0.7564448170268485, 0.7091362313698832, 0.7667530477996637, 0.7779857299836966, 0.7469232519328544, 0.7559077384409051, 0.7464647384417058, 0.726813864464023, 0.758725407801498, 0.7471513019759841, 0.7533633471584386, 0.7033447865214171, 0.7315295450457722, 0.7637096013149061, 0.768753446780243, 0.7353697568415936, 0.5, 0.7869402641709139, 0.7731706296381138]}, {\"categories\": [\"0\", \"1\", \"2\", \"3\", \"4\", \"5\", \"6\", \"7\", \"8\", \"9\", \"10\", \"11\", \"12\", \"13\", \"14\", \"15\", \"16\", \"17\", \"18\", \"19\", \"20\", \"21\", \"22\", \"23\", \"24\", \"25\", \"26\", \"27\", \"28\", \"29\", \"30\", \"31\", \"32\", \"33\", \"34\", \"35\", \"38\", \"39\"], \"mode\": \"lines\", \"name\": \"recall_score_macro_max\", \"stepped\": true, \"type\": \"scatter\", \"data\": [0.7681904549837959, 0.7794608333140944, 0.7794608333140944, 0.7794608333140944, 0.7794608333140944, 0.7794608333140944, 0.7794608333140944, 0.7794608333140944, 0.7794608333140944, 0.7819583611029756, 0.7819583611029756, 0.7819583611029756, 0.7819583611029756, 0.7819583611029756, 0.7819583611029756, 0.7819583611029756, 0.7819583611029756, 0.7819583611029756, 0.7819583611029756, 0.7819583611029756, 0.7819583611029756, 0.7819583611029756, 0.7819583611029756, 0.7819583611029756, 0.7819583611029756, 0.7819583611029756, 0.7819583611029756, 0.7819583611029756, 0.7819583611029756, 0.7819583611029756, 0.7819583611029756, 0.7819583611029756, 0.7819583611029756, 0.7819583611029756, 0.7819583611029756, 0.7819583611029756, 0.7869402641709139, 0.7869402641709139]}]}, \"metricName\": null, \"primaryMetricName\": \"accuracy\", \"showLegend\": false}, \"run_metrics\": [{\"name\": \"experiment_status\", \"run_id\": \"AutoML_d9ba78e5-a8a7-42bb-bd1c-0e1d330dae19\", \"categories\": [0, 1, 2, 3, 4, 5, 6, 7, 8, 9, 10, 11, 12, 13], \"series\": [{\"data\": [\"DatasetEvaluation\", \"FeaturesGeneration\", \"DatasetFeaturization\", \"DatasetFeaturizationCompleted\", \"DatasetCrossValidationSplit\", \"ModelSelection\", \"BestRunExplainModel\", \"ModelExplanationDataSetSetup\", \"PickSurrogateModel\", \"EngineeredFeatureExplanations\", \"EngineeredFeatureExplanations\", \"RawFeaturesExplanations\", \"RawFeaturesExplanations\", \"BestRunExplainModel\"]}]}, {\"name\": \"experiment_status_description\", \"run_id\": \"AutoML_d9ba78e5-a8a7-42bb-bd1c-0e1d330dae19\", \"categories\": [0, 1, 2, 3, 4, 5, 6, 7, 8, 9, 10, 11, 12, 13], \"series\": [{\"data\": [\"Gathering dataset statistics.\", \"Generating features for the dataset.\", \"Beginning to fit featurizers and featurize the dataset.\", \"Completed fit featurizers and featurizing the dataset.\", \"Generating individually featurized CV splits.\", \"Beginning model selection.\", \"Best run model explanations started\", \"Model explanations data setup completed\", \"Choosing LightGBM as the surrogate model for explanations\", \"Computation of engineered features started\", \"Computation of engineered features completed\", \"Computation of raw features started\", \"Computation of raw features completed\", \"Best run model explanations completed\"]}]}, {\"name\": \"recall_score_micro\", \"run_id\": \"AutoML_d9ba78e5-a8a7-42bb-bd1c-0e1d330dae19\", \"categories\": [0], \"series\": [{\"data\": [0.8181595631159375]}]}, {\"name\": \"balanced_accuracy\", \"run_id\": \"AutoML_d9ba78e5-a8a7-42bb-bd1c-0e1d330dae19\", \"categories\": [0], \"series\": [{\"data\": [0.7869402641709139]}]}, {\"name\": \"AUC_weighted\", \"run_id\": \"AutoML_d9ba78e5-a8a7-42bb-bd1c-0e1d330dae19\", \"categories\": [0], \"series\": [{\"data\": [0.850959688603736]}]}, {\"name\": \"precision_score_macro\", \"run_id\": \"AutoML_d9ba78e5-a8a7-42bb-bd1c-0e1d330dae19\", \"categories\": [0], \"series\": [{\"data\": [0.8276314349103322]}]}, {\"name\": \"average_precision_score_macro\", \"run_id\": \"AutoML_d9ba78e5-a8a7-42bb-bd1c-0e1d330dae19\", \"categories\": [0], \"series\": [{\"data\": [0.845856623750738]}]}, {\"name\": \"recall_score_macro\", \"run_id\": \"AutoML_d9ba78e5-a8a7-42bb-bd1c-0e1d330dae19\", \"categories\": [0], \"series\": [{\"data\": [0.7869402641709139]}]}, {\"name\": \"average_precision_score_weighted\", \"run_id\": \"AutoML_d9ba78e5-a8a7-42bb-bd1c-0e1d330dae19\", \"categories\": [0], \"series\": [{\"data\": [0.8521567215077799]}]}, {\"name\": \"f1_score_micro\", \"run_id\": \"AutoML_d9ba78e5-a8a7-42bb-bd1c-0e1d330dae19\", \"categories\": [0], \"series\": [{\"data\": [0.8181595631159375]}]}, {\"name\": \"average_precision_score_micro\", \"run_id\": \"AutoML_d9ba78e5-a8a7-42bb-bd1c-0e1d330dae19\", \"categories\": [0], \"series\": [{\"data\": [0.8463003722704517]}]}, {\"name\": \"AUC_macro\", \"run_id\": \"AutoML_d9ba78e5-a8a7-42bb-bd1c-0e1d330dae19\", \"categories\": [0], \"series\": [{\"data\": [0.850959688603736]}]}, {\"name\": \"AUC_micro\", \"run_id\": \"AutoML_d9ba78e5-a8a7-42bb-bd1c-0e1d330dae19\", \"categories\": [0], \"series\": [{\"data\": [0.868491111082383]}]}, {\"name\": \"log_loss\", \"run_id\": \"AutoML_d9ba78e5-a8a7-42bb-bd1c-0e1d330dae19\", \"categories\": [0], \"series\": [{\"data\": [0.46579979163532065]}]}, {\"name\": \"f1_score_weighted\", \"run_id\": \"AutoML_d9ba78e5-a8a7-42bb-bd1c-0e1d330dae19\", \"categories\": [0], \"series\": [{\"data\": [0.8119312944907797]}]}, {\"name\": \"matthews_correlation\", \"run_id\": \"AutoML_d9ba78e5-a8a7-42bb-bd1c-0e1d330dae19\", \"categories\": [0], \"series\": [{\"data\": [0.6128520388202781]}]}, {\"name\": \"weighted_accuracy\", \"run_id\": \"AutoML_d9ba78e5-a8a7-42bb-bd1c-0e1d330dae19\", \"categories\": [0], \"series\": [{\"data\": [0.8452224460338058]}]}, {\"name\": \"precision_score_micro\", \"run_id\": \"AutoML_d9ba78e5-a8a7-42bb-bd1c-0e1d330dae19\", \"categories\": [0], \"series\": [{\"data\": [0.8181595631159375]}]}, {\"name\": \"recall_score_weighted\", \"run_id\": \"AutoML_d9ba78e5-a8a7-42bb-bd1c-0e1d330dae19\", \"categories\": [0], \"series\": [{\"data\": [0.8181595631159375]}]}, {\"name\": \"f1_score_macro\", \"run_id\": \"AutoML_d9ba78e5-a8a7-42bb-bd1c-0e1d330dae19\", \"categories\": [0], \"series\": [{\"data\": [0.7954575826160243]}]}, {\"name\": \"norm_macro_recall\", \"run_id\": \"AutoML_d9ba78e5-a8a7-42bb-bd1c-0e1d330dae19\", \"categories\": [0], \"series\": [{\"data\": [0.5738805283418278]}]}, {\"name\": \"precision_score_weighted\", \"run_id\": \"AutoML_d9ba78e5-a8a7-42bb-bd1c-0e1d330dae19\", \"categories\": [0], \"series\": [{\"data\": [0.8272042762002467]}]}, {\"name\": \"accuracy\", \"run_id\": \"AutoML_d9ba78e5-a8a7-42bb-bd1c-0e1d330dae19\", \"categories\": [0], \"series\": [{\"data\": [0.8181595631159375]}]}], \"run_logs\": \"\\nRun is completed.\", \"graph\": {}, \"widget_settings\": {\"childWidgetDisplay\": \"popup\", \"send_telemetry\": false, \"log_level\": \"INFO\", \"sdk_version\": \"1.20.0\"}, \"loading\": false}"
          },
          "metadata": {}
        }
      ],
      "execution_count": 14,
      "metadata": {
        "gather": {
          "logged": 1612341996517
        },
        "jupyter": {
          "outputs_hidden": false,
          "source_hidden": false
        },
        "nteract": {
          "transient": {
            "deleting": false
          }
        }
      }
    },
    {
      "cell_type": "markdown",
      "source": [
        "## Best Model\n",
        "\n",
        "TODO: In the cell below, get the best model from the automl experiments and display all the properties of the model.\n",
        "\n"
      ],
      "metadata": {}
    },
    {
      "cell_type": "code",
      "source": [
        "best_run_auto, best_model = remote_run.get_output()\n",
        "print(best_run_auto.get_tags())\n",
        "print(\"best run auto:\", best_run_auto)\n",
        "print(\"best model:\", best_model)"
      ],
      "outputs": [
        {
          "output_type": "stream",
          "name": "stderr",
          "text": [
            "WARNING:root:The version of the SDK does not match the version the model was trained on.\n",
            "WARNING:root:The consistency in the result may not be guaranteed.\n",
            "WARNING:root:Package:azureml-automl-core, training version:1.21.0, current version:1.20.0\n",
            "Package:azureml-automl-runtime, training version:1.21.0, current version:1.20.0\n",
            "Package:azureml-core, training version:1.21.0.post1, current version:1.20.0\n",
            "Package:azureml-dataprep, training version:2.8.2, current version:2.7.3\n",
            "Package:azureml-dataprep-native, training version:28.0.0, current version:27.0.0\n",
            "Package:azureml-dataprep-rslex, training version:1.6.0, current version:1.5.0\n",
            "Package:azureml-dataset-runtime, training version:1.21.0, current version:1.20.0\n",
            "Package:azureml-defaults, training version:1.21.0, current version:1.20.0\n",
            "Package:azureml-interpret, training version:1.21.0, current version:1.20.0\n",
            "Package:azureml-pipeline-core, training version:1.21.0, current version:1.20.0\n",
            "Package:azureml-telemetry, training version:1.21.0, current version:1.20.0\n",
            "Package:azureml-train-automl-client, training version:1.21.0, current version:1.20.0\n",
            "Package:azureml-train-automl-runtime, training version:1.21.0, current version:1.20.0\n",
            "WARNING:root:Please ensure the version of your local conda dependencies match the version on which your model was trained in order to properly retrieve your model.\n"
          ]
        },
        {
          "output_type": "stream",
          "name": "stdout",
          "text": [
            "{'_aml_system_azureml.automlComponent': 'AutoML', '_aml_system_ComputeTargetStatus': '{\"AllocationState\":\"steady\",\"PreparingNodeCount\":0,\"RunningNodeCount\":5,\"CurrentNodeCount\":5}', 'ensembled_iterations': '[6, 1, 9, 22, 33, 11, 26, 0, 10, 16]', 'ensembled_algorithms': \"['LightGBM', 'XGBoostClassifier', 'LogisticRegression', 'LightGBM', 'LightGBM', 'LightGBM', 'LightGBM', 'LightGBM', 'RandomForest', 'LightGBM']\", 'ensemble_weights': '[0.16666666666666666, 0.08333333333333333, 0.08333333333333333, 0.08333333333333333, 0.08333333333333333, 0.16666666666666666, 0.08333333333333333, 0.08333333333333333, 0.08333333333333333, 0.08333333333333333]', 'best_individual_pipeline_score': '0.8046764170485219', 'best_individual_iteration': '6', '_aml_system_automl_is_child_run_end_telemetry_event_logged': 'True', 'model_explain_run_id': 'AutoML_d9ba78e5-a8a7-42bb-bd1c-0e1d330dae19_ModelExplain', 'model_explanation': 'True'}\n",
            "best run auto: Run(Experiment: Titanic_project,\n",
            "Id: AutoML_d9ba78e5-a8a7-42bb-bd1c-0e1d330dae19_38,\n",
            "Type: azureml.scriptrun,\n",
            "Status: Completed)\n",
            "best model: Pipeline(memory=None,\n",
            "         steps=[('datatransformer',\n",
            "                 DataTransformer(enable_dnn=None, enable_feature_sweeping=None,\n",
            "                                 feature_sweeping_config=None,\n",
            "                                 feature_sweeping_timeout=None,\n",
            "                                 featurization_config=None, force_text_dnn=None,\n",
            "                                 is_cross_validation=None,\n",
            "                                 is_onnx_compatible=None, logger=None,\n",
            "                                 observer=None, task=None, working_dir=None)),\n",
            "                ('prefittedsoftvotingclassifier',...\n",
            "                                                                                                reg_lambda=0.05263157894736842,\n",
            "                                                                                                silent=True,\n",
            "                                                                                                subsample=1,\n",
            "                                                                                                subsample_for_bin=200000,\n",
            "                                                                                                subsample_freq=0,\n",
            "                                                                                                verbose=-10))],\n",
            "                                                                     verbose=False))],\n",
            "                                               flatten_transform=None,\n",
            "                                               weights=[0.16666666666666666,\n",
            "                                                        0.08333333333333333,\n",
            "                                                        0.08333333333333333,\n",
            "                                                        0.08333333333333333,\n",
            "                                                        0.08333333333333333,\n",
            "                                                        0.16666666666666666,\n",
            "                                                        0.08333333333333333,\n",
            "                                                        0.08333333333333333,\n",
            "                                                        0.08333333333333333,\n",
            "                                                        0.08333333333333333]))],\n",
            "         verbose=False)\n"
          ]
        }
      ],
      "execution_count": 21,
      "metadata": {
        "gather": {
          "logged": 1612344297682
        },
        "jupyter": {
          "outputs_hidden": false,
          "source_hidden": false
        },
        "nteract": {
          "transient": {
            "deleting": false
          }
        }
      }
    },
    {
      "cell_type": "markdown",
      "source": [
        "## Model Deployment\n",
        "\n",
        "Remember you have to deploy only one of the two models you trained.. Perform the steps in the rest of this notebook only if you wish to deploy this model.\n",
        "\n",
        "TODO: In the cell below, register the model, create an inference config and deploy the model as a web service."
      ],
      "metadata": {}
    },
    {
      "cell_type": "code",
      "source": [
        "description = 'Titanic survival AutoML model'\n",
        "joblib.dump(value = best_model, filename = \"titanic-survival-model.pkl\")\n",
        "model = Model.register(model_name='titanic-survival-model', \n",
        "                                     description = description, \n",
        "                                     model_path = 'titanic-survival-model.pkl', \n",
        "                                     tags={'area': 'titanic'}, \n",
        "                                     model_framework=Model.Framework.SCIKITLEARN, \n",
        "                                     model_framework_version='0.20.1',\n",
        "                                     workspace = ws)\n",
        "\n",
        "print(model)\n",
        "print(model.name, model.id, model.version, sep=' --- ')"
      ],
      "outputs": [
        {
          "output_type": "stream",
          "name": "stdout",
          "text": [
            "Registering model titanic-survival-model\n",
            "Model(workspace=Workspace.create(name='quick-starts-ws-137056', subscription_id='976ee174-3882-4721-b90a-b5fef6b72f24', resource_group='aml-quickstarts-137056'), name=titanic-survival-model, id=titanic-survival-model:1, version=1, tags={'area': 'titanic'}, properties={})\n",
            "titanic-survival-model --- titanic-survival-model:1 --- 1\n"
          ]
        }
      ],
      "execution_count": 27,
      "metadata": {
        "gather": {
          "logged": 1612344554411
        }
      }
    },
    {
      "cell_type": "code",
      "source": [
        "\"\"\"\n",
        "aci_config = AciWebservice.deploy_configuration(cpu_cores=1, \n",
        "                                                memory_gb=2,\n",
        "                                                enable_app_insights=True, # standout suggestion\n",
        "                                                auth_enabled=True)  \n",
        "\n",
        "service_name = 'titanic-survival-service'\n",
        "\n",
        "service = Model.deploy(ws, service_name, [model], deployment_config=aci_config)\n",
        "\n",
        "service.wait_for_deployment(show_output = True)\n",
        "\n",
        "print(service.state)\n",
        "print(\"scoring URI: \" + service.scoring_uri)\n",
        "print(service.get_logs())\n",
        "\"\"\""
      ],
      "outputs": [],
      "execution_count": null,
      "metadata": {}
    },
    {
      "cell_type": "code",
      "source": [
        "# create environment\n",
        "myenv = Environment.get(workspace=ws, name=\"AzureML-AutoML\")\n",
        "print(myenv.python.conda_dependencies.serialize_to_string())"
      ],
      "outputs": [
        {
          "output_type": "stream",
          "name": "stdout",
          "text": [
            "channels:\n",
            "- anaconda\n",
            "- conda-forge\n",
            "- pytorch\n",
            "dependencies:\n",
            "- python=3.6.2\n",
            "- pip=20.2.4\n",
            "- pip:\n",
            "  - azureml-core==1.21.0.post1\n",
            "  - azureml-pipeline-core==1.21.0\n",
            "  - azureml-telemetry==1.21.0\n",
            "  - azureml-defaults==1.21.0\n",
            "  - azureml-interpret==1.21.0\n",
            "  - azureml-automl-core==1.21.0\n",
            "  - azureml-automl-runtime==1.21.0\n",
            "  - azureml-train-automl-client==1.21.0\n",
            "  - azureml-train-automl-runtime==1.21.0.post1\n",
            "  - azureml-dataset-runtime==1.21.0\n",
            "  - inference-schema\n",
            "  - py-cpuinfo==5.0.0\n",
            "  - boto3==1.15.18\n",
            "  - botocore==1.18.18\n",
            "- numpy~=1.18.0\n",
            "- scikit-learn==0.22.1\n",
            "- pandas~=0.25.0\n",
            "- py-xgboost<=0.90\n",
            "- fbprophet==0.5\n",
            "- holidays==0.9.11\n",
            "- setuptools-git\n",
            "- psutil>5.0.0,<6.0.0\n",
            "name: azureml_7ade26eb614f97df8030bc480da59236\n",
            "\n"
          ]
        }
      ],
      "execution_count": 28,
      "metadata": {
        "gather": {
          "logged": 1612344561993
        }
      }
    },
    {
      "cell_type": "code",
      "source": [
        "# If one needs to add packages\n",
        "#for pip_package in [\"scikit-learn\"]:\n",
        "#    myenv.python.conda_dependencies.add_pip_package(pip_package)\n",
        "#for pip_package in [\"xgboost\"]:\n",
        "#    myenv.python.conda_dependencies.add_pip_package(pip_package)    "
      ],
      "outputs": [],
      "execution_count": null,
      "metadata": {
        "gather": {
          "logged": 1612251936639
        }
      }
    },
    {
      "cell_type": "code",
      "source": [
        "inference_config = InferenceConfig(entry_script=\"score.py\",\n",
        "                                   environment=myenv)"
      ],
      "outputs": [],
      "execution_count": 29,
      "metadata": {
        "gather": {
          "logged": 1612344570201
        }
      }
    },
    {
      "cell_type": "code",
      "source": [
        "deployment_config = AciWebservice.deploy_configuration(cpu_cores = 1,\n",
        "                                                       memory_gb = 1,\n",
        "                                                       auth_enabled = True,\n",
        "                                                      enable_app_insights=True)\n",
        "\n",
        "service = Model.deploy(\n",
        "    workspace = ws, \n",
        "    name = 'titanic-deployment-service', \n",
        "    models = [model], \n",
        "    inference_config = inference_config, \n",
        "    deployment_config = deployment_config)\n",
        "\n",
        "service.wait_for_deployment(True)\n",
        "\n",
        "print(service.state)\n",
        "print(\"scoring URI: \" + service.scoring_uri)\n",
        "print(service.get_logs())"
      ],
      "outputs": [
        {
          "output_type": "stream",
          "name": "stdout",
          "text": [
            "Tips: You can try get_logs(): https://aka.ms/debugimage#dockerlog or local deployment: https://aka.ms/debugimage#debug-locally to debug if deployment takes longer than 10 minutes.\n",
            "Running...............................................\n",
            "Succeeded\n",
            "ACI service creation operation finished, operation \"Succeeded\"\n",
            "Healthy\n",
            "scoring URI: http://a7b78050-71ac-4850-a17d-65713d9d1939.southcentralus.azurecontainer.io/score\n",
            "2021-02-03T10:04:19,240502967+00:00 - gunicorn/run \n",
            "2021-02-03T10:04:19,242030779+00:00 - iot-server/run \n",
            "2021-02-03T10:04:19,242672584+00:00 - nginx/run \n",
            "/usr/sbin/nginx: /azureml-envs/azureml_7ade26eb614f97df8030bc480da59236/lib/libcrypto.so.1.0.0: no version information available (required by /usr/sbin/nginx)\n",
            "/usr/sbin/nginx: /azureml-envs/azureml_7ade26eb614f97df8030bc480da59236/lib/libcrypto.so.1.0.0: no version information available (required by /usr/sbin/nginx)\n",
            "/usr/sbin/nginx: /azureml-envs/azureml_7ade26eb614f97df8030bc480da59236/lib/libssl.so.1.0.0: no version information available (required by /usr/sbin/nginx)\n",
            "/usr/sbin/nginx: /azureml-envs/azureml_7ade26eb614f97df8030bc480da59236/lib/libssl.so.1.0.0: no version information available (required by /usr/sbin/nginx)\n",
            "/usr/sbin/nginx: /azureml-envs/azureml_7ade26eb614f97df8030bc480da59236/lib/libssl.so.1.0.0: no version information available (required by /usr/sbin/nginx)\n",
            "2021-02-03T10:04:19,261036225+00:00 - rsyslog/run \n",
            "rsyslogd: /azureml-envs/azureml_7ade26eb614f97df8030bc480da59236/lib/libuuid.so.1: no version information available (required by rsyslogd)\n",
            "EdgeHubConnectionString and IOTEDGE_IOTHUBHOSTNAME are not set. Exiting...\n",
            "2021-02-03T10:04:19,430506227+00:00 - iot-server/finish 1 0\n",
            "2021-02-03T10:04:19,431819337+00:00 - Exit code 1 is normal. Not restarting iot-server.\n",
            "Starting gunicorn 19.9.0\n",
            "Listening at: http://127.0.0.1:31311 (15)\n",
            "Using worker: sync\n",
            "worker timeout is set to 300\n",
            "Booting worker with pid: 43\n",
            "SPARK_HOME not set. Skipping PySpark Initialization.\n",
            "Initializing logger\n",
            "2021-02-03 10:04:20,261 | root | INFO | Starting up app insights client\n",
            "2021-02-03 10:04:20,262 | root | INFO | Starting up request id generator\n",
            "2021-02-03 10:04:20,262 | root | INFO | Starting up app insight hooks\n",
            "2021-02-03 10:04:20,262 | root | INFO | Invoking user's init function\n",
            "Generating new fontManager, this may take some time...\n",
            "2021-02-03 10:04:23,344 | root | INFO | Users's init has completed successfully\n",
            "/azureml-envs/azureml_7ade26eb614f97df8030bc480da59236/lib/python3.6/site-packages/sklearn/externals/joblib/__init__.py:15: FutureWarning: sklearn.externals.joblib is deprecated in 0.21 and will be removed in 0.23. Please import this functionality directly from joblib, which can be installed with: pip install joblib. If this warning is raised when loading pickled models, you may need to re-serialize those models with scikit-learn 0.21+.\n",
            "  warnings.warn(msg, category=FutureWarning)\n",
            "2021-02-03 10:04:23,347 | root | INFO | Skipping middleware: dbg_model_info as it's not enabled.\n",
            "2021-02-03 10:04:23,348 | root | INFO | Skipping middleware: dbg_resource_usage as it's not enabled.\n",
            "2021-02-03 10:04:23,349 | root | INFO | Scoring timeout is found from os.environ: 60000 ms\n",
            "2021-02-03 10:04:30,423 | root | INFO | Swagger file not present\n",
            "2021-02-03 10:04:30,423 | root | INFO | 404\n",
            "127.0.0.1 - - [03/Feb/2021:10:04:30 +0000] \"GET /swagger.json HTTP/1.0\" 404 19 \"-\" \"Go-http-client/1.1\"\n",
            "2021-02-03 10:04:35,670 | root | INFO | Swagger file not present\n",
            "2021-02-03 10:04:35,671 | root | INFO | 404\n",
            "127.0.0.1 - - [03/Feb/2021:10:04:35 +0000] \"GET /swagger.json HTTP/1.0\" 404 19 \"-\" \"Go-http-client/1.1\"\n",
            "\n"
          ]
        }
      ],
      "execution_count": 37,
      "metadata": {
        "gather": {
          "logged": 1612346676130
        }
      }
    },
    {
      "cell_type": "markdown",
      "source": [
        "TODO: In the cell below, send a request to the web service you deployed to test it."
      ],
      "metadata": {
        "collapsed": true,
        "gather": {
          "logged": 1598431657736
        },
        "jupyter": {
          "outputs_hidden": false,
          "source_hidden": false
        },
        "nteract": {
          "transient": {
            "deleting": false
          }
        }
      }
    },
    {
      "cell_type": "code",
      "source": [
        "scoring_uri = 'http://a7b78050-71ac-4850-a17d-65713d9d1939.southcentralus.azurecontainer.io/score'\n",
        "key = '2MoQ6XiUy9ejWNOATBnFIDrWnxtZGpQP'\n",
        "\n",
        "# Two sets of data to score, so we get two results back\n",
        "data = {\"data\":\n",
        "        [\n",
        "          {\n",
        "            \"PassengerId\": 1709,\n",
        "            \"Pclass\": 1,\n",
        "            \"Sex\": 0,\n",
        "            \"SibSp\": 1,\n",
        "            \"Parch\": 0,\n",
        "            \"Fare\": 36.05,\n",
        "            \"FamilySize\": 1,\n",
        "            \"IsAlone\": 0\n",
        "          },\n",
        "          {\n",
        "            \"PassengerId\": 1807,\n",
        "            \"Pclass\": 3,\n",
        "            \"Sex\":1,\n",
        "            \"SibSp\":0,\n",
        "            \"Parch\":0,\n",
        "            \"Fare\": 72.08,\n",
        "            \"FamilySize\": 1,\n",
        "            \"IsAlone\":1\n",
        "          }\n",
        "      ]\n",
        "    }\n",
        "# Convert to JSON string\n",
        "input_data = json.dumps(data)\n",
        "with open(\"data.json\", \"w\") as _f:\n",
        "    _f.write(input_data)\n",
        "    \n",
        "# Set the content type\n",
        "headers = {'Content-Type': 'application/json'}\n",
        "# If authentication is enabled, set the authorization header\n",
        "headers['Authorization'] = f'Bearer {key}'\n",
        "\n",
        "# Make the request and display the response\n",
        "resp = requests.post(scoring_uri, input_data, headers=headers)\n",
        "print(resp.text)"
      ],
      "outputs": [
        {
          "output_type": "stream",
          "name": "stdout",
          "text": [
            "Unauthorized, no token matched\n"
          ]
        }
      ],
      "execution_count": 54,
      "metadata": {
        "gather": {
          "logged": 1612348608928
        },
        "jupyter": {
          "outputs_hidden": false,
          "source_hidden": false
        },
        "nteract": {
          "transient": {
            "deleting": false
          }
        }
      }
    },
    {
      "cell_type": "markdown",
      "source": [
        "TODO: In the cell below, print the logs of the web service and delete the service"
      ],
      "metadata": {
        "collapsed": true,
        "gather": {
          "logged": 1598432765711
        },
        "jupyter": {
          "outputs_hidden": false,
          "source_hidden": false
        },
        "nteract": {
          "transient": {
            "deleting": false
          }
        }
      }
    },
    {
      "cell_type": "code",
      "source": [
        "# standout suggestion - logging for the deployed service\n",
        "\n",
        "logs = service.get_logs()\n",
        "\n",
        "for line in logs.split('\\n'):\n",
        "    print(line)"
      ],
      "outputs": [
        {
          "output_type": "stream",
          "name": "stdout",
          "text": [
            "2021-02-03T10:04:19,240502967+00:00 - gunicorn/run \n",
            "2021-02-03T10:04:19,242030779+00:00 - iot-server/run \n",
            "2021-02-03T10:04:19,242672584+00:00 - nginx/run \n",
            "/usr/sbin/nginx: /azureml-envs/azureml_7ade26eb614f97df8030bc480da59236/lib/libcrypto.so.1.0.0: no version information available (required by /usr/sbin/nginx)\n",
            "/usr/sbin/nginx: /azureml-envs/azureml_7ade26eb614f97df8030bc480da59236/lib/libcrypto.so.1.0.0: no version information available (required by /usr/sbin/nginx)\n",
            "/usr/sbin/nginx: /azureml-envs/azureml_7ade26eb614f97df8030bc480da59236/lib/libssl.so.1.0.0: no version information available (required by /usr/sbin/nginx)\n",
            "/usr/sbin/nginx: /azureml-envs/azureml_7ade26eb614f97df8030bc480da59236/lib/libssl.so.1.0.0: no version information available (required by /usr/sbin/nginx)\n",
            "/usr/sbin/nginx: /azureml-envs/azureml_7ade26eb614f97df8030bc480da59236/lib/libssl.so.1.0.0: no version information available (required by /usr/sbin/nginx)\n",
            "2021-02-03T10:04:19,261036225+00:00 - rsyslog/run \n",
            "rsyslogd: /azureml-envs/azureml_7ade26eb614f97df8030bc480da59236/lib/libuuid.so.1: no version information available (required by rsyslogd)\n",
            "EdgeHubConnectionString and IOTEDGE_IOTHUBHOSTNAME are not set. Exiting...\n",
            "2021-02-03T10:04:19,430506227+00:00 - iot-server/finish 1 0\n",
            "2021-02-03T10:04:19,431819337+00:00 - Exit code 1 is normal. Not restarting iot-server.\n",
            "Starting gunicorn 19.9.0\n",
            "Listening at: http://127.0.0.1:31311 (15)\n",
            "Using worker: sync\n",
            "worker timeout is set to 300\n",
            "Booting worker with pid: 43\n",
            "SPARK_HOME not set. Skipping PySpark Initialization.\n",
            "Initializing logger\n",
            "2021-02-03 10:04:20,261 | root | INFO | Starting up app insights client\n",
            "2021-02-03 10:04:20,262 | root | INFO | Starting up request id generator\n",
            "2021-02-03 10:04:20,262 | root | INFO | Starting up app insight hooks\n",
            "2021-02-03 10:04:20,262 | root | INFO | Invoking user's init function\n",
            "Generating new fontManager, this may take some time...\n",
            "2021-02-03 10:04:23,344 | root | INFO | Users's init has completed successfully\n",
            "/azureml-envs/azureml_7ade26eb614f97df8030bc480da59236/lib/python3.6/site-packages/sklearn/externals/joblib/__init__.py:15: FutureWarning: sklearn.externals.joblib is deprecated in 0.21 and will be removed in 0.23. Please import this functionality directly from joblib, which can be installed with: pip install joblib. If this warning is raised when loading pickled models, you may need to re-serialize those models with scikit-learn 0.21+.\n",
            "  warnings.warn(msg, category=FutureWarning)\n",
            "2021-02-03 10:04:23,347 | root | INFO | Skipping middleware: dbg_model_info as it's not enabled.\n",
            "2021-02-03 10:04:23,348 | root | INFO | Skipping middleware: dbg_resource_usage as it's not enabled.\n",
            "2021-02-03 10:04:23,349 | root | INFO | Scoring timeout is found from os.environ: 60000 ms\n",
            "2021-02-03 10:04:30,423 | root | INFO | Swagger file not present\n",
            "2021-02-03 10:04:30,423 | root | INFO | 404\n",
            "127.0.0.1 - - [03/Feb/2021:10:04:30 +0000] \"GET /swagger.json HTTP/1.0\" 404 19 \"-\" \"Go-http-client/1.1\"\n",
            "2021-02-03 10:04:35,670 | root | INFO | Swagger file not present\n",
            "2021-02-03 10:04:35,671 | root | INFO | 404\n",
            "127.0.0.1 - - [03/Feb/2021:10:04:35 +0000] \"GET /swagger.json HTTP/1.0\" 404 19 \"-\" \"Go-http-client/1.1\"\n",
            "2021-02-03 10:08:47,207 | root | INFO | Swagger file not present\n",
            "2021-02-03 10:08:47,207 | root | INFO | 404\n",
            "127.0.0.1 - - [03/Feb/2021:10:08:47 +0000] \"GET /swagger.json HTTP/1.0\" 404 19 \"-\" \"Go-http-client/1.1\"\n",
            "\n"
          ]
        }
      ],
      "execution_count": 44,
      "metadata": {
        "jupyter": {
          "outputs_hidden": false,
          "source_hidden": false
        },
        "nteract": {
          "transient": {
            "deleting": false
          }
        },
        "gather": {
          "logged": 1612347908580
        }
      }
    },
    {
      "cell_type": "code",
      "source": [
        "# delete service\n",
        "service.delete()"
      ],
      "outputs": [],
      "execution_count": null,
      "metadata": {}
    },
    {
      "cell_type": "code",
      "source": [
        "# Standout action: create and publish pipeline\n",
        "ds = ws.get_default_datastore()\n",
        "metrics_output_name = 'metrics_output'\n",
        "best_model_output_name = 'best_model_output'\n",
        "\n",
        "metrics_data = PipelineData(name='metrics_data',\n",
        "                           datastore=ds,\n",
        "                           pipeline_output_name=metrics_output_name,\n",
        "                           training_output=TrainingOutput(type='Metrics'))\n",
        "model_data = PipelineData(name='model_data',\n",
        "                           datastore=ds,\n",
        "                           pipeline_output_name=best_model_output_name,\n",
        "                           training_output=TrainingOutput(type='Model'))\n",
        "\n",
        "automl_step = AutoMLStep(\n",
        "    name='automl_module',\n",
        "    automl_config=automl_config,\n",
        "    outputs=[metrics_data, model_data],\n",
        "    allow_reuse=True)\n",
        "\n",
        "pipeline = Pipeline(\n",
        "    description=\"pipeline_with_automlstep\",\n",
        "    workspace=ws,    \n",
        "    steps=[automl_step])\n",
        "\n",
        "pipeline_run = experiment.submit(pipeline)"
      ],
      "outputs": [],
      "execution_count": null,
      "metadata": {}
    },
    {
      "cell_type": "code",
      "source": [
        "RunDetails(pipeline_run).show()"
      ],
      "outputs": [],
      "execution_count": null,
      "metadata": {}
    },
    {
      "cell_type": "code",
      "source": [
        "pipeline_run.wait_for_completion()"
      ],
      "outputs": [],
      "execution_count": null,
      "metadata": {}
    },
    {
      "cell_type": "code",
      "source": [
        "# save the best model\n",
        "best_model_output = pipeline_run.get_pipeline_output(best_model_output_name)\n",
        "num_file_downloaded = best_model_output.download('.', show_progress=True)\n",
        "\n",
        "with open(best_model_output._path_on_datastore, \"rb\" ) as f:\n",
        "    best_model = pickle.load(f)\n",
        "best_model"
      ],
      "outputs": [],
      "execution_count": null,
      "metadata": {}
    },
    {
      "cell_type": "code",
      "source": [
        "best_model.steps"
      ],
      "outputs": [],
      "execution_count": null,
      "metadata": {}
    },
    {
      "cell_type": "code",
      "source": [
        "published_pipeline = pipeline_run.publish_pipeline(\n",
        "    name=\"Titanic_survival\", description=\"Titanic Survival pipeline\", version=\"1.0\")\n",
        "\n",
        "published_pipeline"
      ],
      "outputs": [],
      "execution_count": null,
      "metadata": {}
    },
    {
      "cell_type": "code",
      "source": [
        "interactive_auth = InteractiveLoginAuthentication()\n",
        "auth_header = interactive_auth.get_authentication_header()"
      ],
      "outputs": [],
      "execution_count": null,
      "metadata": {}
    },
    {
      "cell_type": "code",
      "source": [
        "rest_endpoint = published_pipeline.endpoint\n",
        "response = requests.post(rest_endpoint, \n",
        "                         headers=auth_header, \n",
        "                         json={\"ExperimentName\": \"pipeline-rest-endpoint\"}\n",
        "                        )"
      ],
      "outputs": [],
      "execution_count": null,
      "metadata": {}
    },
    {
      "cell_type": "code",
      "source": [
        "try:\n",
        "    response.raise_for_status()\n",
        "except Exception:    \n",
        "    raise Exception(\"Received bad response from the endpoint: {}\\n\"\n",
        "                    \"Response Code: {}\\n\"\n",
        "                    \"Headers: {}\\n\"\n",
        "                    \"Content: {}\".format(rest_endpoint, response.status_code, response.headers, response.content))\n",
        "\n",
        "run_id = response.json().get('Id')\n",
        "print('Submitted pipeline run: ', run_id)\n"
      ],
      "outputs": [],
      "execution_count": null,
      "metadata": {}
    },
    {
      "cell_type": "code",
      "source": [
        "published_pipeline_run = PipelineRun(ws.experiments[\"pipeline-rest-endpoint\"], run_id)\n",
        "RunDetails(published_pipeline_run).show()"
      ],
      "outputs": [],
      "execution_count": null,
      "metadata": {}
    }
  ],
  "metadata": {
    "kernel_info": {
      "name": "python3"
    },
    "kernelspec": {
      "name": "python3",
      "language": "python",
      "display_name": "Python 3"
    },
    "language_info": {
      "name": "python",
      "version": "3.6.9",
      "mimetype": "text/x-python",
      "codemirror_mode": {
        "name": "ipython",
        "version": 3
      },
      "pygments_lexer": "ipython3",
      "nbconvert_exporter": "python",
      "file_extension": ".py"
    },
    "nteract": {
      "version": "nteract-front-end@1.0.0"
    }
  },
  "nbformat": 4,
  "nbformat_minor": 2
}